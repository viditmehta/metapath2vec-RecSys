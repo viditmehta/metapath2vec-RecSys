{
 "cells": [
  {
   "cell_type": "code",
   "execution_count": 2,
   "metadata": {},
   "outputs": [
    {
     "name": "stdout",
     "output_type": "stream",
     "text": [
      "Welcome to Network Input File Generation\n",
      "Success\n"
     ]
    }
   ],
   "source": [
    "import pyodbc\n",
    "print(\"Welcome to Network Input File Generation\")\n",
    "filename1 = 'C:/Vidit/PhD/RA Work/KZ - RA/Gaming Project/data/Files/id_user.txt'\n",
    "filename2 = 'C:/Vidit/PhD/RA Work/KZ - RA/Gaming Project/data/Files/id_game.txt'\n",
    "filename3 = 'C:/Vidit/PhD/RA Work/KZ - RA/Gaming Project/data/Files/id_item.txt'\n",
    "filename4 = 'C:/Vidit/PhD/RA Work/KZ - RA/Gaming Project/data/Files/game_user.txt'\n",
    "filename5 = 'C:/Vidit/PhD/RA Work/KZ - RA/Gaming Project/data/Files/item_user.txt'\n",
    "filename6 = 'C:/Vidit/PhD/RA Work/KZ - RA/Gaming Project/data/Files/item_game.txt'\n",
    "filename7 = 'C:/Vidit/PhD/RA Work/KZ - RA/Gaming Project/data/Files/user_friend.txt'\n",
    "filename8 = 'C:/Vidit/PhD/RA Work/KZ - RA/Gaming Project/data/Files/group_user.txt'\n",
    "filename9 = 'C:/Vidit/PhD/RA Work/KZ - RA/Gaming Project/data/Files/test2days_item_user.txt'\n",
    "filename10 = 'C:/Vidit/PhD/RA Work/KZ - RA/Gaming Project/data/Files/test4days_item_user.txt'\n",
    "filename11 = 'C:/Vidit/PhD/RA Work/KZ - RA/Gaming Project/data/Files/test10days_item_user.txt'\n",
    "connection = pyodbc.connect('Driver={SQL Server Native Client 11.0};Server=localhost;Database=Gaming;Trusted_Connection=yes')\n",
    "cursor=connection.cursor()\n",
    "cmd1=(\"select distinct uid from user_training order by uid\")\n",
    "cmd2=(\"select distinct gameid, game_name from game_info order by gameid\")\n",
    "cmd3=(\"select distinct CAST(itemid AS VARCHAR) as itemid from deal_tab where activatedtime > '2014-03-22' and activatedtime < '2014-04-12' union select distinct item_id from shop_txn where time_stamp > '2014-03-22' and time_stamp < '2014-04-12'\")\n",
    "cmd4=(\"select distinct g.gameid, g.uid from game_start_log g join user_training u on g.uid = u.uid order by g.gameid\")\n",
    "cmd5=(\"select distinct itemid, uid from item_user order by uid\")\n",
    "cmd6=(\"select distinct itemid, gameid from item_game order by gameid\")\n",
    "cmd7=(\"select distinct uid, buddyid from friend_data order by uid\")\n",
    "cmd8=(\"select distinct groupid, uid from group_data order by groupid\")\n",
    "cmd9=(\"select distinct itemid, uid from test2Days_item_user order by uid\")\n",
    "cmd10=(\"select distinct itemid, uid from test4Days_item_user order by uid\")\n",
    "cmd11=(\"select distinct itemid, uid from test10Days_item_user order by uid\")\n",
    "cursor.execute(cmd1)\n",
    "results = cursor.fetchall()\n",
    "result = [x[0] for x in results]\n",
    "a = 1\n",
    "with open(filename1,'w') as f1:\n",
    "    for user_id in result:\n",
    "        f1.write(str(user_id) + \"\\t\" + \"uUser\" + str(a) + \"\\n\")\n",
    "        a = a + 1\n",
    "f1.close()\n",
    "cursor.execute(cmd2)\n",
    "result = cursor.fetchall()\n",
    "with open(filename2,'w') as f2:\n",
    "    for game_id,game_name in result:\n",
    "        f2.write(str(game_id) + \"\\t\" + \"g\" + game_name + \"\\n\")\n",
    "f2.close()\n",
    "cursor.execute(cmd3)\n",
    "results = cursor.fetchall()\n",
    "result = [x[0] for x in results]\n",
    "b = 1\n",
    "with open(filename3,'w') as f3:\n",
    "    for item_id in result:\n",
    "        f3.write(str(item_id) + \"\\t\" + \"iItem\" + str(b) + \"\\n\")\n",
    "        b = b + 1\n",
    "f3.close()\n",
    "cursor.execute(cmd4)\n",
    "result = cursor.fetchall()\n",
    "with open(filename4,'w') as f4:\n",
    "    for game_id,user_id in result:\n",
    "        f4.write(str(game_id) + \"\\t\" + str(user_id) + \"\\n\")\n",
    "f4.close()\n",
    "cursor.execute(cmd5)\n",
    "result = cursor.fetchall()\n",
    "with open(filename5,'w') as f5:\n",
    "    for item_id,user_id in result:\n",
    "        f5.write(str(item_id) + \"\\t\" + str(user_id) + \"\\n\")\n",
    "f5.close()\n",
    "cursor.execute(cmd6)\n",
    "result = cursor.fetchall()\n",
    "with open(filename6,'w') as f6:\n",
    "    for item_id,game_id in result:\n",
    "        f6.write(str(item_id) + \"\\t\" + str(game_id) + \"\\n\")\n",
    "f6.close()\n",
    "cursor.execute(cmd7)\n",
    "result = cursor.fetchall()\n",
    "with open(filename7,'w') as f7:\n",
    "    for uid,buddyid in result:\n",
    "        f7.write(str(uid) + \"\\t\" + str(buddyid) + \"\\n\")\n",
    "f7.close()\n",
    "cursor.execute(cmd8)\n",
    "result = cursor.fetchall()\n",
    "with open(filename8,'w') as f8:\n",
    "    for groupid,uid in result:\n",
    "        f8.write(str(groupid) + \"\\t\" + str(uid) + \"\\n\")\n",
    "f8.close()\n",
    "cursor.execute(cmd9)\n",
    "result = cursor.fetchall()\n",
    "with open(filename9,'w') as f9:\n",
    "    for item_id,user_id in result:\n",
    "        f9.write(str(item_id) + \"\\t\" + str(user_id) + \"\\n\")\n",
    "f9.close()\n",
    "cursor.execute(cmd10)\n",
    "result = cursor.fetchall()\n",
    "with open(filename10,'w') as f10:\n",
    "    for item_id,user_id in result:\n",
    "        f10.write(str(item_id) + \"\\t\" + str(user_id) + \"\\n\")\n",
    "f10.close()\n",
    "cursor.execute(cmd11)\n",
    "result = cursor.fetchall()\n",
    "with open(filename11,'w') as f11:\n",
    "    for item_id,user_id in result:\n",
    "        f11.write(str(item_id) + \"\\t\" + str(user_id) + \"\\n\")\n",
    "f11.close()\n",
    "print(\"Success\")\n",
    "connection.commit()\n",
    "connection.close()"
   ]
  },
  {
   "cell_type": "code",
   "execution_count": 9,
   "metadata": {},
   "outputs": [
    {
     "name": "stdout",
     "output_type": "stream",
     "text": [
      "Total number of users in training file: 187398\n",
      "Number of users selected randomly: 10000\n",
      "Success\n"
     ]
    }
   ],
   "source": [
    "import random\n",
    "userset = set()\n",
    "source_training_file = 'C:/Vidit/PhD/RA Work/KZ - RA/Gaming Project/data/Files/game_user.txt'\n",
    "random_user_file = 'C:/Vidit/PhD/RA Work/KZ - RA/Gaming Project/data/Files/selected_user.txt'\n",
    "with open(source_training_file) as userfile:\n",
    "    for line in userfile:\n",
    "        toks = line.strip().split(\"\\t\")\n",
    "        userset.add(toks[1])\n",
    "print(\"Total number of users in training file:\", len(userset))\n",
    "rand_userlist = random.sample(userset, 10000)\n",
    "print(\"Number of users selected randomly:\", len(rand_userlist))\n",
    "with open(random_user_file, 'w') as f:\n",
    "    for user in rand_userlist:\n",
    "        f.write(user + \"\\n\")\n",
    "userfile.close()\n",
    "f.close()\n",
    "print(\"Success\")"
   ]
  },
  {
   "cell_type": "code",
   "execution_count": 3,
   "metadata": {},
   "outputs": [
    {
     "name": "stdout",
     "output_type": "stream",
     "text": [
      "Welcome to Network Input File Generation\n",
      "Success\n"
     ]
    }
   ],
   "source": [
    "# Creating Gaming library\n",
    "import Gaming.network_input_file as nif\n",
    "nif.generate_file('/test10days_item_user.txt', 'select distinct itemid, uid from test10Days_item_user order by uid')"
   ]
  },
  {
   "cell_type": "code",
   "execution_count": 1,
   "metadata": {},
   "outputs": [
    {
     "name": "stdout",
     "output_type": "stream",
     "text": [
      "Success\n"
     ]
    }
   ],
   "source": [
    "import pyodbc\n",
    "filename12 = 'C:/Vidit/PhD/RA Work/KZ - RA/Gaming Project/data/Files/user_gaming_sessions.txt'\n",
    "filename13 = 'C:/Vidit/PhD/RA Work/KZ - RA/Gaming Project/data/Files/item_price.txt'\n",
    "connection = pyodbc.connect('Driver={SQL Server Native Client 11.0};Server=localhost;Database=Gaming;Trusted_Connection=yes')\n",
    "cursor=connection.cursor()\n",
    "cmd12=(\"select distinct uid, gaming_sessions from user_gaming_sessions order by gaming_sessions\")\n",
    "cmd13=(\"select distinct item_id, shell_amount from item_price order by shell_amount\")\n",
    "cursor.execute(cmd12)\n",
    "result = cursor.fetchall()\n",
    "with open(filename12,'w') as f12:\n",
    "    for user_id,gaming_session in result:\n",
    "        f12.write(str(user_id) + \"\\t\" + str(gaming_session) + \"\\n\")\n",
    "f12.close()\n",
    "cursor.execute(cmd13)\n",
    "result = cursor.fetchall()\n",
    "with open(filename13,'w') as f13:\n",
    "    for item_id,shell_amount in result:\n",
    "        f13.write(str(item_id) + \"\\t\" + str(shell_amount) + \"\\n\")\n",
    "f13.close()\n",
    "print(\"Success\")\n",
    "connection.commit()\n",
    "connection.close()"
   ]
  },
  {
   "cell_type": "code",
   "execution_count": 1,
   "metadata": {},
   "outputs": [],
   "source": [
    "filepath1 = 'C:/Vidit/PhD/RA Work/KZ - RA/Gaming Project/data/Files'\n",
    "filepath2 = 'C:/Vidit/PhD/RA Work/KZ - RA/Gaming Project/data/Files/With_Headers/cluster_gaming_sessions.txt'\n",
    "filepath3 = 'C:/Vidit/PhD/RA Work/KZ - RA/Gaming Project/data/Files/With_Headers/cluster_item_prices.txt'\n",
    "with open(filepath2, 'w') as f1:\n",
    "    with open(filepath1 + \"/cluster_userid_sessions.txt\") as f2:\n",
    "        for line in f2:\n",
    "            toks = line.strip().split(\"\\t\")\n",
    "            f1.write(str(toks[0]) + \"\\t\" + str(toks[2]) + \"\\n\")\n",
    "f1.close()\n",
    "f2.close()\n",
    "with open(filepath3, 'w') as f1:\n",
    "    with open(filepath1 + \"/cluster_item_prices.txt\") as f2:\n",
    "        for line in f2:\n",
    "            toks = line.strip().split(\"\\t\")\n",
    "            if (int(toks[2])>0):\n",
    "                f1.write(str(toks[0]) + \"\\t\" + str(toks[2]) + \"\\n\")\n",
    "f1.close()\n",
    "f2.close()"
   ]
  },
  {
   "cell_type": "code",
   "execution_count": 2,
   "metadata": {},
   "outputs": [
    {
     "name": "stdout",
     "output_type": "stream",
     "text": [
      "Success\n"
     ]
    }
   ],
   "source": [
    "import pyodbc\n",
    "filename14 = 'C:/Vidit/PhD/RA Work/KZ - RA/Gaming Project/data/Files/rank_item_quantity_price_sales.txt'\n",
    "filename15 = 'C:/Vidit/PhD/RA Work/KZ - RA/Gaming Project/data/Files/cluster_item_quantity.txt'\n",
    "connection = pyodbc.connect('Driver={SQL Server Native Client 11.0};Server=localhost;Database=Gaming;Trusted_Connection=yes')\n",
    "cursor=connection.cursor()\n",
    "cmd14=(\"select * from item_quantity_price_sales order by item_quantity desc\")\n",
    "cmd15=(\"select cluster, quantity from cluster_item_quantity order by cluster\")\n",
    "cursor.execute(cmd14)\n",
    "result = cursor.fetchall()\n",
    "rank = 1\n",
    "with open(filename14,'w') as f14:\n",
    "    for item_id, item_quantity, item_price, item_sales in result:\n",
    "        f14.write(str(rank) + \"\\t\" + str(item_id) + \"\\t\" + str(item_quantity) + \"\\t\" + str(item_price) + \"\\t\" + str(item_sales) + \"\\n\")\n",
    "        rank = rank + 1\n",
    "f14.close()\n",
    "cursor.execute(cmd15)\n",
    "result = cursor.fetchall()\n",
    "with open(filename15,'w') as f15:\n",
    "    for cluster, quantity in result:\n",
    "        f15.write(str(cluster) + \"\\t\" + str(quantity) + \"\\n\")\n",
    "f15.close()\n",
    "print(\"Success\")\n",
    "connection.commit()\n",
    "connection.close()"
   ]
  }
 ],
 "metadata": {
  "kernelspec": {
   "display_name": "Python [default]",
   "language": "python",
   "name": "python3"
  },
  "language_info": {
   "codemirror_mode": {
    "name": "ipython",
    "version": 3
   },
   "file_extension": ".py",
   "mimetype": "text/x-python",
   "name": "python",
   "nbconvert_exporter": "python",
   "pygments_lexer": "ipython3",
   "version": "3.6.5"
  }
 },
 "nbformat": 4,
 "nbformat_minor": 2
}
