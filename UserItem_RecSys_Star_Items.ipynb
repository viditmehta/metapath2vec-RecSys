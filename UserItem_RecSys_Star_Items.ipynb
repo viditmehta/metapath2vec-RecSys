{
 "cells": [
  {
   "cell_type": "code",
   "execution_count": 1,
   "metadata": {},
   "outputs": [
    {
     "name": "stdout",
     "output_type": "stream",
     "text": [
      "Generating training file for RS\n",
      "Success\n"
     ]
    }
   ],
   "source": [
    "from __future__ import print_function\n",
    "import pyodbc\n",
    "print(\"Generating training file for RS\")\n",
    "filepath = 'C:/Vidit/PhD/RA Work/KZ - RA/Gaming Project/data/User-Item Recommender System/data'\n",
    "user_item_file = filepath + '/user_star_item.txt'\n",
    "connection = pyodbc.connect('Driver={SQL Server Native Client 11.0};Server=localhost;Database=Gaming;Trusted_Connection=yes')\n",
    "cursor=connection.cursor()\n",
    "cmd = (\"select iu.uid as userID, iu.itemid as itemID from item_user iu join item_quantity_price_sales iq on iu.itemid = iq.itemid where iq.item_quantity >= 154 order by iu.uid\")\n",
    "cursor.execute(cmd)\n",
    "result = cursor.fetchall()\n",
    "with open(user_item_file,'w') as f:\n",
    "    f.write(\"userID\" + \"\\t\" + \"itemID\" + \"\\n\")\n",
    "    for user_id,item_id in result:\n",
    "        f.write(str(user_id) + \"\\t\" + str(item_id) + \"\\n\")\n",
    "f.close()\n",
    "print(\"Success\")\n",
    "connection.commit()\n",
    "connection.close()"
   ]
  },
  {
   "cell_type": "code",
   "execution_count": 2,
   "metadata": {},
   "outputs": [],
   "source": [
    "import graphlab as gl\n",
    "gl.product_key.set_product_key('1811-F618-7371-23C4-6644-5DB9-A97C-F5C8')"
   ]
  },
  {
   "cell_type": "code",
   "execution_count": 3,
   "metadata": {},
   "outputs": [
    {
     "name": "stderr",
     "output_type": "stream",
     "text": [
      "[INFO] graphlab.cython.cy_server: GraphLab Create v2.1 started. Logging: C:\\Users\\viditm\\AppData\\Local\\Temp\\graphlab_server_1551553150.log.0\n"
     ]
    },
    {
     "name": "stdout",
     "output_type": "stream",
     "text": [
      "This non-commercial license of GraphLab Create for academic use is assigned to viditm@umd.edu and will expire on October 21, 2019.\n"
     ]
    },
    {
     "data": {
      "text/html": [
       "<pre>Finished parsing file C:\\Vidit\\PhD\\RA Work\\KZ - RA\\GARENA Project\\data\\User-Item Recommender System\\data\\user_star_item.txt</pre>"
      ],
      "text/plain": [
       "Finished parsing file C:\\Vidit\\PhD\\RA Work\\KZ - RA\\GARENA Project\\data\\User-Item Recommender System\\data\\user_star_item.txt"
      ]
     },
     "metadata": {},
     "output_type": "display_data"
    },
    {
     "data": {
      "text/html": [
       "<pre>Parsing completed. Parsed 100 lines in 0.034907 secs.</pre>"
      ],
      "text/plain": [
       "Parsing completed. Parsed 100 lines in 0.034907 secs."
      ]
     },
     "metadata": {},
     "output_type": "display_data"
    },
    {
     "name": "stdout",
     "output_type": "stream",
     "text": [
      "------------------------------------------------------\n",
      "Inferred types from first 100 line(s) of file as \n",
      "column_type_hints=[long,str]\n",
      "If parsing fails due to incorrect types, you can correct\n",
      "the inferred type list above and pass it to read_csv in\n",
      "the column_type_hints argument\n",
      "------------------------------------------------------\n"
     ]
    },
    {
     "data": {
      "text/html": [
       "<pre>Finished parsing file C:\\Vidit\\PhD\\RA Work\\KZ - RA\\GARENA Project\\data\\User-Item Recommender System\\data\\user_star_item.txt</pre>"
      ],
      "text/plain": [
       "Finished parsing file C:\\Vidit\\PhD\\RA Work\\KZ - RA\\GARENA Project\\data\\User-Item Recommender System\\data\\user_star_item.txt"
      ]
     },
     "metadata": {},
     "output_type": "display_data"
    },
    {
     "data": {
      "text/html": [
       "<pre>Parsing completed. Parsed 29601 lines in 0.030918 secs.</pre>"
      ],
      "text/plain": [
       "Parsing completed. Parsed 29601 lines in 0.030918 secs."
      ]
     },
     "metadata": {},
     "output_type": "display_data"
    }
   ],
   "source": [
    "user_item = gl.SFrame.read_csv(user_item_file, header = True, delimiter = \"\\t\")"
   ]
  },
  {
   "cell_type": "code",
   "execution_count": 4,
   "metadata": {},
   "outputs": [
    {
     "name": "stdout",
     "output_type": "stream",
     "text": [
      "Canvas is accessible via web browser at the URL: http://localhost:58712/index.html\n",
      "Opening Canvas in default web browser.\n"
     ]
    }
   ],
   "source": [
    "user_item.show()"
   ]
  },
  {
   "cell_type": "code",
   "execution_count": 5,
   "metadata": {},
   "outputs": [
    {
     "data": {
      "text/html": [
       "<div style=\"max-height:1000px;max-width:1500px;overflow:auto;\"><table frame=\"box\" rules=\"cols\">\n",
       "    <tr>\n",
       "        <th style=\"padding-left: 1em; padding-right: 1em; text-align: center\">userID</th>\n",
       "        <th style=\"padding-left: 1em; padding-right: 1em; text-align: center\">itemID</th>\n",
       "    </tr>\n",
       "    <tr>\n",
       "        <td style=\"padding-left: 1em; padding-right: 1em; text-align: center; vertical-align: top\">43639</td>\n",
       "        <td style=\"padding-left: 1em; padding-right: 1em; text-align: center; vertical-align: top\">9001</td>\n",
       "    </tr>\n",
       "    <tr>\n",
       "        <td style=\"padding-left: 1em; padding-right: 1em; text-align: center; vertical-align: top\">43639</td>\n",
       "        <td style=\"padding-left: 1em; padding-right: 1em; text-align: center; vertical-align: top\">89</td>\n",
       "    </tr>\n",
       "    <tr>\n",
       "        <td style=\"padding-left: 1em; padding-right: 1em; text-align: center; vertical-align: top\">44765</td>\n",
       "        <td style=\"padding-left: 1em; padding-right: 1em; text-align: center; vertical-align: top\">lolvn002</td>\n",
       "    </tr>\n",
       "    <tr>\n",
       "        <td style=\"padding-left: 1em; padding-right: 1em; text-align: center; vertical-align: top\">44765</td>\n",
       "        <td style=\"padding-left: 1em; padding-right: 1em; text-align: center; vertical-align: top\">lolvn001</td>\n",
       "    </tr>\n",
       "    <tr>\n",
       "        <td style=\"padding-left: 1em; padding-right: 1em; text-align: center; vertical-align: top\">45693</td>\n",
       "        <td style=\"padding-left: 1em; padding-right: 1em; text-align: center; vertical-align: top\">tw_18_5</td>\n",
       "    </tr>\n",
       "    <tr>\n",
       "        <td style=\"padding-left: 1em; padding-right: 1em; text-align: center; vertical-align: top\">47495</td>\n",
       "        <td style=\"padding-left: 1em; padding-right: 1em; text-align: center; vertical-align: top\">loltw004</td>\n",
       "    </tr>\n",
       "    <tr>\n",
       "        <td style=\"padding-left: 1em; padding-right: 1em; text-align: center; vertical-align: top\">47503</td>\n",
       "        <td style=\"padding-left: 1em; padding-right: 1em; text-align: center; vertical-align: top\">9000</td>\n",
       "    </tr>\n",
       "    <tr>\n",
       "        <td style=\"padding-left: 1em; padding-right: 1em; text-align: center; vertical-align: top\">47503</td>\n",
       "        <td style=\"padding-left: 1em; padding-right: 1em; text-align: center; vertical-align: top\">9001</td>\n",
       "    </tr>\n",
       "    <tr>\n",
       "        <td style=\"padding-left: 1em; padding-right: 1em; text-align: center; vertical-align: top\">47503</td>\n",
       "        <td style=\"padding-left: 1em; padding-right: 1em; text-align: center; vertical-align: top\">9002</td>\n",
       "    </tr>\n",
       "    <tr>\n",
       "        <td style=\"padding-left: 1em; padding-right: 1em; text-align: center; vertical-align: top\">47503</td>\n",
       "        <td style=\"padding-left: 1em; padding-right: 1em; text-align: center; vertical-align: top\">145</td>\n",
       "    </tr>\n",
       "</table>\n",
       "[10 rows x 2 columns]<br/>\n",
       "</div>"
      ],
      "text/plain": [
       "Columns:\n",
       "\tuserID\tint\n",
       "\titemID\tstr\n",
       "\n",
       "Rows: 10\n",
       "\n",
       "Data:\n",
       "+--------+----------+\n",
       "| userID |  itemID  |\n",
       "+--------+----------+\n",
       "| 43639  |   9001   |\n",
       "| 43639  |    89    |\n",
       "| 44765  | lolvn002 |\n",
       "| 44765  | lolvn001 |\n",
       "| 45693  | tw_18_5  |\n",
       "| 47495  | loltw004 |\n",
       "| 47503  |   9000   |\n",
       "| 47503  |   9001   |\n",
       "| 47503  |   9002   |\n",
       "| 47503  |   145    |\n",
       "+--------+----------+\n",
       "[10 rows x 2 columns]"
      ]
     },
     "execution_count": 5,
     "metadata": {},
     "output_type": "execute_result"
    }
   ],
   "source": [
    "user_item.head()"
   ]
  },
  {
   "cell_type": "code",
   "execution_count": 6,
   "metadata": {},
   "outputs": [
    {
     "data": {
      "text/html": [
       "<pre>Recsys training: model = item_similarity</pre>"
      ],
      "text/plain": [
       "Recsys training: model = item_similarity"
      ]
     },
     "metadata": {},
     "output_type": "display_data"
    },
    {
     "data": {
      "text/html": [
       "<pre>Preparing data set.</pre>"
      ],
      "text/plain": [
       "Preparing data set."
      ]
     },
     "metadata": {},
     "output_type": "display_data"
    },
    {
     "data": {
      "text/html": [
       "<pre>    Data has 29601 observations with 21060 users and 40 items.</pre>"
      ],
      "text/plain": [
       "    Data has 29601 observations with 21060 users and 40 items."
      ]
     },
     "metadata": {},
     "output_type": "display_data"
    },
    {
     "data": {
      "text/html": [
       "<pre>    Data prepared in: 0.034908s</pre>"
      ],
      "text/plain": [
       "    Data prepared in: 0.034908s"
      ]
     },
     "metadata": {},
     "output_type": "display_data"
    },
    {
     "data": {
      "text/html": [
       "<pre>Training model from provided data.</pre>"
      ],
      "text/plain": [
       "Training model from provided data."
      ]
     },
     "metadata": {},
     "output_type": "display_data"
    },
    {
     "data": {
      "text/html": [
       "<pre>Gathering per-item and per-user statistics.</pre>"
      ],
      "text/plain": [
       "Gathering per-item and per-user statistics."
      ]
     },
     "metadata": {},
     "output_type": "display_data"
    },
    {
     "data": {
      "text/html": [
       "<pre>+--------------------------------+------------+</pre>"
      ],
      "text/plain": [
       "+--------------------------------+------------+"
      ]
     },
     "metadata": {},
     "output_type": "display_data"
    },
    {
     "data": {
      "text/html": [
       "<pre>| Elapsed Time (Item Statistics) | % Complete |</pre>"
      ],
      "text/plain": [
       "| Elapsed Time (Item Statistics) | % Complete |"
      ]
     },
     "metadata": {},
     "output_type": "display_data"
    },
    {
     "data": {
      "text/html": [
       "<pre>+--------------------------------+------------+</pre>"
      ],
      "text/plain": [
       "+--------------------------------+------------+"
      ]
     },
     "metadata": {},
     "output_type": "display_data"
    },
    {
     "data": {
      "text/html": [
       "<pre>| 4.978ms                        | 4.5        |</pre>"
      ],
      "text/plain": [
       "| 4.978ms                        | 4.5        |"
      ]
     },
     "metadata": {},
     "output_type": "display_data"
    },
    {
     "data": {
      "text/html": [
       "<pre>| 16.947ms                       | 100        |</pre>"
      ],
      "text/plain": [
       "| 16.947ms                       | 100        |"
      ]
     },
     "metadata": {},
     "output_type": "display_data"
    },
    {
     "data": {
      "text/html": [
       "<pre>+--------------------------------+------------+</pre>"
      ],
      "text/plain": [
       "+--------------------------------+------------+"
      ]
     },
     "metadata": {},
     "output_type": "display_data"
    },
    {
     "data": {
      "text/html": [
       "<pre>Setting up lookup tables.</pre>"
      ],
      "text/plain": [
       "Setting up lookup tables."
      ]
     },
     "metadata": {},
     "output_type": "display_data"
    },
    {
     "data": {
      "text/html": [
       "<pre>Processing data in one pass using dense lookup tables.</pre>"
      ],
      "text/plain": [
       "Processing data in one pass using dense lookup tables."
      ]
     },
     "metadata": {},
     "output_type": "display_data"
    },
    {
     "data": {
      "text/html": [
       "<pre>+-------------------------------------+------------------+-----------------+</pre>"
      ],
      "text/plain": [
       "+-------------------------------------+------------------+-----------------+"
      ]
     },
     "metadata": {},
     "output_type": "display_data"
    },
    {
     "data": {
      "text/html": [
       "<pre>| Elapsed Time (Constructing Lookups) | Total % Complete | Items Processed |</pre>"
      ],
      "text/plain": [
       "| Elapsed Time (Constructing Lookups) | Total % Complete | Items Processed |"
      ]
     },
     "metadata": {},
     "output_type": "display_data"
    },
    {
     "data": {
      "text/html": [
       "<pre>+-------------------------------------+------------------+-----------------+</pre>"
      ],
      "text/plain": [
       "+-------------------------------------+------------------+-----------------+"
      ]
     },
     "metadata": {},
     "output_type": "display_data"
    },
    {
     "data": {
      "text/html": [
       "<pre>| 18.941ms                            | 0                | 0               |</pre>"
      ],
      "text/plain": [
       "| 18.941ms                            | 0                | 0               |"
      ]
     },
     "metadata": {},
     "output_type": "display_data"
    },
    {
     "data": {
      "text/html": [
       "<pre>| 25.922ms                            | 100              | 40              |</pre>"
      ],
      "text/plain": [
       "| 25.922ms                            | 100              | 40              |"
      ]
     },
     "metadata": {},
     "output_type": "display_data"
    },
    {
     "data": {
      "text/html": [
       "<pre>+-------------------------------------+------------------+-----------------+</pre>"
      ],
      "text/plain": [
       "+-------------------------------------+------------------+-----------------+"
      ]
     },
     "metadata": {},
     "output_type": "display_data"
    },
    {
     "data": {
      "text/html": [
       "<pre>Finalizing lookup tables.</pre>"
      ],
      "text/plain": [
       "Finalizing lookup tables."
      ]
     },
     "metadata": {},
     "output_type": "display_data"
    },
    {
     "data": {
      "text/html": [
       "<pre>Generating candidate set for working with new users.</pre>"
      ],
      "text/plain": [
       "Generating candidate set for working with new users."
      ]
     },
     "metadata": {},
     "output_type": "display_data"
    },
    {
     "data": {
      "text/html": [
       "<pre>Finished training in 1.03616s</pre>"
      ],
      "text/plain": [
       "Finished training in 1.03616s"
      ]
     },
     "metadata": {},
     "output_type": "display_data"
    }
   ],
   "source": [
    "model = gl.recommender.item_similarity_recommender.create(user_item, user_id = 'userID', item_id = 'itemID')"
   ]
  },
  {
   "cell_type": "code",
   "execution_count": 7,
   "metadata": {},
   "outputs": [
    {
     "data": {
      "text/plain": [
       "View object\n",
       "\n",
       "URI: \t\thttp://localhost:32212/view/a02cbdf4-f79e-4cdf-9d2c-e3f86123a4c5\n",
       "HTML: \t\t\n",
       "<gl-recommender-explore\n",
       "    uri=\"http://localhost:32212/view/8170840f-4797-453a-bbd0-f4a2ad93238e\"\n",
       "    api_key=\"\"\n",
       "/>\n",
       "        "
      ]
     },
     "execution_count": 7,
     "metadata": {},
     "output_type": "execute_result"
    }
   ],
   "source": [
    "model.views.explore().show()"
   ]
  },
  {
   "cell_type": "code",
   "execution_count": 8,
   "metadata": {},
   "outputs": [],
   "source": [
    "userlist = []\n",
    "dirpath = 'C:/Vidit/PhD/RA Work/KZ - RA/Gaming Project/data/Files'\n",
    "with open(dirpath + \"/selected_user.txt\") as sufile:  # pull the randomly selected users\n",
    "    for user in sufile:\n",
    "        userlist.append(user.strip())"
   ]
  },
  {
   "cell_type": "code",
   "execution_count": 9,
   "metadata": {},
   "outputs": [
    {
     "data": {
      "text/html": [
       "<pre>recommendations finished on 1000/10000 queries. users per second: 334336</pre>"
      ],
      "text/plain": [
       "recommendations finished on 1000/10000 queries. users per second: 334336"
      ]
     },
     "metadata": {},
     "output_type": "display_data"
    },
    {
     "data": {
      "text/html": [
       "<pre>recommendations finished on 2000/10000 queries. users per second: 401123</pre>"
      ],
      "text/plain": [
       "recommendations finished on 2000/10000 queries. users per second: 401123"
      ]
     },
     "metadata": {},
     "output_type": "display_data"
    },
    {
     "data": {
      "text/html": [
       "<pre>recommendations finished on 3000/10000 queries. users per second: 501421</pre>"
      ],
      "text/plain": [
       "recommendations finished on 3000/10000 queries. users per second: 501421"
      ]
     },
     "metadata": {},
     "output_type": "display_data"
    },
    {
     "data": {
      "text/html": [
       "<pre>recommendations finished on 4000/10000 queries. users per second: 501379</pre>"
      ],
      "text/plain": [
       "recommendations finished on 4000/10000 queries. users per second: 501379"
      ]
     },
     "metadata": {},
     "output_type": "display_data"
    },
    {
     "data": {
      "text/html": [
       "<pre>recommendations finished on 5000/10000 queries. users per second: 557103</pre>"
      ],
      "text/plain": [
       "recommendations finished on 5000/10000 queries. users per second: 557103"
      ]
     },
     "metadata": {},
     "output_type": "display_data"
    },
    {
     "data": {
      "text/html": [
       "<pre>recommendations finished on 6000/10000 queries. users per second: 546946</pre>"
      ],
      "text/plain": [
       "recommendations finished on 6000/10000 queries. users per second: 546946"
      ]
     },
     "metadata": {},
     "output_type": "display_data"
    },
    {
     "data": {
      "text/html": [
       "<pre>recommendations finished on 7000/10000 queries. users per second: 539915</pre>"
      ],
      "text/plain": [
       "recommendations finished on 7000/10000 queries. users per second: 539915"
      ]
     },
     "metadata": {},
     "output_type": "display_data"
    },
    {
     "data": {
      "text/html": [
       "<pre>recommendations finished on 8000/10000 queries. users per second: 572984</pre>"
      ],
      "text/plain": [
       "recommendations finished on 8000/10000 queries. users per second: 572984"
      ]
     },
     "metadata": {},
     "output_type": "display_data"
    },
    {
     "data": {
      "text/html": [
       "<pre>recommendations finished on 9000/10000 queries. users per second: 564016</pre>"
      ],
      "text/plain": [
       "recommendations finished on 9000/10000 queries. users per second: 564016"
      ]
     },
     "metadata": {},
     "output_type": "display_data"
    },
    {
     "data": {
      "text/html": [
       "<pre>recommendations finished on 10000/10000 queries. users per second: 557041</pre>"
      ],
      "text/plain": [
       "recommendations finished on 10000/10000 queries. users per second: 557041"
      ]
     },
     "metadata": {},
     "output_type": "display_data"
    },
    {
     "data": {
      "text/html": [
       "<pre>recommendations finished on 1000/10000 queries. users per second: 334336</pre>"
      ],
      "text/plain": [
       "recommendations finished on 1000/10000 queries. users per second: 334336"
      ]
     },
     "metadata": {},
     "output_type": "display_data"
    },
    {
     "data": {
      "text/html": [
       "<pre>recommendations finished on 2000/10000 queries. users per second: 334280</pre>"
      ],
      "text/plain": [
       "recommendations finished on 2000/10000 queries. users per second: 334280"
      ]
     },
     "metadata": {},
     "output_type": "display_data"
    },
    {
     "data": {
      "text/html": [
       "<pre>recommendations finished on 3000/10000 queries. users per second: 334225</pre>"
      ],
      "text/plain": [
       "recommendations finished on 3000/10000 queries. users per second: 334225"
      ]
     },
     "metadata": {},
     "output_type": "display_data"
    },
    {
     "data": {
      "text/html": [
       "<pre>recommendations finished on 4000/10000 queries. users per second: 364631</pre>"
      ],
      "text/plain": [
       "recommendations finished on 4000/10000 queries. users per second: 364631"
      ]
     },
     "metadata": {},
     "output_type": "display_data"
    },
    {
     "data": {
      "text/html": [
       "<pre>recommendations finished on 5000/10000 queries. users per second: 358038</pre>"
      ],
      "text/plain": [
       "recommendations finished on 5000/10000 queries. users per second: 358038"
      ]
     },
     "metadata": {},
     "output_type": "display_data"
    },
    {
     "data": {
      "text/html": [
       "<pre>recommendations finished on 6000/10000 queries. users per second: 353899</pre>"
      ],
      "text/plain": [
       "recommendations finished on 6000/10000 queries. users per second: 353899"
      ]
     },
     "metadata": {},
     "output_type": "display_data"
    },
    {
     "data": {
      "text/html": [
       "<pre>recommendations finished on 7000/10000 queries. users per second: 369413</pre>"
      ],
      "text/plain": [
       "recommendations finished on 7000/10000 queries. users per second: 369413"
      ]
     },
     "metadata": {},
     "output_type": "display_data"
    },
    {
     "data": {
      "text/html": [
       "<pre>recommendations finished on 8000/10000 queries. users per second: 364614</pre>"
      ],
      "text/plain": [
       "recommendations finished on 8000/10000 queries. users per second: 364614"
      ]
     },
     "metadata": {},
     "output_type": "display_data"
    },
    {
     "data": {
      "text/html": [
       "<pre>recommendations finished on 9000/10000 queries. users per second: 300792</pre>"
      ],
      "text/plain": [
       "recommendations finished on 9000/10000 queries. users per second: 300792"
      ]
     },
     "metadata": {},
     "output_type": "display_data"
    },
    {
     "data": {
      "text/html": [
       "<pre>recommendations finished on 10000/10000 queries. users per second: 270988</pre>"
      ],
      "text/plain": [
       "recommendations finished on 10000/10000 queries. users per second: 270988"
      ]
     },
     "metadata": {},
     "output_type": "display_data"
    },
    {
     "data": {
      "text/html": [
       "<pre>recommendations finished on 1000/10000 queries. users per second: 250689</pre>"
      ],
      "text/plain": [
       "recommendations finished on 1000/10000 queries. users per second: 250689"
      ]
     },
     "metadata": {},
     "output_type": "display_data"
    },
    {
     "data": {
      "text/html": [
       "<pre>recommendations finished on 2000/10000 queries. users per second: 286492</pre>"
      ],
      "text/plain": [
       "recommendations finished on 2000/10000 queries. users per second: 286492"
      ]
     },
     "metadata": {},
     "output_type": "display_data"
    },
    {
     "data": {
      "text/html": [
       "<pre>recommendations finished on 3000/10000 queries. users per second: 300812</pre>"
      ],
      "text/plain": [
       "recommendations finished on 3000/10000 queries. users per second: 300812"
      ]
     },
     "metadata": {},
     "output_type": "display_data"
    },
    {
     "data": {
      "text/html": [
       "<pre>recommendations finished on 4000/10000 queries. users per second: 334253</pre>"
      ],
      "text/plain": [
       "recommendations finished on 4000/10000 queries. users per second: 334253"
      ]
     },
     "metadata": {},
     "output_type": "display_data"
    },
    {
     "data": {
      "text/html": [
       "<pre>recommendations finished on 5000/10000 queries. users per second: 358115</pre>"
      ],
      "text/plain": [
       "recommendations finished on 5000/10000 queries. users per second: 358115"
      ]
     },
     "metadata": {},
     "output_type": "display_data"
    },
    {
     "data": {
      "text/html": [
       "<pre>recommendations finished on 6000/10000 queries. users per second: 376011</pre>"
      ],
      "text/plain": [
       "recommendations finished on 6000/10000 queries. users per second: 376011"
      ]
     },
     "metadata": {},
     "output_type": "display_data"
    },
    {
     "data": {
      "text/html": [
       "<pre>recommendations finished on 7000/10000 queries. users per second: 389929</pre>"
      ],
      "text/plain": [
       "recommendations finished on 7000/10000 queries. users per second: 389929"
      ]
     },
     "metadata": {},
     "output_type": "display_data"
    },
    {
     "data": {
      "text/html": [
       "<pre>recommendations finished on 8000/10000 queries. users per second: 381971</pre>"
      ],
      "text/plain": [
       "recommendations finished on 8000/10000 queries. users per second: 381971"
      ]
     },
     "metadata": {},
     "output_type": "display_data"
    },
    {
     "data": {
      "text/html": [
       "<pre>recommendations finished on 9000/10000 queries. users per second: 375987</pre>"
      ],
      "text/plain": [
       "recommendations finished on 9000/10000 queries. users per second: 375987"
      ]
     },
     "metadata": {},
     "output_type": "display_data"
    },
    {
     "data": {
      "text/html": [
       "<pre>recommendations finished on 10000/10000 queries. users per second: 358089</pre>"
      ],
      "text/plain": [
       "recommendations finished on 10000/10000 queries. users per second: 358089"
      ]
     },
     "metadata": {},
     "output_type": "display_data"
    },
    {
     "data": {
      "text/html": [
       "<pre>recommendations finished on 1000/10000 queries. users per second: 167140</pre>"
      ],
      "text/plain": [
       "recommendations finished on 1000/10000 queries. users per second: 167140"
      ]
     },
     "metadata": {},
     "output_type": "display_data"
    },
    {
     "data": {
      "text/html": [
       "<pre>recommendations finished on 2000/10000 queries. users per second: 200501</pre>"
      ],
      "text/plain": [
       "recommendations finished on 2000/10000 queries. users per second: 200501"
      ]
     },
     "metadata": {},
     "output_type": "display_data"
    },
    {
     "data": {
      "text/html": [
       "<pre>recommendations finished on 3000/10000 queries. users per second: 214869</pre>"
      ],
      "text/plain": [
       "recommendations finished on 3000/10000 queries. users per second: 214869"
      ]
     },
     "metadata": {},
     "output_type": "display_data"
    },
    {
     "data": {
      "text/html": [
       "<pre>recommendations finished on 4000/10000 queries. users per second: 235933</pre>"
      ],
      "text/plain": [
       "recommendations finished on 4000/10000 queries. users per second: 235933"
      ]
     },
     "metadata": {},
     "output_type": "display_data"
    },
    {
     "data": {
      "text/html": [
       "<pre>recommendations finished on 5000/10000 queries. users per second: 238743</pre>"
      ],
      "text/plain": [
       "recommendations finished on 5000/10000 queries. users per second: 238743"
      ]
     },
     "metadata": {},
     "output_type": "display_data"
    },
    {
     "data": {
      "text/html": [
       "<pre>recommendations finished on 6000/10000 queries. users per second: 231392</pre>"
      ],
      "text/plain": [
       "recommendations finished on 6000/10000 queries. users per second: 231392"
      ]
     },
     "metadata": {},
     "output_type": "display_data"
    },
    {
     "data": {
      "text/html": [
       "<pre>recommendations finished on 7000/10000 queries. users per second: 233965</pre>"
      ],
      "text/plain": [
       "recommendations finished on 7000/10000 queries. users per second: 233965"
      ]
     },
     "metadata": {},
     "output_type": "display_data"
    },
    {
     "data": {
      "text/html": [
       "<pre>recommendations finished on 8000/10000 queries. users per second: 243080</pre>"
      ],
      "text/plain": [
       "recommendations finished on 8000/10000 queries. users per second: 243080"
      ]
     },
     "metadata": {},
     "output_type": "display_data"
    },
    {
     "data": {
      "text/html": [
       "<pre>recommendations finished on 9000/10000 queries. users per second: 231386</pre>"
      ],
      "text/plain": [
       "recommendations finished on 9000/10000 queries. users per second: 231386"
      ]
     },
     "metadata": {},
     "output_type": "display_data"
    },
    {
     "data": {
      "text/html": [
       "<pre>recommendations finished on 10000/10000 queries. users per second: 196599</pre>"
      ],
      "text/plain": [
       "recommendations finished on 10000/10000 queries. users per second: 196599"
      ]
     },
     "metadata": {},
     "output_type": "display_data"
    }
   ],
   "source": [
    "recs_top_5_user_model = model.recommend(users = userlist, k = 5)\n",
    "recs_top_10_user_model = model.recommend(users = userlist, k = 10)\n",
    "recs_top_15_user_model = model.recommend(users = userlist, k = 15)\n",
    "recs_top_20_user_model = model.recommend(users = userlist, k = 20)"
   ]
  },
  {
   "cell_type": "code",
   "execution_count": 10,
   "metadata": {},
   "outputs": [],
   "source": [
    "sf_top_5 = recs_top_5_user_model.select_columns(['userID', 'itemID'])\n",
    "sf_top_10 = recs_top_10_user_model.select_columns(['userID', 'itemID'])\n",
    "sf_top_15 = recs_top_15_user_model.select_columns(['userID', 'itemID'])\n",
    "sf_top_20 = recs_top_20_user_model.select_columns(['userID', 'itemID'])"
   ]
  },
  {
   "cell_type": "code",
   "execution_count": 11,
   "metadata": {},
   "outputs": [],
   "source": [
    "import pandas\n",
    "p_top_5 = sf_top_5.to_dataframe()\n",
    "p_top_10 = sf_top_10.to_dataframe()\n",
    "p_top_15 = sf_top_15.to_dataframe()\n",
    "p_top_20 = sf_top_20.to_dataframe()"
   ]
  },
  {
   "cell_type": "code",
   "execution_count": 12,
   "metadata": {},
   "outputs": [],
   "source": [
    "path = 'C:/Vidit/PhD/RA Work/KZ - RA/Gaming Project/data/User-Item Recommender System/data'\n",
    "top_5 = path + '/user_star_top_5.txt'\n",
    "top_10 = path + '/user_star_top_10.txt'\n",
    "top_15 = path + '/user_star_top_15.txt'\n",
    "top_20 = path + '/user_star_top_20.txt'\n",
    "p_top_5.to_csv(top_5, header=None, index=None, sep=' ')\n",
    "p_top_10.to_csv(top_10, header=None, index=None, sep=' ')\n",
    "p_top_15.to_csv(top_15, header=None, index=None, sep=' ')\n",
    "p_top_20.to_csv(top_20, header=None, index=None, sep=' ')"
   ]
  },
  {
   "cell_type": "code",
   "execution_count": 13,
   "metadata": {},
   "outputs": [
    {
     "name": "stdout",
     "output_type": "stream",
     "text": [
      "No of users who bought items in first 2 days of test period: 2700\n",
      "No of users who bought items in first 4 days of test period: 4999\n",
      "No of users who bought items in first 10 days of test period: 10302\n"
     ]
    }
   ],
   "source": [
    "from __future__ import division\n",
    "dirpath = 'C:/Vidit/PhD/RA Work/KZ - RA/Gaming Project/data/Files'\n",
    "path = 'C:/Vidit/PhD/RA Work/KZ - RA/Gaming Project/data/User-Item Recommender System/data'\n",
    "test2days_user_item = dict()\n",
    "test4days_user_item = dict()\n",
    "test10days_user_item = dict()\n",
    "user_top_5_recitems = dict()\n",
    "user_top_10_recitems = dict()\n",
    "user_top_15_recitems = dict()\n",
    "user_top_20_recitems = dict()\n",
    "\n",
    "with open(dirpath + \"/test2days_item_user.txt\") as iufile:  # list of all items purchased by users in 2 days of testing period\n",
    "    for line in iufile:\n",
    "        toks = line.strip().split(\"\\t\")\n",
    "        if len(toks) == 2:\n",
    "            i, u = toks[0], toks[1]\n",
    "            if u not in test2days_user_item:\n",
    "                test2days_user_item[u] = []\n",
    "            test2days_user_item[u].append(i)   # {uid1: [itemid1,itemid2,...], uid2: [itemd2,itemd3,....]} = dict of list of items purchased by each user\n",
    "print(\"No of users who bought items in first 2 days of test period:\", len(test2days_user_item))\n",
    "        \n",
    "with open(dirpath + \"/test4days_item_user.txt\") as iufile:  # list of all items purchased by users in 4 days of testing period\n",
    "    for line in iufile:\n",
    "        toks = line.strip().split(\"\\t\")\n",
    "        if len(toks) == 2:\n",
    "            i, u = toks[0], toks[1]\n",
    "            if u not in test4days_user_item:\n",
    "                test4days_user_item[u] = []\n",
    "            test4days_user_item[u].append(i)   # {uid1: [itemid1,itemid2,...], uid2: [itemd2,itemd3,....]} = dict of list of items purchased by each user\n",
    "print(\"No of users who bought items in first 4 days of test period:\", len(test4days_user_item))\n",
    "        \n",
    "with open(dirpath + \"/test10days_item_user.txt\") as iufile:  # list of all items purchased by users in 10 days of testing period\n",
    "    for line in iufile:\n",
    "        toks = line.strip().split(\"\\t\")\n",
    "        if len(toks) == 2:\n",
    "            i, u = toks[0], toks[1]            \n",
    "            if u not in test10days_user_item:\n",
    "                test10days_user_item[u] = []\n",
    "            test10days_user_item[u].append(i)   # {uid1: [itemid1,itemid2,...], uid2: [itemd2,itemd3,....]} = dict of list of items purchased by each user\n",
    "print(\"No of users who bought items in first 10 days of test period:\", len(test10days_user_item))\n",
    "\n",
    "with open(path + '/user_star_top_5.txt') as uifile:  # list of recommended items\n",
    "    for line in uifile:\n",
    "        toks = line.strip().split(' ')\n",
    "        if len(toks) == 2:\n",
    "            u, i = toks[0], toks[1]\n",
    "            if u not in user_top_5_recitems:\n",
    "                user_top_5_recitems[u] = []\n",
    "            user_top_5_recitems[u].append(i)\n",
    "            \n",
    "with open(path + '/user_star_top_10.txt') as uifile:  # list of recommended items\n",
    "    for line in uifile:\n",
    "        toks = line.strip().split(' ')\n",
    "        if len(toks) == 2:\n",
    "            u, i = toks[0], toks[1]\n",
    "            if u not in user_top_10_recitems:\n",
    "                user_top_10_recitems[u] = []\n",
    "            user_top_10_recitems[u].append(i) \n",
    "            \n",
    "with open(path + '/user_star_top_15.txt') as uifile:  # list of recommended items\n",
    "    for line in uifile:\n",
    "        toks = line.strip().split(' ')\n",
    "        if len(toks) == 2:\n",
    "            u, i = toks[0], toks[1]\n",
    "            if u not in user_top_15_recitems:\n",
    "                user_top_15_recitems[u] = []\n",
    "            user_top_15_recitems[u].append(i)\n",
    "            \n",
    "with open(path + '/user_star_top_20.txt') as uifile:  # list of recommended items\n",
    "    for line in uifile:\n",
    "        toks = line.strip().split(' ')\n",
    "        if len(toks) == 2:\n",
    "            u, i = toks[0], toks[1]\n",
    "            if u not in user_top_20_recitems:\n",
    "                user_top_20_recitems[u] = []\n",
    "            user_top_20_recitems[u].append(i)\n",
    "            \n",
    "def get_accuracy_score(user_recitems):\n",
    "    count_2days = count_4days = count_10days = 0\n",
    "    for user in user_recitems:\n",
    "        recommended_items = set(user_recitems.get(user,[]))\n",
    "        new_items_2days = set(test2days_user_item.get(user,[]))\n",
    "        new_items_4days = set(test4days_user_item.get(user,[]))\n",
    "        new_items_10days = set(test10days_user_item.get(user,[]))\n",
    "        if len(recommended_items & new_items_2days) > 0:\n",
    "            count_2days += 1\n",
    "        if len(recommended_items & new_items_4days) > 0:\n",
    "            count_4days += 1\n",
    "        if len(recommended_items & new_items_10days) > 0:\n",
    "            count_10days += 1\n",
    "    print(\"For a 2-day testing period:\", count_2days/10000)\n",
    "    print(\"For a 4-day testing period:\", count_4days/10000)\n",
    "    print(\"For a 10-day testing period:\", count_10days/10000)\n"
   ]
  },
  {
   "cell_type": "code",
   "execution_count": 14,
   "metadata": {},
   "outputs": [
    {
     "name": "stdout",
     "output_type": "stream",
     "text": [
      "\n",
      "Accuracy for Star Items\n",
      "\n",
      "Accuracy for User-Item Collaborative Filtering Recommender System based on Top-5 similar users\n",
      "For a 2-day testing period: 0.0031\n",
      "For a 4-day testing period: 0.0064\n",
      "For a 10-day testing period: 0.0127\n",
      "\n",
      "Accuracy for User-Item Collaborative Filtering Recommender System based on Top-10 similar users\n",
      "For a 2-day testing period: 0.0034\n",
      "For a 4-day testing period: 0.0071\n",
      "For a 10-day testing period: 0.0144\n",
      "\n",
      "Accuracy for User-Item Collaborative Filtering Recommender System based on Top-15 similar users\n",
      "For a 2-day testing period: 0.0035\n",
      "For a 4-day testing period: 0.0075\n",
      "For a 10-day testing period: 0.0153\n",
      "\n",
      "Accuracy for User-Item Collaborative Filtering Recommender System based on Top-20 similar users\n",
      "For a 2-day testing period: 0.0037\n",
      "For a 4-day testing period: 0.0086\n",
      "For a 10-day testing period: 0.0178\n"
     ]
    }
   ],
   "source": [
    "print(\"\\nAccuracy for Star Items\")\n",
    "print(\"\\nAccuracy for User-Item Collaborative Filtering Recommender System based on Top-5 similar users\")\n",
    "get_accuracy_score (user_recitems = user_top_5_recitems)\n",
    "print(\"\\nAccuracy for User-Item Collaborative Filtering Recommender System based on Top-10 similar users\")\n",
    "get_accuracy_score (user_recitems = user_top_10_recitems)\n",
    "print(\"\\nAccuracy for User-Item Collaborative Filtering Recommender System based on Top-15 similar users\")\n",
    "get_accuracy_score (user_recitems = user_top_15_recitems)\n",
    "print(\"\\nAccuracy for User-Item Collaborative Filtering Recommender System based on Top-20 similar users\")\n",
    "get_accuracy_score (user_recitems = user_top_20_recitems)"
   ]
  },
  {
   "cell_type": "code",
   "execution_count": 15,
   "metadata": {},
   "outputs": [
    {
     "name": "stdout",
     "output_type": "stream",
     "text": [
      "#users 1496096\n",
      "#games 22\n",
      "#items 3825\n",
      "No of users who bought items in first 2 days of test period: 2700\n",
      "No of users who bought items in first 4 days of test period: 4999\n",
      "No of users who bought items in first 10 days of test period: 10302\n",
      "['lolvn002', 'lolvn001', 'lolvn003', 'loltw001', 'RP003', 'loltw003', 'RP002', 'loltw004', 'lolvn004', 'RP001', 'package_20', 'loltw005', 'tw_18_3', '89', 'loltw002', 'tw_18_2', 'tw_18_5', 'lolsam001', '9002', 'lolsam003', 'fo3vn003', 'RP004', 'FO3TH003', 'fo3vn004', 'tw_18_4', 'package_4', '9001', 'package_2', 'fo3vn002', 'lolsam004', 'tw_19_3', 'package_18', 'package_19', 'package_1', 'tw_19_2', '166', '145', 'fo3vn005', '9000', '33']\n",
      "['43', '31', 'RP005', '237', 'HONLUCK1', '57', '2', 'lolsam006', 'lolsam002', '239', 'FO3TH004', 'FO3TH006', 'tw_19_5', 'lolvn005', '157', 'pbth001', '159', '205', 'lolth004', '228', '280', 'tw_19_4', 'lolth001', 'lolsam005', '138', 'lolth003', 'tw_18_1', 'tw_15_5', '34', 'tw_15_4', '188', '25', '192', '200', 'FO3TH005', 'FO3TH001', '230', 'elph003', 'lolth005', 'fo3sam001', '12', 'fo3vn001', 'lolth002', 'FO3TH007', 'tw_15_3', 'tw_15_1', '26', '278', '95', '76', 'pbth003', 'pbth004', 'lolsam008', '244', '151', '14', 'elph002', 'loltw006']\n",
      "['RP006', 'pbth002', 'tw_16_2', 'fo3sam005', 'elph001', 'CISLUCK1', '27', 'lolth006', 'pbth005', 'fo3sam003', '202', '52', '245', 'lolsam007', 'tw_16_5', 'fo3sam004', 'MSTAR004', '273', '136', '66', 'MSTAR006', 'fo3vn006', '276', 'tw_15_6', '223', 'elph005', '51', '175', 'tw_16_3', 'FO3TH002', 'MSTAR001', 'MSTAR007', '226', 'elph004', '96', '29', '222', '139', '77', 'tw_15_2', 'poesam004', 'HONLUCK5', '3', '28', '61', '204', '235', '236', '4', 'fo3sam007', 'poesam001', 'tw_16_4', 'tw_19_1', 'lolvn006', '35', '100003111', '100003037', '178', '193', '161', '212', '199', '247', '84', 'lolvn007', 'fo3sam002', 'package_8', 'package_9', 'MSTAR003', 'lolth007', '277', '270', '1301520000', '172', '1', '207', '90', '75', 'poesam003', 'pbth006', 'poesam006', 'tw_16_1', 'pbsam001', 'MSTAR002', 'lolid004', 'CISLUCK5', '56', '255', '240', '147', '140', '11', '111', '123', '13', '50', '67', '42', '39', 'CISLUCK11', 'package_10', 'pbsam003', 'pbth007', 'pbsam002', 'fo3vn007', 'elph007', '88', '86', '9', '74', '64', '58', '149', '158', '241', '227', '200004039', '174', '195', '180', '187', '1301519000', '148', '137', '60', '53', '65', '62', '36', '37', '72', '85', '8', '80', '87', 'fo3id002', 'fo3vn008', 'fo3sam006', 'HONLUCK11', 'lolid002', 'MSTAR005', 'pbsam004', 'pbsam008', 'poesam002', 'RP008', 'poesam005', 'RP007', 'pbsam005', 'lolid003', 'lolid005', 'lolid006', 'lolid008', 'fo3id004', 'fo3id007', 'elph006', '32', '30', '63', '69', '7', '18', '162', '200004114', '22', '265']\n"
     ]
    },
    {
     "data": {
      "text/html": [
       "<pre>Finished parsing file C:\\Vidit\\PhD\\RA Work\\KZ - RA\\GARENA Project\\data\\User-Item Recommender System\\data\\star_user_item.txt</pre>"
      ],
      "text/plain": [
       "Finished parsing file C:\\Vidit\\PhD\\RA Work\\KZ - RA\\GARENA Project\\data\\User-Item Recommender System\\data\\star_user_item.txt"
      ]
     },
     "metadata": {},
     "output_type": "display_data"
    },
    {
     "data": {
      "text/html": [
       "<pre>Parsing completed. Parsed 29601 lines in 0.024935 secs.</pre>"
      ],
      "text/plain": [
       "Parsing completed. Parsed 29601 lines in 0.024935 secs."
      ]
     },
     "metadata": {},
     "output_type": "display_data"
    },
    {
     "data": {
      "text/html": [
       "<pre>Finished parsing file C:\\Vidit\\PhD\\RA Work\\KZ - RA\\GARENA Project\\data\\User-Item Recommender System\\data\\mid_user_item.txt</pre>"
      ],
      "text/plain": [
       "Finished parsing file C:\\Vidit\\PhD\\RA Work\\KZ - RA\\GARENA Project\\data\\User-Item Recommender System\\data\\mid_user_item.txt"
      ]
     },
     "metadata": {},
     "output_type": "display_data"
    },
    {
     "data": {
      "text/html": [
       "<pre>Parsing completed. Parsed 4030 lines in 0.01795 secs.</pre>"
      ],
      "text/plain": [
       "Parsing completed. Parsed 4030 lines in 0.01795 secs."
      ]
     },
     "metadata": {},
     "output_type": "display_data"
    },
    {
     "data": {
      "text/html": [
       "<pre>Finished parsing file C:\\Vidit\\PhD\\RA Work\\KZ - RA\\GARENA Project\\data\\User-Item Recommender System\\data\\tail_user_item.txt</pre>"
      ],
      "text/plain": [
       "Finished parsing file C:\\Vidit\\PhD\\RA Work\\KZ - RA\\GARENA Project\\data\\User-Item Recommender System\\data\\tail_user_item.txt"
      ]
     },
     "metadata": {},
     "output_type": "display_data"
    },
    {
     "data": {
      "text/html": [
       "<pre>Parsing completed. Parsed 1368 lines in 0.01994 secs.</pre>"
      ],
      "text/plain": [
       "Parsing completed. Parsed 1368 lines in 0.01994 secs."
      ]
     },
     "metadata": {},
     "output_type": "display_data"
    },
    {
     "name": "stdout",
     "output_type": "stream",
     "text": [
      "\n",
      "Making Recommendations\n",
      "\n",
      "\n",
      "Accuracy for Star Items\n",
      "\n"
     ]
    },
    {
     "data": {
      "text/html": [
       "<pre>Recsys training: model = item_similarity</pre>"
      ],
      "text/plain": [
       "Recsys training: model = item_similarity"
      ]
     },
     "metadata": {},
     "output_type": "display_data"
    },
    {
     "data": {
      "text/html": [
       "<pre>Preparing data set.</pre>"
      ],
      "text/plain": [
       "Preparing data set."
      ]
     },
     "metadata": {},
     "output_type": "display_data"
    },
    {
     "data": {
      "text/html": [
       "<pre>    Data has 29601 observations with 21060 users and 40 items.</pre>"
      ],
      "text/plain": [
       "    Data has 29601 observations with 21060 users and 40 items."
      ]
     },
     "metadata": {},
     "output_type": "display_data"
    },
    {
     "data": {
      "text/html": [
       "<pre>    Data prepared in: 0.042882s</pre>"
      ],
      "text/plain": [
       "    Data prepared in: 0.042882s"
      ]
     },
     "metadata": {},
     "output_type": "display_data"
    },
    {
     "data": {
      "text/html": [
       "<pre>Training model from provided data.</pre>"
      ],
      "text/plain": [
       "Training model from provided data."
      ]
     },
     "metadata": {},
     "output_type": "display_data"
    },
    {
     "data": {
      "text/html": [
       "<pre>Gathering per-item and per-user statistics.</pre>"
      ],
      "text/plain": [
       "Gathering per-item and per-user statistics."
      ]
     },
     "metadata": {},
     "output_type": "display_data"
    },
    {
     "data": {
      "text/html": [
       "<pre>+--------------------------------+------------+</pre>"
      ],
      "text/plain": [
       "+--------------------------------+------------+"
      ]
     },
     "metadata": {},
     "output_type": "display_data"
    },
    {
     "data": {
      "text/html": [
       "<pre>| Elapsed Time (Item Statistics) | % Complete |</pre>"
      ],
      "text/plain": [
       "| Elapsed Time (Item Statistics) | % Complete |"
      ]
     },
     "metadata": {},
     "output_type": "display_data"
    },
    {
     "data": {
      "text/html": [
       "<pre>+--------------------------------+------------+</pre>"
      ],
      "text/plain": [
       "+--------------------------------+------------+"
      ]
     },
     "metadata": {},
     "output_type": "display_data"
    },
    {
     "data": {
      "text/html": [
       "<pre>| 0us                            | 52         |</pre>"
      ],
      "text/plain": [
       "| 0us                            | 52         |"
      ]
     },
     "metadata": {},
     "output_type": "display_data"
    },
    {
     "data": {
      "text/html": [
       "<pre>| 1.995ms                        | 100        |</pre>"
      ],
      "text/plain": [
       "| 1.995ms                        | 100        |"
      ]
     },
     "metadata": {},
     "output_type": "display_data"
    },
    {
     "data": {
      "text/html": [
       "<pre>+--------------------------------+------------+</pre>"
      ],
      "text/plain": [
       "+--------------------------------+------------+"
      ]
     },
     "metadata": {},
     "output_type": "display_data"
    },
    {
     "data": {
      "text/html": [
       "<pre>Setting up lookup tables.</pre>"
      ],
      "text/plain": [
       "Setting up lookup tables."
      ]
     },
     "metadata": {},
     "output_type": "display_data"
    },
    {
     "data": {
      "text/html": [
       "<pre>Processing data in one pass using dense lookup tables.</pre>"
      ],
      "text/plain": [
       "Processing data in one pass using dense lookup tables."
      ]
     },
     "metadata": {},
     "output_type": "display_data"
    },
    {
     "data": {
      "text/html": [
       "<pre>+-------------------------------------+------------------+-----------------+</pre>"
      ],
      "text/plain": [
       "+-------------------------------------+------------------+-----------------+"
      ]
     },
     "metadata": {},
     "output_type": "display_data"
    },
    {
     "data": {
      "text/html": [
       "<pre>| Elapsed Time (Constructing Lookups) | Total % Complete | Items Processed |</pre>"
      ],
      "text/plain": [
       "| Elapsed Time (Constructing Lookups) | Total % Complete | Items Processed |"
      ]
     },
     "metadata": {},
     "output_type": "display_data"
    },
    {
     "data": {
      "text/html": [
       "<pre>+-------------------------------------+------------------+-----------------+</pre>"
      ],
      "text/plain": [
       "+-------------------------------------+------------------+-----------------+"
      ]
     },
     "metadata": {},
     "output_type": "display_data"
    },
    {
     "data": {
      "text/html": [
       "<pre>| 2.992ms                             | 0                | 0               |</pre>"
      ],
      "text/plain": [
       "| 2.992ms                             | 0                | 0               |"
      ]
     },
     "metadata": {},
     "output_type": "display_data"
    },
    {
     "data": {
      "text/html": [
       "<pre>| 4.986ms                             | 100              | 40              |</pre>"
      ],
      "text/plain": [
       "| 4.986ms                             | 100              | 40              |"
      ]
     },
     "metadata": {},
     "output_type": "display_data"
    },
    {
     "data": {
      "text/html": [
       "<pre>+-------------------------------------+------------------+-----------------+</pre>"
      ],
      "text/plain": [
       "+-------------------------------------+------------------+-----------------+"
      ]
     },
     "metadata": {},
     "output_type": "display_data"
    },
    {
     "data": {
      "text/html": [
       "<pre>Finalizing lookup tables.</pre>"
      ],
      "text/plain": [
       "Finalizing lookup tables."
      ]
     },
     "metadata": {},
     "output_type": "display_data"
    },
    {
     "data": {
      "text/html": [
       "<pre>Generating candidate set for working with new users.</pre>"
      ],
      "text/plain": [
       "Generating candidate set for working with new users."
      ]
     },
     "metadata": {},
     "output_type": "display_data"
    },
    {
     "data": {
      "text/html": [
       "<pre>Finished training in 0.006982s</pre>"
      ],
      "text/plain": [
       "Finished training in 0.006982s"
      ]
     },
     "metadata": {},
     "output_type": "display_data"
    },
    {
     "data": {
      "text/html": [
       "<pre>recommendations finished on 1000/10000 queries. users per second: 200602</pre>"
      ],
      "text/plain": [
       "recommendations finished on 1000/10000 queries. users per second: 200602"
      ]
     },
     "metadata": {},
     "output_type": "display_data"
    },
    {
     "data": {
      "text/html": [
       "<pre>recommendations finished on 2000/10000 queries. users per second: 250689</pre>"
      ],
      "text/plain": [
       "recommendations finished on 2000/10000 queries. users per second: 250689"
      ]
     },
     "metadata": {},
     "output_type": "display_data"
    },
    {
     "data": {
      "text/html": [
       "<pre>recommendations finished on 3000/10000 queries. users per second: 334262</pre>"
      ],
      "text/plain": [
       "recommendations finished on 3000/10000 queries. users per second: 334262"
      ]
     },
     "metadata": {},
     "output_type": "display_data"
    },
    {
     "data": {
      "text/html": [
       "<pre>recommendations finished on 4000/10000 queries. users per second: 364631</pre>"
      ],
      "text/plain": [
       "recommendations finished on 4000/10000 queries. users per second: 364631"
      ]
     },
     "metadata": {},
     "output_type": "display_data"
    },
    {
     "data": {
      "text/html": [
       "<pre>recommendations finished on 5000/10000 queries. users per second: 385683</pre>"
      ],
      "text/plain": [
       "recommendations finished on 5000/10000 queries. users per second: 385683"
      ]
     },
     "metadata": {},
     "output_type": "display_data"
    },
    {
     "data": {
      "text/html": [
       "<pre>recommendations finished on 6000/10000 queries. users per second: 376011</pre>"
      ],
      "text/plain": [
       "recommendations finished on 6000/10000 queries. users per second: 376011"
      ]
     },
     "metadata": {},
     "output_type": "display_data"
    },
    {
     "data": {
      "text/html": [
       "<pre>recommendations finished on 7000/10000 queries. users per second: 389950</pre>"
      ],
      "text/plain": [
       "recommendations finished on 7000/10000 queries. users per second: 389950"
      ]
     },
     "metadata": {},
     "output_type": "display_data"
    },
    {
     "data": {
      "text/html": [
       "<pre>recommendations finished on 8000/10000 queries. users per second: 401023</pre>"
      ],
      "text/plain": [
       "recommendations finished on 8000/10000 queries. users per second: 401023"
      ]
     },
     "metadata": {},
     "output_type": "display_data"
    },
    {
     "data": {
      "text/html": [
       "<pre>recommendations finished on 9000/10000 queries. users per second: 392362</pre>"
      ],
      "text/plain": [
       "recommendations finished on 9000/10000 queries. users per second: 392362"
      ]
     },
     "metadata": {},
     "output_type": "display_data"
    },
    {
     "data": {
      "text/html": [
       "<pre>recommendations finished on 10000/10000 queries. users per second: 345758</pre>"
      ],
      "text/plain": [
       "recommendations finished on 10000/10000 queries. users per second: 345758"
      ]
     },
     "metadata": {},
     "output_type": "display_data"
    },
    {
     "data": {
      "text/html": [
       "<pre>recommendations finished on 1000/10000 queries. users per second: 200401</pre>"
      ],
      "text/plain": [
       "recommendations finished on 1000/10000 queries. users per second: 200401"
      ]
     },
     "metadata": {},
     "output_type": "display_data"
    },
    {
     "data": {
      "text/html": [
       "<pre>recommendations finished on 2000/10000 queries. users per second: 250689</pre>"
      ],
      "text/plain": [
       "recommendations finished on 2000/10000 queries. users per second: 250689"
      ]
     },
     "metadata": {},
     "output_type": "display_data"
    },
    {
     "data": {
      "text/html": [
       "<pre>recommendations finished on 3000/10000 queries. users per second: 300782</pre>"
      ],
      "text/plain": [
       "recommendations finished on 3000/10000 queries. users per second: 300782"
      ]
     },
     "metadata": {},
     "output_type": "display_data"
    },
    {
     "data": {
      "text/html": [
       "<pre>recommendations finished on 4000/10000 queries. users per second: 308523</pre>"
      ],
      "text/plain": [
       "recommendations finished on 4000/10000 queries. users per second: 308523"
      ]
     },
     "metadata": {},
     "output_type": "display_data"
    },
    {
     "data": {
      "text/html": [
       "<pre>recommendations finished on 5000/10000 queries. users per second: 313342</pre>"
      ],
      "text/plain": [
       "recommendations finished on 5000/10000 queries. users per second: 313342"
      ]
     },
     "metadata": {},
     "output_type": "display_data"
    },
    {
     "data": {
      "text/html": [
       "<pre>recommendations finished on 6000/10000 queries. users per second: 316639</pre>"
      ],
      "text/plain": [
       "recommendations finished on 6000/10000 queries. users per second: 316639"
      ]
     },
     "metadata": {},
     "output_type": "display_data"
    },
    {
     "data": {
      "text/html": [
       "<pre>recommendations finished on 7000/10000 queries. users per second: 318979</pre>"
      ],
      "text/plain": [
       "recommendations finished on 7000/10000 queries. users per second: 318979"
      ]
     },
     "metadata": {},
     "output_type": "display_data"
    },
    {
     "data": {
      "text/html": [
       "<pre>recommendations finished on 8000/10000 queries. users per second: 320860</pre>"
      ],
      "text/plain": [
       "recommendations finished on 8000/10000 queries. users per second: 320860"
      ]
     },
     "metadata": {},
     "output_type": "display_data"
    },
    {
     "data": {
      "text/html": [
       "<pre>recommendations finished on 9000/10000 queries. users per second: 300792</pre>"
      ],
      "text/plain": [
       "recommendations finished on 9000/10000 queries. users per second: 300792"
      ]
     },
     "metadata": {},
     "output_type": "display_data"
    },
    {
     "data": {
      "text/html": [
       "<pre>recommendations finished on 10000/10000 queries. users per second: 257050</pre>"
      ],
      "text/plain": [
       "recommendations finished on 10000/10000 queries. users per second: 257050"
      ]
     },
     "metadata": {},
     "output_type": "display_data"
    },
    {
     "data": {
      "text/html": [
       "<pre>recommendations finished on 1000/10000 queries. users per second: 200521</pre>"
      ],
      "text/plain": [
       "recommendations finished on 1000/10000 queries. users per second: 200521"
      ]
     },
     "metadata": {},
     "output_type": "display_data"
    },
    {
     "data": {
      "text/html": [
       "<pre>recommendations finished on 2000/10000 queries. users per second: 250658</pre>"
      ],
      "text/plain": [
       "recommendations finished on 2000/10000 queries. users per second: 250658"
      ]
     },
     "metadata": {},
     "output_type": "display_data"
    },
    {
     "data": {
      "text/html": [
       "<pre>recommendations finished on 3000/10000 queries. users per second: 273448</pre>"
      ],
      "text/plain": [
       "recommendations finished on 3000/10000 queries. users per second: 273448"
      ]
     },
     "metadata": {},
     "output_type": "display_data"
    },
    {
     "data": {
      "text/html": [
       "<pre>recommendations finished on 4000/10000 queries. users per second: 286471</pre>"
      ],
      "text/plain": [
       "recommendations finished on 4000/10000 queries. users per second: 286471"
      ]
     },
     "metadata": {},
     "output_type": "display_data"
    },
    {
     "data": {
      "text/html": [
       "<pre>recommendations finished on 5000/10000 queries. users per second: 313322</pre>"
      ],
      "text/plain": [
       "recommendations finished on 5000/10000 queries. users per second: 313322"
      ]
     },
     "metadata": {},
     "output_type": "display_data"
    },
    {
     "data": {
      "text/html": [
       "<pre>recommendations finished on 6000/10000 queries. users per second: 334225</pre>"
      ],
      "text/plain": [
       "recommendations finished on 6000/10000 queries. users per second: 334225"
      ]
     },
     "metadata": {},
     "output_type": "display_data"
    },
    {
     "data": {
      "text/html": [
       "<pre>recommendations finished on 7000/10000 queries. users per second: 350930</pre>"
      ],
      "text/plain": [
       "recommendations finished on 7000/10000 queries. users per second: 350930"
      ]
     },
     "metadata": {},
     "output_type": "display_data"
    },
    {
     "data": {
      "text/html": [
       "<pre>recommendations finished on 8000/10000 queries. users per second: 364598</pre>"
      ],
      "text/plain": [
       "recommendations finished on 8000/10000 queries. users per second: 364598"
      ]
     },
     "metadata": {},
     "output_type": "display_data"
    },
    {
     "data": {
      "text/html": [
       "<pre>recommendations finished on 9000/10000 queries. users per second: 347075</pre>"
      ],
      "text/plain": [
       "recommendations finished on 9000/10000 queries. users per second: 347075"
      ]
     },
     "metadata": {},
     "output_type": "display_data"
    },
    {
     "data": {
      "text/html": [
       "<pre>recommendations finished on 10000/10000 queries. users per second: 313313</pre>"
      ],
      "text/plain": [
       "recommendations finished on 10000/10000 queries. users per second: 313313"
      ]
     },
     "metadata": {},
     "output_type": "display_data"
    },
    {
     "data": {
      "text/html": [
       "<pre>recommendations finished on 1000/10000 queries. users per second: 125345</pre>"
      ],
      "text/plain": [
       "recommendations finished on 1000/10000 queries. users per second: 125345"
      ]
     },
     "metadata": {},
     "output_type": "display_data"
    },
    {
     "data": {
      "text/html": [
       "<pre>recommendations finished on 2000/10000 queries. users per second: 167126</pre>"
      ],
      "text/plain": [
       "recommendations finished on 2000/10000 queries. users per second: 167126"
      ]
     },
     "metadata": {},
     "output_type": "display_data"
    },
    {
     "data": {
      "text/html": [
       "<pre>recommendations finished on 3000/10000 queries. users per second: 188017</pre>"
      ],
      "text/plain": [
       "recommendations finished on 3000/10000 queries. users per second: 188017"
      ]
     },
     "metadata": {},
     "output_type": "display_data"
    },
    {
     "data": {
      "text/html": [
       "<pre>recommendations finished on 4000/10000 queries. users per second: 200552</pre>"
      ],
      "text/plain": [
       "recommendations finished on 4000/10000 queries. users per second: 200552"
      ]
     },
     "metadata": {},
     "output_type": "display_data"
    },
    {
     "data": {
      "text/html": [
       "<pre>recommendations finished on 5000/10000 queries. users per second: 208899</pre>"
      ],
      "text/plain": [
       "recommendations finished on 5000/10000 queries. users per second: 208899"
      ]
     },
     "metadata": {},
     "output_type": "display_data"
    },
    {
     "data": {
      "text/html": [
       "<pre>recommendations finished on 6000/10000 queries. users per second: 207455</pre>"
      ],
      "text/plain": [
       "recommendations finished on 6000/10000 queries. users per second: 207455"
      ]
     },
     "metadata": {},
     "output_type": "display_data"
    },
    {
     "data": {
      "text/html": [
       "<pre>recommendations finished on 7000/10000 queries. users per second: 212688</pre>"
      ],
      "text/plain": [
       "recommendations finished on 7000/10000 queries. users per second: 212688"
      ]
     },
     "metadata": {},
     "output_type": "display_data"
    },
    {
     "data": {
      "text/html": [
       "<pre>recommendations finished on 8000/10000 queries. users per second: 186545</pre>"
      ],
      "text/plain": [
       "recommendations finished on 8000/10000 queries. users per second: 186545"
      ]
     },
     "metadata": {},
     "output_type": "display_data"
    },
    {
     "data": {
      "text/html": [
       "<pre>recommendations finished on 9000/10000 queries. users per second: 176942</pre>"
      ],
      "text/plain": [
       "recommendations finished on 9000/10000 queries. users per second: 176942"
      ]
     },
     "metadata": {},
     "output_type": "display_data"
    },
    {
     "data": {
      "text/html": [
       "<pre>recommendations finished on 10000/10000 queries. users per second: 154257</pre>"
      ],
      "text/plain": [
       "recommendations finished on 10000/10000 queries. users per second: 154257"
      ]
     },
     "metadata": {},
     "output_type": "display_data"
    },
    {
     "name": "stdout",
     "output_type": "stream",
     "text": [
      "Accuracy for User-Item Collaborative Filtering Recommender System based on Top-5 similar users\n",
      "For a 2-day testing period: 0.4\n",
      "For a 4-day testing period: 0.625\n",
      "For a 10-day testing period: 0.85\n",
      "Accuracy for User-Item Collaborative Filtering Recommender System based on Top-10 similar users\n",
      "For a 2-day testing period: 0.425\n",
      "For a 4-day testing period: 0.625\n",
      "For a 10-day testing period: 0.875\n",
      "Accuracy for User-Item Collaborative Filtering Recommender System based on Top-15 similar users\n",
      "For a 2-day testing period: 0.45\n",
      "For a 4-day testing period: 0.65\n",
      "For a 10-day testing period: 0.875\n",
      "Accuracy for User-Item Collaborative Filtering Recommender System based on Top-20 similar users\n",
      "For a 2-day testing period: 0.475\n",
      "For a 4-day testing period: 0.675\n",
      "For a 10-day testing period: 0.875\n",
      "\n",
      "Accuracy for Mid Items\n",
      "\n"
     ]
    },
    {
     "data": {
      "text/html": [
       "<pre>Recsys training: model = item_similarity</pre>"
      ],
      "text/plain": [
       "Recsys training: model = item_similarity"
      ]
     },
     "metadata": {},
     "output_type": "display_data"
    },
    {
     "data": {
      "text/html": [
       "<pre>Preparing data set.</pre>"
      ],
      "text/plain": [
       "Preparing data set."
      ]
     },
     "metadata": {},
     "output_type": "display_data"
    },
    {
     "data": {
      "text/html": [
       "<pre>    Data has 4030 observations with 2470 users and 58 items.</pre>"
      ],
      "text/plain": [
       "    Data has 4030 observations with 2470 users and 58 items."
      ]
     },
     "metadata": {},
     "output_type": "display_data"
    },
    {
     "data": {
      "text/html": [
       "<pre>    Data prepared in: 0.005985s</pre>"
      ],
      "text/plain": [
       "    Data prepared in: 0.005985s"
      ]
     },
     "metadata": {},
     "output_type": "display_data"
    },
    {
     "data": {
      "text/html": [
       "<pre>Training model from provided data.</pre>"
      ],
      "text/plain": [
       "Training model from provided data."
      ]
     },
     "metadata": {},
     "output_type": "display_data"
    },
    {
     "data": {
      "text/html": [
       "<pre>Gathering per-item and per-user statistics.</pre>"
      ],
      "text/plain": [
       "Gathering per-item and per-user statistics."
      ]
     },
     "metadata": {},
     "output_type": "display_data"
    },
    {
     "data": {
      "text/html": [
       "<pre>+--------------------------------+------------+</pre>"
      ],
      "text/plain": [
       "+--------------------------------+------------+"
      ]
     },
     "metadata": {},
     "output_type": "display_data"
    },
    {
     "data": {
      "text/html": [
       "<pre>| Elapsed Time (Item Statistics) | % Complete |</pre>"
      ],
      "text/plain": [
       "| Elapsed Time (Item Statistics) | % Complete |"
      ]
     },
     "metadata": {},
     "output_type": "display_data"
    },
    {
     "data": {
      "text/html": [
       "<pre>+--------------------------------+------------+</pre>"
      ],
      "text/plain": [
       "+--------------------------------+------------+"
      ]
     },
     "metadata": {},
     "output_type": "display_data"
    },
    {
     "data": {
      "text/html": [
       "<pre>| 0us                            | 40.25      |</pre>"
      ],
      "text/plain": [
       "| 0us                            | 40.25      |"
      ]
     },
     "metadata": {},
     "output_type": "display_data"
    },
    {
     "data": {
      "text/html": [
       "<pre>| 0us                            | 100        |</pre>"
      ],
      "text/plain": [
       "| 0us                            | 100        |"
      ]
     },
     "metadata": {},
     "output_type": "display_data"
    },
    {
     "data": {
      "text/html": [
       "<pre>+--------------------------------+------------+</pre>"
      ],
      "text/plain": [
       "+--------------------------------+------------+"
      ]
     },
     "metadata": {},
     "output_type": "display_data"
    },
    {
     "data": {
      "text/html": [
       "<pre>Setting up lookup tables.</pre>"
      ],
      "text/plain": [
       "Setting up lookup tables."
      ]
     },
     "metadata": {},
     "output_type": "display_data"
    },
    {
     "data": {
      "text/html": [
       "<pre>Processing data in one pass using dense lookup tables.</pre>"
      ],
      "text/plain": [
       "Processing data in one pass using dense lookup tables."
      ]
     },
     "metadata": {},
     "output_type": "display_data"
    },
    {
     "data": {
      "text/html": [
       "<pre>+-------------------------------------+------------------+-----------------+</pre>"
      ],
      "text/plain": [
       "+-------------------------------------+------------------+-----------------+"
      ]
     },
     "metadata": {},
     "output_type": "display_data"
    },
    {
     "data": {
      "text/html": [
       "<pre>| Elapsed Time (Constructing Lookups) | Total % Complete | Items Processed |</pre>"
      ],
      "text/plain": [
       "| Elapsed Time (Constructing Lookups) | Total % Complete | Items Processed |"
      ]
     },
     "metadata": {},
     "output_type": "display_data"
    },
    {
     "data": {
      "text/html": [
       "<pre>+-------------------------------------+------------------+-----------------+</pre>"
      ],
      "text/plain": [
       "+-------------------------------------+------------------+-----------------+"
      ]
     },
     "metadata": {},
     "output_type": "display_data"
    },
    {
     "data": {
      "text/html": [
       "<pre>| 997us                               | 0                | 0               |</pre>"
      ],
      "text/plain": [
       "| 997us                               | 0                | 0               |"
      ]
     },
     "metadata": {},
     "output_type": "display_data"
    },
    {
     "data": {
      "text/html": [
       "<pre>| 1.995ms                             | 100              | 58              |</pre>"
      ],
      "text/plain": [
       "| 1.995ms                             | 100              | 58              |"
      ]
     },
     "metadata": {},
     "output_type": "display_data"
    },
    {
     "data": {
      "text/html": [
       "<pre>+-------------------------------------+------------------+-----------------+</pre>"
      ],
      "text/plain": [
       "+-------------------------------------+------------------+-----------------+"
      ]
     },
     "metadata": {},
     "output_type": "display_data"
    },
    {
     "data": {
      "text/html": [
       "<pre>Finalizing lookup tables.</pre>"
      ],
      "text/plain": [
       "Finalizing lookup tables."
      ]
     },
     "metadata": {},
     "output_type": "display_data"
    },
    {
     "data": {
      "text/html": [
       "<pre>Generating candidate set for working with new users.</pre>"
      ],
      "text/plain": [
       "Generating candidate set for working with new users."
      ]
     },
     "metadata": {},
     "output_type": "display_data"
    },
    {
     "data": {
      "text/html": [
       "<pre>Finished training in 0.002992s</pre>"
      ],
      "text/plain": [
       "Finished training in 0.002992s"
      ]
     },
     "metadata": {},
     "output_type": "display_data"
    },
    {
     "data": {
      "text/html": [
       "<pre>recommendations finished on 1000/10000 queries. users per second: 143225</pre>"
      ],
      "text/plain": [
       "recommendations finished on 1000/10000 queries. users per second: 143225"
      ]
     },
     "metadata": {},
     "output_type": "display_data"
    },
    {
     "data": {
      "text/html": [
       "<pre>recommendations finished on 2000/10000 queries. users per second: 200541</pre>"
      ],
      "text/plain": [
       "recommendations finished on 2000/10000 queries. users per second: 200541"
      ]
     },
     "metadata": {},
     "output_type": "display_data"
    },
    {
     "data": {
      "text/html": [
       "<pre>recommendations finished on 3000/10000 queries. users per second: 231392</pre>"
      ],
      "text/plain": [
       "recommendations finished on 3000/10000 queries. users per second: 231392"
      ]
     },
     "metadata": {},
     "output_type": "display_data"
    },
    {
     "data": {
      "text/html": [
       "<pre>recommendations finished on 4000/10000 queries. users per second: 250674</pre>"
      ],
      "text/plain": [
       "recommendations finished on 4000/10000 queries. users per second: 250674"
      ]
     },
     "metadata": {},
     "output_type": "display_data"
    },
    {
     "data": {
      "text/html": [
       "<pre>recommendations finished on 5000/10000 queries. users per second: 263852</pre>"
      ],
      "text/plain": [
       "recommendations finished on 5000/10000 queries. users per second: 263852"
      ]
     },
     "metadata": {},
     "output_type": "display_data"
    },
    {
     "data": {
      "text/html": [
       "<pre>recommendations finished on 6000/10000 queries. users per second: 273448</pre>"
      ],
      "text/plain": [
       "recommendations finished on 6000/10000 queries. users per second: 273448"
      ]
     },
     "metadata": {},
     "output_type": "display_data"
    },
    {
     "data": {
      "text/html": [
       "<pre>recommendations finished on 7000/10000 queries. users per second: 269947</pre>"
      ],
      "text/plain": [
       "recommendations finished on 7000/10000 queries. users per second: 269947"
      ]
     },
     "metadata": {},
     "output_type": "display_data"
    },
    {
     "data": {
      "text/html": [
       "<pre>recommendations finished on 8000/10000 queries. users per second: 276596</pre>"
      ],
      "text/plain": [
       "recommendations finished on 8000/10000 queries. users per second: 276596"
      ]
     },
     "metadata": {},
     "output_type": "display_data"
    },
    {
     "data": {
      "text/html": [
       "<pre>recommendations finished on 9000/10000 queries. users per second: 273423</pre>"
      ],
      "text/plain": [
       "recommendations finished on 9000/10000 queries. users per second: 273423"
      ]
     },
     "metadata": {},
     "output_type": "display_data"
    },
    {
     "data": {
      "text/html": [
       "<pre>recommendations finished on 10000/10000 queries. users per second: 238726</pre>"
      ],
      "text/plain": [
       "recommendations finished on 10000/10000 queries. users per second: 238726"
      ]
     },
     "metadata": {},
     "output_type": "display_data"
    },
    {
     "data": {
      "text/html": [
       "<pre>recommendations finished on 1000/10000 queries. users per second: 250815</pre>"
      ],
      "text/plain": [
       "recommendations finished on 1000/10000 queries. users per second: 250815"
      ]
     },
     "metadata": {},
     "output_type": "display_data"
    },
    {
     "data": {
      "text/html": [
       "<pre>recommendations finished on 2000/10000 queries. users per second: 286574</pre>"
      ],
      "text/plain": [
       "recommendations finished on 2000/10000 queries. users per second: 286574"
      ]
     },
     "metadata": {},
     "output_type": "display_data"
    },
    {
     "data": {
      "text/html": [
       "<pre>recommendations finished on 3000/10000 queries. users per second: 300873</pre>"
      ],
      "text/plain": [
       "recommendations finished on 3000/10000 queries. users per second: 300873"
      ]
     },
     "metadata": {},
     "output_type": "display_data"
    },
    {
     "data": {
      "text/html": [
       "<pre>recommendations finished on 4000/10000 queries. users per second: 286512</pre>"
      ],
      "text/plain": [
       "recommendations finished on 4000/10000 queries. users per second: 286512"
      ]
     },
     "metadata": {},
     "output_type": "display_data"
    },
    {
     "data": {
      "text/html": [
       "<pre>recommendations finished on 5000/10000 queries. users per second: 294933</pre>"
      ],
      "text/plain": [
       "recommendations finished on 5000/10000 queries. users per second: 294933"
      ]
     },
     "metadata": {},
     "output_type": "display_data"
    },
    {
     "data": {
      "text/html": [
       "<pre>recommendations finished on 6000/10000 queries. users per second: 300842</pre>"
      ],
      "text/plain": [
       "recommendations finished on 6000/10000 queries. users per second: 300842"
      ]
     },
     "metadata": {},
     "output_type": "display_data"
    },
    {
     "data": {
      "text/html": [
       "<pre>recommendations finished on 7000/10000 queries. users per second: 292459</pre>"
      ],
      "text/plain": [
       "recommendations finished on 7000/10000 queries. users per second: 292459"
      ]
     },
     "metadata": {},
     "output_type": "display_data"
    },
    {
     "data": {
      "text/html": [
       "<pre>recommendations finished on 8000/10000 queries. users per second: 297111</pre>"
      ],
      "text/plain": [
       "recommendations finished on 8000/10000 queries. users per second: 297111"
      ]
     },
     "metadata": {},
     "output_type": "display_data"
    },
    {
     "data": {
      "text/html": [
       "<pre>recommendations finished on 9000/10000 queries. users per second: 300822</pre>"
      ],
      "text/plain": [
       "recommendations finished on 9000/10000 queries. users per second: 300822"
      ]
     },
     "metadata": {},
     "output_type": "display_data"
    },
    {
     "data": {
      "text/html": [
       "<pre>recommendations finished on 10000/10000 queries. users per second: 270995</pre>"
      ],
      "text/plain": [
       "recommendations finished on 10000/10000 queries. users per second: 270995"
      ]
     },
     "metadata": {},
     "output_type": "display_data"
    },
    {
     "data": {
      "text/html": [
       "<pre>recommendations finished on 1000/10000 queries. users per second: 200602</pre>"
      ],
      "text/plain": [
       "recommendations finished on 1000/10000 queries. users per second: 200602"
      ]
     },
     "metadata": {},
     "output_type": "display_data"
    },
    {
     "data": {
      "text/html": [
       "<pre>recommendations finished on 2000/10000 queries. users per second: 222742</pre>"
      ],
      "text/plain": [
       "recommendations finished on 2000/10000 queries. users per second: 222742"
      ]
     },
     "metadata": {},
     "output_type": "display_data"
    },
    {
     "data": {
      "text/html": [
       "<pre>recommendations finished on 3000/10000 queries. users per second: 214884</pre>"
      ],
      "text/plain": [
       "recommendations finished on 3000/10000 queries. users per second: 214884"
      ]
     },
     "metadata": {},
     "output_type": "display_data"
    },
    {
     "data": {
      "text/html": [
       "<pre>recommendations finished on 4000/10000 queries. users per second: 200552</pre>"
      ],
      "text/plain": [
       "recommendations finished on 4000/10000 queries. users per second: 200552"
      ]
     },
     "metadata": {},
     "output_type": "display_data"
    },
    {
     "data": {
      "text/html": [
       "<pre>recommendations finished on 5000/10000 queries. users per second: 208899</pre>"
      ],
      "text/plain": [
       "recommendations finished on 5000/10000 queries. users per second: 208899"
      ]
     },
     "metadata": {},
     "output_type": "display_data"
    },
    {
     "data": {
      "text/html": [
       "<pre>recommendations finished on 6000/10000 queries. users per second: 222825</pre>"
      ],
      "text/plain": [
       "recommendations finished on 6000/10000 queries. users per second: 222825"
      ]
     },
     "metadata": {},
     "output_type": "display_data"
    },
    {
     "data": {
      "text/html": [
       "<pre>recommendations finished on 7000/10000 queries. users per second: 226420</pre>"
      ],
      "text/plain": [
       "recommendations finished on 7000/10000 queries. users per second: 226420"
      ]
     },
     "metadata": {},
     "output_type": "display_data"
    },
    {
     "data": {
      "text/html": [
       "<pre>recommendations finished on 8000/10000 queries. users per second: 200536</pre>"
      ],
      "text/plain": [
       "recommendations finished on 8000/10000 queries. users per second: 200536"
      ]
     },
     "metadata": {},
     "output_type": "display_data"
    },
    {
     "data": {
      "text/html": [
       "<pre>recommendations finished on 9000/10000 queries. users per second: 161143</pre>"
      ],
      "text/plain": [
       "recommendations finished on 9000/10000 queries. users per second: 161143"
      ]
     },
     "metadata": {},
     "output_type": "display_data"
    },
    {
     "data": {
      "text/html": [
       "<pre>recommendations finished on 10000/10000 queries. users per second: 119365</pre>"
      ],
      "text/plain": [
       "recommendations finished on 10000/10000 queries. users per second: 119365"
      ]
     },
     "metadata": {},
     "output_type": "display_data"
    },
    {
     "data": {
      "text/html": [
       "<pre>recommendations finished on 1000/10000 queries. users per second: 111421</pre>"
      ],
      "text/plain": [
       "recommendations finished on 1000/10000 queries. users per second: 111421"
      ]
     },
     "metadata": {},
     "output_type": "display_data"
    },
    {
     "data": {
      "text/html": [
       "<pre>recommendations finished on 2000/10000 queries. users per second: 133699</pre>"
      ],
      "text/plain": [
       "recommendations finished on 2000/10000 queries. users per second: 133699"
      ]
     },
     "metadata": {},
     "output_type": "display_data"
    },
    {
     "data": {
      "text/html": [
       "<pre>recommendations finished on 3000/10000 queries. users per second: 150406</pre>"
      ],
      "text/plain": [
       "recommendations finished on 3000/10000 queries. users per second: 150406"
      ]
     },
     "metadata": {},
     "output_type": "display_data"
    },
    {
     "data": {
      "text/html": [
       "<pre>recommendations finished on 4000/10000 queries. users per second: 154261</pre>"
      ],
      "text/plain": [
       "recommendations finished on 4000/10000 queries. users per second: 154261"
      ]
     },
     "metadata": {},
     "output_type": "display_data"
    },
    {
     "data": {
      "text/html": [
       "<pre>recommendations finished on 5000/10000 queries. users per second: 167118</pre>"
      ],
      "text/plain": [
       "recommendations finished on 5000/10000 queries. users per second: 167118"
      ]
     },
     "metadata": {},
     "output_type": "display_data"
    },
    {
     "data": {
      "text/html": [
       "<pre>recommendations finished on 6000/10000 queries. users per second: 171890</pre>"
      ],
      "text/plain": [
       "recommendations finished on 6000/10000 queries. users per second: 171890"
      ]
     },
     "metadata": {},
     "output_type": "display_data"
    },
    {
     "data": {
      "text/html": [
       "<pre>recommendations finished on 7000/10000 queries. users per second: 167112</pre>"
      ],
      "text/plain": [
       "recommendations finished on 7000/10000 queries. users per second: 167112"
      ]
     },
     "metadata": {},
     "output_type": "display_data"
    },
    {
     "data": {
      "text/html": [
       "<pre>recommendations finished on 8000/10000 queries. users per second: 151343</pre>"
      ],
      "text/plain": [
       "recommendations finished on 8000/10000 queries. users per second: 151343"
      ]
     },
     "metadata": {},
     "output_type": "display_data"
    },
    {
     "data": {
      "text/html": [
       "<pre>recommendations finished on 9000/10000 queries. users per second: 145549</pre>"
      ],
      "text/plain": [
       "recommendations finished on 9000/10000 queries. users per second: 145549"
      ]
     },
     "metadata": {},
     "output_type": "display_data"
    },
    {
     "data": {
      "text/html": [
       "<pre>recommendations finished on 10000/10000 queries. users per second: 139258</pre>"
      ],
      "text/plain": [
       "recommendations finished on 10000/10000 queries. users per second: 139258"
      ]
     },
     "metadata": {},
     "output_type": "display_data"
    },
    {
     "name": "stdout",
     "output_type": "stream",
     "text": [
      "Accuracy for User-Item Collaborative Filtering Recommender System based on Top-5 similar users\n",
      "For a 2-day testing period: 0.0689655172414\n",
      "For a 4-day testing period: 0.137931034483\n",
      "For a 10-day testing period: 0.241379310345\n",
      "Accuracy for User-Item Collaborative Filtering Recommender System based on Top-10 similar users\n",
      "For a 2-day testing period: 0.103448275862\n",
      "For a 4-day testing period: 0.189655172414\n",
      "For a 10-day testing period: 0.293103448276\n",
      "Accuracy for User-Item Collaborative Filtering Recommender System based on Top-15 similar users\n",
      "For a 2-day testing period: 0.137931034483\n",
      "For a 4-day testing period: 0.241379310345\n",
      "For a 10-day testing period: 0.344827586207\n",
      "Accuracy for User-Item Collaborative Filtering Recommender System based on Top-20 similar users\n",
      "For a 2-day testing period: 0.172413793103\n",
      "For a 4-day testing period: 0.293103448276\n",
      "For a 10-day testing period: 0.413793103448\n",
      "\n",
      "Accuracy for Long Tail Items\n",
      "\n"
     ]
    },
    {
     "data": {
      "text/html": [
       "<pre>Recsys training: model = item_similarity</pre>"
      ],
      "text/plain": [
       "Recsys training: model = item_similarity"
      ]
     },
     "metadata": {},
     "output_type": "display_data"
    },
    {
     "data": {
      "text/html": [
       "<pre>Preparing data set.</pre>"
      ],
      "text/plain": [
       "Preparing data set."
      ]
     },
     "metadata": {},
     "output_type": "display_data"
    },
    {
     "data": {
      "text/html": [
       "<pre>    Data has 1368 observations with 939 users and 165 items.</pre>"
      ],
      "text/plain": [
       "    Data has 1368 observations with 939 users and 165 items."
      ]
     },
     "metadata": {},
     "output_type": "display_data"
    },
    {
     "data": {
      "text/html": [
       "<pre>    Data prepared in: 0.002994s</pre>"
      ],
      "text/plain": [
       "    Data prepared in: 0.002994s"
      ]
     },
     "metadata": {},
     "output_type": "display_data"
    },
    {
     "data": {
      "text/html": [
       "<pre>Training model from provided data.</pre>"
      ],
      "text/plain": [
       "Training model from provided data."
      ]
     },
     "metadata": {},
     "output_type": "display_data"
    },
    {
     "data": {
      "text/html": [
       "<pre>Gathering per-item and per-user statistics.</pre>"
      ],
      "text/plain": [
       "Gathering per-item and per-user statistics."
      ]
     },
     "metadata": {},
     "output_type": "display_data"
    },
    {
     "data": {
      "text/html": [
       "<pre>+--------------------------------+------------+</pre>"
      ],
      "text/plain": [
       "+--------------------------------+------------+"
      ]
     },
     "metadata": {},
     "output_type": "display_data"
    },
    {
     "data": {
      "text/html": [
       "<pre>| Elapsed Time (Item Statistics) | % Complete |</pre>"
      ],
      "text/plain": [
       "| Elapsed Time (Item Statistics) | % Complete |"
      ]
     },
     "metadata": {},
     "output_type": "display_data"
    },
    {
     "data": {
      "text/html": [
       "<pre>+--------------------------------+------------+</pre>"
      ],
      "text/plain": [
       "+--------------------------------+------------+"
      ]
     },
     "metadata": {},
     "output_type": "display_data"
    },
    {
     "data": {
      "text/html": [
       "<pre>| 996us                          | 100        |</pre>"
      ],
      "text/plain": [
       "| 996us                          | 100        |"
      ]
     },
     "metadata": {},
     "output_type": "display_data"
    },
    {
     "data": {
      "text/html": [
       "<pre>+--------------------------------+------------+</pre>"
      ],
      "text/plain": [
       "+--------------------------------+------------+"
      ]
     },
     "metadata": {},
     "output_type": "display_data"
    },
    {
     "data": {
      "text/html": [
       "<pre>Setting up lookup tables.</pre>"
      ],
      "text/plain": [
       "Setting up lookup tables."
      ]
     },
     "metadata": {},
     "output_type": "display_data"
    },
    {
     "data": {
      "text/html": [
       "<pre>Processing data in one pass using dense lookup tables.</pre>"
      ],
      "text/plain": [
       "Processing data in one pass using dense lookup tables."
      ]
     },
     "metadata": {},
     "output_type": "display_data"
    },
    {
     "data": {
      "text/html": [
       "<pre>+-------------------------------------+------------------+-----------------+</pre>"
      ],
      "text/plain": [
       "+-------------------------------------+------------------+-----------------+"
      ]
     },
     "metadata": {},
     "output_type": "display_data"
    },
    {
     "data": {
      "text/html": [
       "<pre>| Elapsed Time (Constructing Lookups) | Total % Complete | Items Processed |</pre>"
      ],
      "text/plain": [
       "| Elapsed Time (Constructing Lookups) | Total % Complete | Items Processed |"
      ]
     },
     "metadata": {},
     "output_type": "display_data"
    },
    {
     "data": {
      "text/html": [
       "<pre>+-------------------------------------+------------------+-----------------+</pre>"
      ],
      "text/plain": [
       "+-------------------------------------+------------------+-----------------+"
      ]
     },
     "metadata": {},
     "output_type": "display_data"
    },
    {
     "data": {
      "text/html": [
       "<pre>| 996us                               | 0                | 0               |</pre>"
      ],
      "text/plain": [
       "| 996us                               | 0                | 0               |"
      ]
     },
     "metadata": {},
     "output_type": "display_data"
    },
    {
     "data": {
      "text/html": [
       "<pre>| 1.993ms                             | 100              | 165             |</pre>"
      ],
      "text/plain": [
       "| 1.993ms                             | 100              | 165             |"
      ]
     },
     "metadata": {},
     "output_type": "display_data"
    },
    {
     "data": {
      "text/html": [
       "<pre>+-------------------------------------+------------------+-----------------+</pre>"
      ],
      "text/plain": [
       "+-------------------------------------+------------------+-----------------+"
      ]
     },
     "metadata": {},
     "output_type": "display_data"
    },
    {
     "data": {
      "text/html": [
       "<pre>Finalizing lookup tables.</pre>"
      ],
      "text/plain": [
       "Finalizing lookup tables."
      ]
     },
     "metadata": {},
     "output_type": "display_data"
    },
    {
     "data": {
      "text/html": [
       "<pre>Generating candidate set for working with new users.</pre>"
      ],
      "text/plain": [
       "Generating candidate set for working with new users."
      ]
     },
     "metadata": {},
     "output_type": "display_data"
    },
    {
     "data": {
      "text/html": [
       "<pre>Finished training in 0.001993s</pre>"
      ],
      "text/plain": [
       "Finished training in 0.001993s"
      ]
     },
     "metadata": {},
     "output_type": "display_data"
    },
    {
     "data": {
      "text/html": [
       "<pre>recommendations finished on 1000/10000 queries. users per second: 200562</pre>"
      ],
      "text/plain": [
       "recommendations finished on 1000/10000 queries. users per second: 200562"
      ]
     },
     "metadata": {},
     "output_type": "display_data"
    },
    {
     "data": {
      "text/html": [
       "<pre>recommendations finished on 2000/10000 queries. users per second: 286492</pre>"
      ],
      "text/plain": [
       "recommendations finished on 2000/10000 queries. users per second: 286492"
      ]
     },
     "metadata": {},
     "output_type": "display_data"
    },
    {
     "data": {
      "text/html": [
       "<pre>recommendations finished on 3000/10000 queries. users per second: 300842</pre>"
      ],
      "text/plain": [
       "recommendations finished on 3000/10000 queries. users per second: 300842"
      ]
     },
     "metadata": {},
     "output_type": "display_data"
    },
    {
     "data": {
      "text/html": [
       "<pre>recommendations finished on 4000/10000 queries. users per second: 308523</pre>"
      ],
      "text/plain": [
       "recommendations finished on 4000/10000 queries. users per second: 308523"
      ]
     },
     "metadata": {},
     "output_type": "display_data"
    },
    {
     "data": {
      "text/html": [
       "<pre>recommendations finished on 5000/10000 queries. users per second: 334247</pre>"
      ],
      "text/plain": [
       "recommendations finished on 5000/10000 queries. users per second: 334247"
      ]
     },
     "metadata": {},
     "output_type": "display_data"
    },
    {
     "data": {
      "text/html": [
       "<pre>recommendations finished on 6000/10000 queries. users per second: 353899</pre>"
      ],
      "text/plain": [
       "recommendations finished on 6000/10000 queries. users per second: 353899"
      ]
     },
     "metadata": {},
     "output_type": "display_data"
    },
    {
     "data": {
      "text/html": [
       "<pre>recommendations finished on 7000/10000 queries. users per second: 369413</pre>"
      ],
      "text/plain": [
       "recommendations finished on 7000/10000 queries. users per second: 369413"
      ]
     },
     "metadata": {},
     "output_type": "display_data"
    },
    {
     "data": {
      "text/html": [
       "<pre>recommendations finished on 8000/10000 queries. users per second: 364614</pre>"
      ],
      "text/plain": [
       "recommendations finished on 8000/10000 queries. users per second: 364614"
      ]
     },
     "metadata": {},
     "output_type": "display_data"
    },
    {
     "data": {
      "text/html": [
       "<pre>recommendations finished on 9000/10000 queries. users per second: 376003</pre>"
      ],
      "text/plain": [
       "recommendations finished on 9000/10000 queries. users per second: 376003"
      ]
     },
     "metadata": {},
     "output_type": "display_data"
    },
    {
     "data": {
      "text/html": [
       "<pre>recommendations finished on 10000/10000 queries. users per second: 371361</pre>"
      ],
      "text/plain": [
       "recommendations finished on 10000/10000 queries. users per second: 371361"
      ]
     },
     "metadata": {},
     "output_type": "display_data"
    },
    {
     "data": {
      "text/html": [
       "<pre>recommendations finished on 1000/10000 queries. users per second: 167140</pre>"
      ],
      "text/plain": [
       "recommendations finished on 1000/10000 queries. users per second: 167140"
      ]
     },
     "metadata": {},
     "output_type": "display_data"
    },
    {
     "data": {
      "text/html": [
       "<pre>recommendations finished on 2000/10000 queries. users per second: 200562</pre>"
      ],
      "text/plain": [
       "recommendations finished on 2000/10000 queries. users per second: 200562"
      ]
     },
     "metadata": {},
     "output_type": "display_data"
    },
    {
     "data": {
      "text/html": [
       "<pre>recommendations finished on 3000/10000 queries. users per second: 214884</pre>"
      ],
      "text/plain": [
       "recommendations finished on 3000/10000 queries. users per second: 214884"
      ]
     },
     "metadata": {},
     "output_type": "display_data"
    },
    {
     "data": {
      "text/html": [
       "<pre>recommendations finished on 4000/10000 queries. users per second: 222841</pre>"
      ],
      "text/plain": [
       "recommendations finished on 4000/10000 queries. users per second: 222841"
      ]
     },
     "metadata": {},
     "output_type": "display_data"
    },
    {
     "data": {
      "text/html": [
       "<pre>recommendations finished on 5000/10000 queries. users per second: 200545</pre>"
      ],
      "text/plain": [
       "recommendations finished on 5000/10000 queries. users per second: 200545"
      ]
     },
     "metadata": {},
     "output_type": "display_data"
    },
    {
     "data": {
      "text/html": [
       "<pre>recommendations finished on 6000/10000 queries. users per second: 207455</pre>"
      ],
      "text/plain": [
       "recommendations finished on 6000/10000 queries. users per second: 207455"
      ]
     },
     "metadata": {},
     "output_type": "display_data"
    },
    {
     "data": {
      "text/html": [
       "<pre>recommendations finished on 7000/10000 queries. users per second: 200527</pre>"
      ],
      "text/plain": [
       "recommendations finished on 7000/10000 queries. users per second: 200527"
      ]
     },
     "metadata": {},
     "output_type": "display_data"
    },
    {
     "data": {
      "text/html": [
       "<pre>recommendations finished on 8000/10000 queries. users per second: 195647</pre>"
      ],
      "text/plain": [
       "recommendations finished on 8000/10000 queries. users per second: 195647"
      ]
     },
     "metadata": {},
     "output_type": "display_data"
    },
    {
     "data": {
      "text/html": [
       "<pre>recommendations finished on 9000/10000 queries. users per second: 184166</pre>"
      ],
      "text/plain": [
       "recommendations finished on 9000/10000 queries. users per second: 184166"
      ]
     },
     "metadata": {},
     "output_type": "display_data"
    },
    {
     "data": {
      "text/html": [
       "<pre>recommendations finished on 10000/10000 queries. users per second: 167115</pre>"
      ],
      "text/plain": [
       "recommendations finished on 10000/10000 queries. users per second: 167115"
      ]
     },
     "metadata": {},
     "output_type": "display_data"
    },
    {
     "data": {
      "text/html": [
       "<pre>recommendations finished on 1000/10000 queries. users per second: 167364</pre>"
      ],
      "text/plain": [
       "recommendations finished on 1000/10000 queries. users per second: 167364"
      ]
     },
     "metadata": {},
     "output_type": "display_data"
    },
    {
     "data": {
      "text/html": [
       "<pre>recommendations finished on 2000/10000 queries. users per second: 223015</pre>"
      ],
      "text/plain": [
       "recommendations finished on 2000/10000 queries. users per second: 223015"
      ]
     },
     "metadata": {},
     "output_type": "display_data"
    },
    {
     "data": {
      "text/html": [
       "<pre>recommendations finished on 3000/10000 queries. users per second: 215008</pre>"
      ],
      "text/plain": [
       "recommendations finished on 3000/10000 queries. users per second: 215008"
      ]
     },
     "metadata": {},
     "output_type": "display_data"
    },
    {
     "data": {
      "text/html": [
       "<pre>recommendations finished on 4000/10000 queries. users per second: 222916</pre>"
      ],
      "text/plain": [
       "recommendations finished on 4000/10000 queries. users per second: 222916"
      ]
     },
     "metadata": {},
     "output_type": "display_data"
    },
    {
     "data": {
      "text/html": [
       "<pre>recommendations finished on 5000/10000 queries. users per second: 227977</pre>"
      ],
      "text/plain": [
       "recommendations finished on 5000/10000 queries. users per second: 227977"
      ]
     },
     "metadata": {},
     "output_type": "display_data"
    },
    {
     "data": {
      "text/html": [
       "<pre>recommendations finished on 6000/10000 queries. users per second: 231464</pre>"
      ],
      "text/plain": [
       "recommendations finished on 6000/10000 queries. users per second: 231464"
      ]
     },
     "metadata": {},
     "output_type": "display_data"
    },
    {
     "data": {
      "text/html": [
       "<pre>recommendations finished on 7000/10000 queries. users per second: 242097</pre>"
      ],
      "text/plain": [
       "recommendations finished on 7000/10000 queries. users per second: 242097"
      ]
     },
     "metadata": {},
     "output_type": "display_data"
    },
    {
     "data": {
      "text/html": [
       "<pre>recommendations finished on 8000/10000 queries. users per second: 229233</pre>"
      ],
      "text/plain": [
       "recommendations finished on 8000/10000 queries. users per second: 229233"
      ]
     },
     "metadata": {},
     "output_type": "display_data"
    },
    {
     "data": {
      "text/html": [
       "<pre>recommendations finished on 9000/10000 queries. users per second: 214895</pre>"
      ],
      "text/plain": [
       "recommendations finished on 9000/10000 queries. users per second: 214895"
      ]
     },
     "metadata": {},
     "output_type": "display_data"
    },
    {
     "data": {
      "text/html": [
       "<pre>recommendations finished on 10000/10000 queries. users per second: 200566</pre>"
      ],
      "text/plain": [
       "recommendations finished on 10000/10000 queries. users per second: 200566"
      ]
     },
     "metadata": {},
     "output_type": "display_data"
    },
    {
     "data": {
      "text/html": [
       "<pre>recommendations finished on 1000/10000 queries. users per second: 143266</pre>"
      ],
      "text/plain": [
       "recommendations finished on 1000/10000 queries. users per second: 143266"
      ]
     },
     "metadata": {},
     "output_type": "display_data"
    },
    {
     "data": {
      "text/html": [
       "<pre>recommendations finished on 2000/10000 queries. users per second: 154273</pre>"
      ],
      "text/plain": [
       "recommendations finished on 2000/10000 queries. users per second: 154273"
      ]
     },
     "metadata": {},
     "output_type": "display_data"
    },
    {
     "data": {
      "text/html": [
       "<pre>recommendations finished on 3000/10000 queries. users per second: 167122</pre>"
      ],
      "text/plain": [
       "recommendations finished on 3000/10000 queries. users per second: 167122"
      ]
     },
     "metadata": {},
     "output_type": "display_data"
    },
    {
     "data": {
      "text/html": [
       "<pre>recommendations finished on 4000/10000 queries. users per second: 182315</pre>"
      ],
      "text/plain": [
       "recommendations finished on 4000/10000 queries. users per second: 182315"
      ]
     },
     "metadata": {},
     "output_type": "display_data"
    },
    {
     "data": {
      "text/html": [
       "<pre>recommendations finished on 5000/10000 queries. users per second: 179057</pre>"
      ],
      "text/plain": [
       "recommendations finished on 5000/10000 queries. users per second: 179057"
      ]
     },
     "metadata": {},
     "output_type": "display_data"
    },
    {
     "data": {
      "text/html": [
       "<pre>recommendations finished on 6000/10000 queries. users per second: 188005</pre>"
      ],
      "text/plain": [
       "recommendations finished on 6000/10000 queries. users per second: 188005"
      ]
     },
     "metadata": {},
     "output_type": "display_data"
    },
    {
     "data": {
      "text/html": [
       "<pre>recommendations finished on 7000/10000 queries. users per second: 179967</pre>"
      ],
      "text/plain": [
       "recommendations finished on 7000/10000 queries. users per second: 179967"
      ]
     },
     "metadata": {},
     "output_type": "display_data"
    },
    {
     "data": {
      "text/html": [
       "<pre>recommendations finished on 8000/10000 queries. users per second: 182307</pre>"
      ],
      "text/plain": [
       "recommendations finished on 8000/10000 queries. users per second: 182307"
      ]
     },
     "metadata": {},
     "output_type": "display_data"
    },
    {
     "data": {
      "text/html": [
       "<pre>recommendations finished on 9000/10000 queries. users per second: 173541</pre>"
      ],
      "text/plain": [
       "recommendations finished on 9000/10000 queries. users per second: 173541"
      ]
     },
     "metadata": {},
     "output_type": "display_data"
    },
    {
     "data": {
      "text/html": [
       "<pre>recommendations finished on 10000/10000 queries. users per second: 147449</pre>"
      ],
      "text/plain": [
       "recommendations finished on 10000/10000 queries. users per second: 147449"
      ]
     },
     "metadata": {},
     "output_type": "display_data"
    },
    {
     "name": "stdout",
     "output_type": "stream",
     "text": [
      "Accuracy for User-Item Collaborative Filtering Recommender System based on Top-5 similar users\n",
      "For a 2-day testing period: 0.00606060606061\n",
      "For a 4-day testing period: 0.00606060606061\n",
      "For a 10-day testing period: 0.0242424242424\n",
      "Accuracy for User-Item Collaborative Filtering Recommender System based on Top-10 similar users\n",
      "For a 2-day testing period: 0.00606060606061\n",
      "For a 4-day testing period: 0.00606060606061\n",
      "For a 10-day testing period: 0.0363636363636\n",
      "Accuracy for User-Item Collaborative Filtering Recommender System based on Top-15 similar users\n",
      "For a 2-day testing period: 0.00606060606061\n",
      "For a 4-day testing period: 0.00606060606061\n",
      "For a 10-day testing period: 0.0424242424242\n",
      "Accuracy for User-Item Collaborative Filtering Recommender System based on Top-20 similar users\n",
      "For a 2-day testing period: 0.0121212121212\n",
      "For a 4-day testing period: 0.0121212121212\n",
      "For a 10-day testing period: 0.0606060606061\n"
     ]
    }
   ],
   "source": [
    "import sys\n",
    "import os\n",
    "import random\n",
    "import numpy as np\n",
    "import graphlab as gl\n",
    "import pandas as pd\n",
    "from collections import Counter\n",
    "from __future__ import division\n",
    "from __future__ import print_function\n",
    "\n",
    "class Recommend_Collaborative_Filtering:\n",
    "    def __init__(self):\n",
    "        self.id_user = dict()\n",
    "        self.user_id = dict()\n",
    "        self.id_game = dict()\n",
    "        self.game_id = dict()\n",
    "        self.id_item = dict()\n",
    "        self.item_id = dict()\n",
    "        self.item_user = dict()\n",
    "        self.user_item = dict()\n",
    "        self.game_user = dict()\n",
    "        self.user_game = dict()\n",
    "        self.game_item = dict()\n",
    "        self.item_game = dict()\n",
    "        self.game_userlist = dict()\n",
    "        self.user_gamelist = dict()\n",
    "        self.game_itemlist = dict()\n",
    "        self.item_gamelist = dict()\n",
    "        self.user_itemlist = dict()\n",
    "        self.item_userlist = dict()\n",
    "        self.test2days_item_user = dict()\n",
    "        self.test2days_user_item = dict()\n",
    "        self.test4days_item_user = dict()\n",
    "        self.test4days_user_item = dict()\n",
    "        self.test10days_item_user = dict()\n",
    "        self.test10days_user_item = dict()\n",
    "        self.userlist = []\n",
    "        self.star_items = []\n",
    "        self.mid_items = []\n",
    "        self.tail_items = []\n",
    "\n",
    "    def read_data(self, dirpath):\n",
    "        with open(dirpath + \"/id_user.txt\") as udictfile:\n",
    "            for line in udictfile:\n",
    "                toks = line.strip().split(\"\\t\")\n",
    "                if len(toks) == 2:\n",
    "                    self.id_user[toks[0]] = toks[1].replace(\" \", \"\")    # {uid1: User1, uid2: User2....}\n",
    "                    self.user_id[toks[1]] = toks[0].replace(\" \", \"\")    # {User1: uid1, User2: uid2....}\n",
    "\n",
    "        print(\"#users\", len(self.id_user))\n",
    "\n",
    "        with open(dirpath + \"/id_game.txt\") as gdictfile:\n",
    "            for line in gdictfile:\n",
    "                toks = line.strip().split(\"\\t\")\n",
    "                if len(toks) == 2:\n",
    "                    self.id_game[toks[0]] = toks[1].replace(\" \", \"\")    # {33302: LoLsg, 33305: LoLmy....}\n",
    "                    self.game_id[toks[1]] = toks[0].replace(\" \", \"\")    # {LoLsg: 33302, LoLmy: 33305....}\n",
    "\n",
    "        print(\"#games\", len(self.id_game))\n",
    "        \n",
    "        with open(dirpath + \"/id_item.txt\") as idictfile:\n",
    "            for line in idictfile:\n",
    "                toks = line.strip().split(\"\\t\")\n",
    "                if len(toks) == 2:\n",
    "                    self.id_item[toks[0]] = toks[1].replace(\" \", \"\")    # {itemid1: Item1, itemid2: Item2....}\n",
    "                    self.item_id[toks[1]] = toks[0].replace(\" \", \"\")    # {Item1: itemid1, Item2: itemid2....}\n",
    "\n",
    "        print(\"#items\", len(self.id_item)) # comprehensive list of items\n",
    "\n",
    "        with open(dirpath + \"/game_user.txt\") as gufile:  # data pulled from user game activity for 20 days\n",
    "            for line in gufile:\n",
    "                toks = line.strip().split(\"\\t\")\n",
    "                if len(toks) == 2:\n",
    "                    g, u = toks[0], toks[1]\n",
    "                    if g not in self.game_user:\n",
    "                        self.game_user[g] = []\n",
    "                    self.game_user[g].append(u)   # {gameid1: [uid1,uid2,...], gameid2: [uid2,uid3,....]} = dict of list of users playing games\n",
    "                    if u not in self.user_game:\n",
    "                        self.user_game[u] = []\n",
    "                    self.user_game[u].append(g)   # {uid1: [gameid1,gameid2,...], uid2: [gameid2,gameid3,....]} = dict of list of games played by each user\n",
    "        \n",
    "        \n",
    "        with open(dirpath + \"/item_user.txt\") as iufile:  # list of all items purchased by users\n",
    "            for line in iufile:\n",
    "                toks = line.strip().split(\"\\t\")\n",
    "                if len(toks) == 2:\n",
    "                    i, u = toks[0], toks[1]\n",
    "                    if i not in self.item_user:\n",
    "                        self.item_user[i] = []\n",
    "                    self.item_user[i].append(u)   # {itemid1: [uid1,uid2,...], itemid2: [uid2,uid3,....]} = dict of list of users purchasing each item \n",
    "                    if u not in self.user_item:\n",
    "                        self.user_item[u] = []\n",
    "                    self.user_item[u].append(i)   # {uid1: [itemid1,itemid2,...], uid2: [itemd2,itemd3,....]} = dict of list of items purchased by each user\n",
    "        \n",
    "        \n",
    "        with open(dirpath + \"/item_game.txt\") as igfile:  # list of all in-game items\n",
    "            for line in igfile:\n",
    "                toks = line.strip().split(\"\\t\")\n",
    "                if len(toks) == 2:\n",
    "                    i, g = toks[0], toks[1]\n",
    "                    if i not in self.item_game:\n",
    "                        self.item_game[i] = []  \n",
    "                    self.item_game[i].append(g) # {itemid1: [gameid1,gameid2,...], itemid2: [gameid2,gameid3,....]} = list of items that got recommended. Every item can be in multiple games\n",
    "                    if g not in self.game_item:\n",
    "                        self.game_item[g] = []\n",
    "                    self.game_item[g].append(i) # {gameid1: [itemid1,itemid2,...], gameid2: [itemd2,itemd3,....]} = list of items available in-game for purchase\n",
    "        \n",
    "        with open(dirpath + \"/test2days_item_user.txt\") as iufile:  # list of all items purchased by users in 2 days of testing period\n",
    "            for line in iufile:\n",
    "                toks = line.strip().split(\"\\t\")\n",
    "                if len(toks) == 2:\n",
    "                    i, u = toks[0], toks[1]\n",
    "                    if i not in self.test2days_item_user:\n",
    "                        self.test2days_item_user[i] = []\n",
    "                    self.test2days_item_user[i].append(u)   # {itemid1: [uid1,uid2,...], itemid2: [uid2,uid3,....]} = dict of list of users purchasing each item \n",
    "                    if u not in self.test2days_user_item:\n",
    "                        self.test2days_user_item[u] = []\n",
    "                    self.test2days_user_item[u].append(i)   # {uid1: [itemid1,itemid2,...], uid2: [itemd2,itemd3,....]} = dict of list of items purchased by each user\n",
    "        print(\"No of users who bought items in first 2 days of test period:\", len(self.test2days_user_item))\n",
    "        \n",
    "        with open(dirpath + \"/test4days_item_user.txt\") as iufile:  # list of all items purchased by users in 4 days of testing period\n",
    "            for line in iufile:\n",
    "                toks = line.strip().split(\"\\t\")\n",
    "                if len(toks) == 2:\n",
    "                    i, u = toks[0], toks[1]\n",
    "                    if i not in self.test4days_item_user:\n",
    "                        self.test4days_item_user[i] = []\n",
    "                    self.test4days_item_user[i].append(u)   # {itemid1: [uid1,uid2,...], itemid2: [uid2,uid3,....]} = dict of list of users purchasing each item \n",
    "                    if u not in self.test4days_user_item:\n",
    "                        self.test4days_user_item[u] = []\n",
    "                    self.test4days_user_item[u].append(i)   # {uid1: [itemid1,itemid2,...], uid2: [itemd2,itemd3,....]} = dict of list of items purchased by each user\n",
    "        print(\"No of users who bought items in first 4 days of test period:\", len(self.test4days_user_item))\n",
    "        \n",
    "        with open(dirpath + \"/test10days_item_user.txt\") as iufile:  # list of all items purchased by users in 10 days of testing period\n",
    "            for line in iufile:\n",
    "                toks = line.strip().split(\"\\t\")\n",
    "                if len(toks) == 2:\n",
    "                    i, u = toks[0], toks[1]\n",
    "                    if i not in self.test10days_item_user:\n",
    "                        self.test10days_item_user[i] = []\n",
    "                    self.test10days_item_user[i].append(u)   # {itemid1: [uid1,uid2,...], itemid2: [uid2,uid3,....]} = dict of list of users purchasing each item \n",
    "                    if u not in self.test10days_user_item:\n",
    "                        self.test10days_user_item[u] = []\n",
    "                    self.test10days_user_item[u].append(i)   # {uid1: [itemid1,itemid2,...], uid2: [itemd2,itemd3,....]} = dict of list of items purchased by each user\n",
    "        print(\"No of users who bought items in first 10 days of test period:\", len(self.test10days_user_item))\n",
    "        \n",
    "        with open(dirpath + \"/selected_user.txt\") as sufile:  # pull the randomly selected users\n",
    "            for user in sufile:\n",
    "                self.userlist.append(user.strip())\n",
    "                            \n",
    "    def create_cluster_files(self, cluster_items, flag):\n",
    "        gl.product_key.set_product_key('1811-F618-7371-23C4-6644-5DB9-A97C-F5C8')\n",
    "        dirpath = 'C:/Vidit/PhD/RA Work/KZ - RA/Gaming Project/data/User-Item Recommender System/data'\n",
    "        if (flag == 'S'):\n",
    "            user_item_file = dirpath + '/star_user_item.txt'\n",
    "        if (flag == 'M'):\n",
    "            user_item_file = dirpath + '/mid_user_item.txt'\n",
    "        if (flag == 'T'):\n",
    "            user_item_file = dirpath + '/tail_user_item.txt'\n",
    "        with open(user_item_file,'w') as f:\n",
    "            f.write(\"userID\" + \"\\t\" + \"itemID\" + \"\\n\")\n",
    "            for item in cluster_items:\n",
    "                users = self.item_user.get(item,[])\n",
    "                for user in users:\n",
    "                    f.write(str(user) + \"\\t\" + str(item) + \"\\n\")\n",
    "        f.close()\n",
    "        user_item = gl.SFrame.read_csv(user_item_file, header = True, delimiter = \"\\t\", column_type_hints=[long,str])\n",
    "        return (user_item)\n",
    "        \n",
    "        \n",
    "    def make_user_recommendations_selected_cluster(self, cluster_items, cluster_frame, flag):\n",
    "        top_5_item_recusers = dict()\n",
    "        top_10_item_recusers = dict()\n",
    "        top_15_item_recusers = dict()\n",
    "        top_20_item_recusers = dict()\n",
    "        model = gl.recommender.item_similarity_recommender.create(cluster_frame, user_id = 'userID', item_id = 'itemID')\n",
    "        recs_top_5_user_model = model.recommend(users = self.userlist, k = 5)\n",
    "        recs_top_10_user_model = model.recommend(users = self.userlist, k = 10)\n",
    "        recs_top_15_user_model = model.recommend(users = self.userlist, k = 15)\n",
    "        recs_top_20_user_model = model.recommend(users = self.userlist, k = 20)\n",
    "        sf_top_5 = recs_top_5_user_model.select_columns(['userID', 'itemID'])\n",
    "        sf_top_10 = recs_top_10_user_model.select_columns(['userID', 'itemID'])\n",
    "        sf_top_15 = recs_top_15_user_model.select_columns(['userID', 'itemID'])\n",
    "        sf_top_20 = recs_top_20_user_model.select_columns(['userID', 'itemID'])\n",
    "        p_top_5 = sf_top_5.to_dataframe()\n",
    "        p_top_10 = sf_top_10.to_dataframe()\n",
    "        p_top_15 = sf_top_15.to_dataframe()\n",
    "        p_top_20 = sf_top_20.to_dataframe()\n",
    "        path = 'C:/Vidit/PhD/RA Work/KZ - RA/Gaming Project/data/User-Item Recommender System/data'\n",
    "        if (flag == 'S'):\n",
    "            top_5 = path + '/star_user_top_5.txt'\n",
    "            top_10 = path + '/star_user_top_10.txt'\n",
    "            top_15 = path + '/star_user_top_15.txt'\n",
    "            top_20 = path + '/star_user_top_20.txt'\n",
    "        if (flag == 'M'):\n",
    "            top_5 = path + '/mid_user_top_5.txt'\n",
    "            top_10 = path + '/mid_user_top_10.txt'\n",
    "            top_15 = path + '/mid_user_top_15.txt'\n",
    "            top_20 = path + '/mid_user_top_20.txt'\n",
    "        if (flag == 'T'):\n",
    "            top_5 = path + '/tail_user_top_5.txt'\n",
    "            top_10 = path + '/tail_user_top_10.txt'\n",
    "            top_15 = path + '/tail_user_top_15.txt'\n",
    "            top_20 = path + '/tail_user_top_20.txt'\n",
    "        p_top_5.to_csv(top_5, header=None, index=None, sep=' ')\n",
    "        p_top_10.to_csv(top_10, header=None, index=None, sep=' ')\n",
    "        p_top_15.to_csv(top_15, header=None, index=None, sep=' ')\n",
    "        p_top_20.to_csv(top_20, header=None, index=None, sep=' ')\n",
    "        top_5_item_recusers = self.get_top_users(top_users = top_5)\n",
    "        top_10_item_recusers = self.get_top_users(top_users = top_10)\n",
    "        top_15_item_recusers = self.get_top_users(top_users = top_15)\n",
    "        top_20_item_recusers = self.get_top_users(top_users = top_20)\n",
    "        print(\"Accuracy for User-Item Collaborative Filtering Recommender System based on Top-5 similar users\")\n",
    "        self.get_accuracy_score(item_recusers = top_5_item_recusers, cluster_items = cluster_items)\n",
    "        print(\"Accuracy for User-Item Collaborative Filtering Recommender System based on Top-10 similar users\")\n",
    "        self.get_accuracy_score(item_recusers = top_10_item_recusers, cluster_items = cluster_items)\n",
    "        print(\"Accuracy for User-Item Collaborative Filtering Recommender System based on Top-15 similar users\")\n",
    "        self.get_accuracy_score(item_recusers = top_15_item_recusers, cluster_items = cluster_items)\n",
    "        print(\"Accuracy for User-Item Collaborative Filtering Recommender System based on Top-20 similar users\")\n",
    "        self.get_accuracy_score(item_recusers = top_20_item_recusers, cluster_items = cluster_items)\n",
    "        \n",
    "    def get_top_users(self,top_users):\n",
    "        top_item_recusers = dict()\n",
    "        with open(top_users) as uifile:  # list of recommended items\n",
    "            for line in uifile:\n",
    "                toks = line.strip().split(' ')\n",
    "                if len(toks) == 2:\n",
    "                    u, i = toks[0], toks[1]\n",
    "                    if i not in top_item_recusers:\n",
    "                        top_item_recusers[i] = []\n",
    "                    top_item_recusers[i].append(u)\n",
    "        return top_item_recusers\n",
    "    \n",
    "        \n",
    "    def get_accuracy_score(self, item_recusers, cluster_items):\n",
    "        count_2days = count_4days = count_10days = 0\n",
    "        for item in cluster_items:\n",
    "            counter_2days = counter_4days = counter_10days = 0\n",
    "            recommended_users = item_recusers.get(item,[])\n",
    "            for user in recommended_users:\n",
    "                new_items_2days = self.test2days_user_item.get(user,[])\n",
    "                new_items_4days = self.test4days_user_item.get(user,[])\n",
    "                new_items_10days = self.test10days_user_item.get(user,[])\n",
    "                if item in new_items_2days:\n",
    "                    counter_2days += 1\n",
    "                if item in new_items_4days:\n",
    "                    counter_4days += 1\n",
    "                if item in new_items_10days:\n",
    "                    counter_10days += 1        \n",
    "            if (counter_2days > 0):\n",
    "                count_2days += 1\n",
    "            if (counter_4days > 0):\n",
    "                count_4days += 1\n",
    "            if (counter_10days > 0):\n",
    "                count_10days += 1\n",
    "        print(\"For a 2-day testing period:\", count_2days/len(cluster_items))\n",
    "        print(\"For a 4-day testing period:\", count_4days/len(cluster_items))\n",
    "        print(\"For a 10-day testing period:\", count_10days/len(cluster_items))\n",
    "        \n",
    "    \n",
    "    def make_item_recommendations(self):\n",
    "        with open(dirpath + \"/rank_item_quantity_price_sales.txt\") as itemfile:  # pull the ranked items, and create clusters\n",
    "            for line in itemfile:\n",
    "                toks = line.strip().split(\"\\t\")\n",
    "                if len(toks) == 5:\n",
    "                    rank = int(toks[0])\n",
    "                    if rank <= 40:\n",
    "                        self.star_items.append(toks[1])\n",
    "                    elif rank > 40 and rank <= 98:\n",
    "                        self.mid_items.append(toks[1])\n",
    "                    else:\n",
    "                        self.tail_items.append(toks[1])\n",
    "        print(self.star_items)\n",
    "        print(self.mid_items)\n",
    "        print(self.tail_items)\n",
    "        self.star_user_item = self.create_cluster_files(cluster_items = self.star_items, flag = 'S')\n",
    "        self.mid_user_item = self.create_cluster_files(cluster_items = self.mid_items, flag = 'M')\n",
    "        self.tail_user_item = self.create_cluster_files(cluster_items = self.tail_items, flag = 'T')\n",
    "        print(\"\\nMaking Recommendations\\n\")\n",
    "        print(\"\\nAccuracy for Star Items\\n\")\n",
    "        self.make_user_recommendations_selected_cluster(cluster_items = self.star_items, cluster_frame = self.star_user_item, flag = 'S')\n",
    "        print(\"\\nAccuracy for Mid Items\\n\")\n",
    "        self.make_user_recommendations_selected_cluster(cluster_items = self.mid_items, cluster_frame = self.mid_user_item, flag = 'M')\n",
    "        print(\"\\nAccuracy for Long Tail Items\\n\")\n",
    "        self.make_user_recommendations_selected_cluster(cluster_items = self.tail_items, cluster_frame = self.tail_user_item, flag = 'T')       \n",
    "                                            \n",
    "filepath = 'C:/Vidit/PhD/RA Work/KZ - RA/Gaming Project/data/Files'\n",
    "\n",
    "def main():\n",
    "    rcf = Recommend_Collaborative_Filtering()\n",
    "    rcf.read_data(filepath)\n",
    "    rcf.make_item_recommendations()\n",
    "\n",
    "if __name__ == \"__main__\":\n",
    "    main()"
   ]
  },
  {
   "cell_type": "code",
   "execution_count": 16,
   "metadata": {},
   "outputs": [
    {
     "name": "stdout",
     "output_type": "stream",
     "text": [
      "#users 1496096\n",
      "#games 22\n",
      "#items 3825\n",
      "No of users who bought items in first 2 days of test period: 2700\n",
      "No of users who bought items in first 4 days of test period: 4999\n",
      "No of users who bought items in first 10 days of test period: 10302\n",
      "['lolvn002', 'lolvn001', 'lolvn003', 'loltw001', 'RP003', 'loltw003', 'RP002', 'loltw004', 'lolvn004', 'RP001', 'package_20', 'loltw005', 'tw_18_3', '89', 'loltw002', 'tw_18_2', 'tw_18_5', 'lolsam001', '9002', 'lolsam003', 'fo3vn003', 'RP004', 'FO3TH003', 'fo3vn004', 'tw_18_4', 'package_4', '9001', 'package_2', 'fo3vn002', 'lolsam004', 'tw_19_3', 'package_18', 'package_19', 'package_1', 'tw_19_2', '166', '145', 'fo3vn005', '9000', '33']\n",
      "['43', '31', 'RP005', '237', 'HONLUCK1', '57', '2', 'lolsam006', 'lolsam002', '239', 'FO3TH004', 'FO3TH006', 'tw_19_5', 'lolvn005', '157', 'pbth001', '159', '205', 'lolth004', '228', '280', 'tw_19_4', 'lolth001', 'lolsam005', '138', 'lolth003', 'tw_18_1', 'tw_15_5', '34', 'tw_15_4', '188', '25', '192', '200', 'FO3TH005', 'FO3TH001', '230', 'elph003', 'lolth005', 'fo3sam001', '12', 'fo3vn001', 'lolth002', 'FO3TH007', 'tw_15_3', 'tw_15_1', '26', '278', '95', '76', 'pbth003', 'pbth004', 'lolsam008', '244', '151', '14', 'elph002', 'loltw006']\n",
      "['RP006', 'pbth002', 'tw_16_2', 'fo3sam005', 'elph001', 'CISLUCK1', '27', 'lolth006', 'pbth005', 'fo3sam003', '202', '52', '245', 'lolsam007', 'tw_16_5', 'fo3sam004', 'MSTAR004', '273', '136', '66', 'MSTAR006', 'fo3vn006', '276', 'tw_15_6', '223', 'elph005', '51', '175', 'tw_16_3', 'FO3TH002', 'MSTAR001', 'MSTAR007', '226', 'elph004', '96', '29', '222', '139', '77', 'tw_15_2', 'poesam004', 'HONLUCK5', '3', '28', '61', '204', '235', '236', '4', 'fo3sam007', 'poesam001', 'tw_16_4', 'tw_19_1', 'lolvn006', '35', '100003111', '100003037', '178', '193', '161', '212', '199', '247', '84', 'lolvn007', 'fo3sam002', 'package_8', 'package_9', 'MSTAR003', 'lolth007', '277', '270', '1301520000', '172', '1', '207', '90', '75', 'poesam003', 'pbth006', 'poesam006', 'tw_16_1', 'pbsam001', 'MSTAR002', 'lolid004', 'CISLUCK5', '56', '255', '240', '147', '140', '11', '111', '123', '13', '50', '67', '42', '39', 'CISLUCK11', 'package_10', 'pbsam003', 'pbth007', 'pbsam002', 'fo3vn007', 'elph007', '88', '86', '9', '74', '64', '58', '149', '158', '241', '227', '200004039', '174', '195', '180', '187', '1301519000', '148', '137', '60', '53', '65', '62', '36', '37', '72', '85', '8', '80', '87', 'fo3id002', 'fo3vn008', 'fo3sam006', 'HONLUCK11', 'lolid002', 'MSTAR005', 'pbsam004', 'pbsam008', 'poesam002', 'RP008', 'poesam005', 'RP007', 'pbsam005', 'lolid003', 'lolid005', 'lolid006', 'lolid008', 'fo3id004', 'fo3id007', 'elph006', '32', '30', '63', '69', '7', '18', '162', '200004114', '22', '265']\n",
      "\n",
      "Making Recommendations\n",
      "\n",
      "\n",
      "Accuracy for Star Items\n",
      "\n",
      "Accuracy for User-Item Collaborative Filtering Recommender System based on Top-5 similar users\n",
      "For a 2-day testing period: 0.0\n",
      "For a 4-day testing period: 0.0\n",
      "For a 10-day testing period: 0.025\n",
      "Accuracy for User-Item Collaborative Filtering Recommender System based on Top-10 similar users\n",
      "For a 2-day testing period: 0.0\n",
      "For a 4-day testing period: 0.05\n",
      "For a 10-day testing period: 0.075\n",
      "Accuracy for User-Item Collaborative Filtering Recommender System based on Top-15 similar users\n",
      "For a 2-day testing period: 0.0\n",
      "For a 4-day testing period: 0.075\n",
      "For a 10-day testing period: 0.125\n",
      "Accuracy for User-Item Collaborative Filtering Recommender System based on Top-20 similar users\n",
      "For a 2-day testing period: 0.025\n",
      "For a 4-day testing period: 0.1\n",
      "For a 10-day testing period: 0.15\n",
      "\n",
      "Accuracy for Mid Items\n",
      "\n",
      "Accuracy for User-Item Collaborative Filtering Recommender System based on Top-5 similar users\n",
      "For a 2-day testing period: 0.0\n",
      "For a 4-day testing period: 0.0172413793103\n",
      "For a 10-day testing period: 0.0344827586207\n",
      "Accuracy for User-Item Collaborative Filtering Recommender System based on Top-10 similar users\n",
      "For a 2-day testing period: 0.0\n",
      "For a 4-day testing period: 0.0172413793103\n",
      "For a 10-day testing period: 0.0344827586207\n",
      "Accuracy for User-Item Collaborative Filtering Recommender System based on Top-15 similar users\n",
      "For a 2-day testing period: 0.0\n",
      "For a 4-day testing period: 0.0172413793103\n",
      "For a 10-day testing period: 0.051724137931\n",
      "Accuracy for User-Item Collaborative Filtering Recommender System based on Top-20 similar users\n",
      "For a 2-day testing period: 0.0344827586207\n",
      "For a 4-day testing period: 0.051724137931\n",
      "For a 10-day testing period: 0.0862068965517\n",
      "\n",
      "Accuracy for Long Tail Items\n",
      "\n",
      "Accuracy for User-Item Collaborative Filtering Recommender System based on Top-5 similar users\n",
      "For a 2-day testing period: 0.0\n",
      "For a 4-day testing period: 0.0\n",
      "For a 10-day testing period: 0.00606060606061\n",
      "Accuracy for User-Item Collaborative Filtering Recommender System based on Top-10 similar users\n",
      "For a 2-day testing period: 0.0\n",
      "For a 4-day testing period: 0.0\n",
      "For a 10-day testing period: 0.00606060606061\n",
      "Accuracy for User-Item Collaborative Filtering Recommender System based on Top-15 similar users\n",
      "For a 2-day testing period: 0.00606060606061\n",
      "For a 4-day testing period: 0.00606060606061\n",
      "For a 10-day testing period: 0.0121212121212\n",
      "Accuracy for User-Item Collaborative Filtering Recommender System based on Top-20 similar users\n",
      "For a 2-day testing period: 0.0121212121212\n",
      "For a 4-day testing period: 0.0121212121212\n",
      "For a 10-day testing period: 0.0121212121212\n"
     ]
    }
   ],
   "source": [
    "import sys\n",
    "import os\n",
    "import random\n",
    "import numpy as np\n",
    "import pandas as pd\n",
    "from collections import Counter\n",
    "from __future__ import division\n",
    "from __future__ import print_function\n",
    "\n",
    "class Recommend_Collaborative_Filtering:\n",
    "    def __init__(self):\n",
    "        self.id_user = dict()\n",
    "        self.user_id = dict()\n",
    "        self.id_game = dict()\n",
    "        self.game_id = dict()\n",
    "        self.id_item = dict()\n",
    "        self.item_id = dict()\n",
    "        self.item_user = dict()\n",
    "        self.user_item = dict()\n",
    "        self.game_user = dict()\n",
    "        self.user_game = dict()\n",
    "        self.game_item = dict()\n",
    "        self.item_game = dict()\n",
    "        self.game_userlist = dict()\n",
    "        self.user_gamelist = dict()\n",
    "        self.game_itemlist = dict()\n",
    "        self.item_gamelist = dict()\n",
    "        self.user_itemlist = dict()\n",
    "        self.item_userlist = dict()\n",
    "        self.test2days_item_user = dict()\n",
    "        self.test2days_user_item = dict()\n",
    "        self.test4days_item_user = dict()\n",
    "        self.test4days_user_item = dict()\n",
    "        self.test10days_item_user = dict()\n",
    "        self.test10days_user_item = dict()\n",
    "        self.userlist = []\n",
    "        self.star_items = []\n",
    "        self.mid_items = []\n",
    "        self.tail_items = []\n",
    "\n",
    "    def read_data(self, dirpath):\n",
    "        with open(dirpath + \"/id_user.txt\") as udictfile:\n",
    "            for line in udictfile:\n",
    "                toks = line.strip().split(\"\\t\")\n",
    "                if len(toks) == 2:\n",
    "                    self.id_user[toks[0]] = toks[1].replace(\" \", \"\")    # {uid1: User1, uid2: User2....}\n",
    "                    self.user_id[toks[1]] = toks[0].replace(\" \", \"\")    # {User1: uid1, User2: uid2....}\n",
    "\n",
    "        print(\"#users\", len(self.id_user))\n",
    "\n",
    "        with open(dirpath + \"/id_game.txt\") as gdictfile:\n",
    "            for line in gdictfile:\n",
    "                toks = line.strip().split(\"\\t\")\n",
    "                if len(toks) == 2:\n",
    "                    self.id_game[toks[0]] = toks[1].replace(\" \", \"\")    # {33302: LoLsg, 33305: LoLmy....}\n",
    "                    self.game_id[toks[1]] = toks[0].replace(\" \", \"\")    # {LoLsg: 33302, LoLmy: 33305....}\n",
    "\n",
    "        print(\"#games\", len(self.id_game))\n",
    "        \n",
    "        with open(dirpath + \"/id_item.txt\") as idictfile:\n",
    "            for line in idictfile:\n",
    "                toks = line.strip().split(\"\\t\")\n",
    "                if len(toks) == 2:\n",
    "                    self.id_item[toks[0]] = toks[1].replace(\" \", \"\")    # {itemid1: Item1, itemid2: Item2....}\n",
    "                    self.item_id[toks[1]] = toks[0].replace(\" \", \"\")    # {Item1: itemid1, Item2: itemid2....}\n",
    "\n",
    "        print(\"#items\", len(self.id_item)) # comprehensive list of items\n",
    "\n",
    "        with open(dirpath + \"/game_user.txt\") as gufile:  # data pulled from user game activity for 20 days\n",
    "            for line in gufile:\n",
    "                toks = line.strip().split(\"\\t\")\n",
    "                if len(toks) == 2:\n",
    "                    g, u = toks[0], toks[1]\n",
    "                    if g not in self.game_user:\n",
    "                        self.game_user[g] = []\n",
    "                    self.game_user[g].append(u)   # {gameid1: [uid1,uid2,...], gameid2: [uid2,uid3,....]} = dict of list of users playing games\n",
    "                    if u not in self.user_game:\n",
    "                        self.user_game[u] = []\n",
    "                    self.user_game[u].append(g)   # {uid1: [gameid1,gameid2,...], uid2: [gameid2,gameid3,....]} = dict of list of games played by each user\n",
    "        \n",
    "        \n",
    "        with open(dirpath + \"/item_user.txt\") as iufile:  # list of all items purchased by users\n",
    "            for line in iufile:\n",
    "                toks = line.strip().split(\"\\t\")\n",
    "                if len(toks) == 2:\n",
    "                    i, u = toks[0], toks[1]\n",
    "                    if i not in self.item_user:\n",
    "                        self.item_user[i] = []\n",
    "                    self.item_user[i].append(u)   # {itemid1: [uid1,uid2,...], itemid2: [uid2,uid3,....]} = dict of list of users purchasing each item \n",
    "                    if u not in self.user_item:\n",
    "                        self.user_item[u] = []\n",
    "                    self.user_item[u].append(i)   # {uid1: [itemid1,itemid2,...], uid2: [itemd2,itemd3,....]} = dict of list of items purchased by each user\n",
    "        \n",
    "        \n",
    "        with open(dirpath + \"/item_game.txt\") as igfile:  # list of all in-game items\n",
    "            for line in igfile:\n",
    "                toks = line.strip().split(\"\\t\")\n",
    "                if len(toks) == 2:\n",
    "                    i, g = toks[0], toks[1]\n",
    "                    if i not in self.item_game:\n",
    "                        self.item_game[i] = []  \n",
    "                    self.item_game[i].append(g) # {itemid1: [gameid1,gameid2,...], itemid2: [gameid2,gameid3,....]} = list of items that got recommended. Every item can be in multiple games\n",
    "                    if g not in self.game_item:\n",
    "                        self.game_item[g] = []\n",
    "                    self.game_item[g].append(i) # {gameid1: [itemid1,itemid2,...], gameid2: [itemd2,itemd3,....]} = list of items available in-game for purchase\n",
    "        \n",
    "        with open(dirpath + \"/test2days_item_user.txt\") as iufile:  # list of all items purchased by users in 2 days of testing period\n",
    "            for line in iufile:\n",
    "                toks = line.strip().split(\"\\t\")\n",
    "                if len(toks) == 2:\n",
    "                    i, u = toks[0], toks[1]\n",
    "                    if i not in self.test2days_item_user:\n",
    "                        self.test2days_item_user[i] = []\n",
    "                    self.test2days_item_user[i].append(u)   # {itemid1: [uid1,uid2,...], itemid2: [uid2,uid3,....]} = dict of list of users purchasing each item \n",
    "                    if u not in self.test2days_user_item:\n",
    "                        self.test2days_user_item[u] = []\n",
    "                    self.test2days_user_item[u].append(i)   # {uid1: [itemid1,itemid2,...], uid2: [itemd2,itemd3,....]} = dict of list of items purchased by each user\n",
    "        print(\"No of users who bought items in first 2 days of test period:\", len(self.test2days_user_item))\n",
    "        \n",
    "        with open(dirpath + \"/test4days_item_user.txt\") as iufile:  # list of all items purchased by users in 4 days of testing period\n",
    "            for line in iufile:\n",
    "                toks = line.strip().split(\"\\t\")\n",
    "                if len(toks) == 2:\n",
    "                    i, u = toks[0], toks[1]\n",
    "                    if i not in self.test4days_item_user:\n",
    "                        self.test4days_item_user[i] = []\n",
    "                    self.test4days_item_user[i].append(u)   # {itemid1: [uid1,uid2,...], itemid2: [uid2,uid3,....]} = dict of list of users purchasing each item \n",
    "                    if u not in self.test4days_user_item:\n",
    "                        self.test4days_user_item[u] = []\n",
    "                    self.test4days_user_item[u].append(i)   # {uid1: [itemid1,itemid2,...], uid2: [itemd2,itemd3,....]} = dict of list of items purchased by each user\n",
    "        print(\"No of users who bought items in first 4 days of test period:\", len(self.test4days_user_item))\n",
    "        \n",
    "        with open(dirpath + \"/test10days_item_user.txt\") as iufile:  # list of all items purchased by users in 10 days of testing period\n",
    "            for line in iufile:\n",
    "                toks = line.strip().split(\"\\t\")\n",
    "                if len(toks) == 2:\n",
    "                    i, u = toks[0], toks[1]\n",
    "                    if i not in self.test10days_item_user:\n",
    "                        self.test10days_item_user[i] = []\n",
    "                    self.test10days_item_user[i].append(u)   # {itemid1: [uid1,uid2,...], itemid2: [uid2,uid3,....]} = dict of list of users purchasing each item \n",
    "                    if u not in self.test10days_user_item:\n",
    "                        self.test10days_user_item[u] = []\n",
    "                    self.test10days_user_item[u].append(i)   # {uid1: [itemid1,itemid2,...], uid2: [itemd2,itemd3,....]} = dict of list of items purchased by each user\n",
    "        print(\"No of users who bought items in first 10 days of test period:\", len(self.test10days_user_item))\n",
    "        \n",
    "        with open(dirpath + \"/selected_user.txt\") as sufile:  # pull the randomly selected users\n",
    "            for user in sufile:\n",
    "                self.userlist.append(user.strip())\n",
    "        \n",
    "    def make_user_recommendations_selected_cluster(self, cluster_items):\n",
    "        top_5_item_recusers = dict()\n",
    "        top_10_item_recusers = dict()\n",
    "        top_15_item_recusers = dict()\n",
    "        top_20_item_recusers = dict()\n",
    "        for item in cluster_items:\n",
    "            user_simscore = {}\n",
    "            temp_user_simscore = dict()\n",
    "            users = self.item_user.get(item,[])\n",
    "            if (users != []):\n",
    "                for user1 in users:\n",
    "                    items1 = set(self.user_item.get(user1,[]))\n",
    "                    games1 = set(self.user_game.get(user1,[]))\n",
    "                    for user2 in self.userlist:\n",
    "                        items2 = set(self.user_item.get(user2,[]))\n",
    "                        games2 = set(self.user_game.get(user2,[]))\n",
    "                        if (user1 == user2): continue\n",
    "                        if item not in items2:\n",
    "                            mutual_games = len(games1 & games2)\n",
    "                            total_games = len(games1 | games2)\n",
    "                            if (total_games > 0):\n",
    "                                user_similarity_score = mutual_games/total_games\n",
    "                            else:\n",
    "                                user_similarity_score = 0\n",
    "                            if user2 not in temp_user_simscore:\n",
    "                                temp_user_simscore[user2] = []\n",
    "                            temp_user_simscore[user2].append(user_similarity_score)\n",
    "                for user in temp_user_simscore:\n",
    "                    user_sim_values = temp_user_simscore[user]\n",
    "                    user_simscore[user] = max(user_sim_values)\n",
    "            sorted_user_simscore = sorted(user_simscore.items(), key=lambda x: x[1], reverse = True)\n",
    "            top_5_item_recusers[item] = [user for user,_ in sorted_user_simscore[0:5]]\n",
    "            top_10_item_recusers[item] = [user for user,_ in sorted_user_simscore[0:10]]\n",
    "            top_15_item_recusers[item] = [user for user,_ in sorted_user_simscore[0:15]]\n",
    "            top_20_item_recusers[item] = [user for user,_ in sorted_user_simscore[0:20]]\n",
    "        print(\"Accuracy for User-Item Collaborative Filtering Recommender System based on Top-5 similar users\")\n",
    "        self.get_accuracy_score(item_recusers = top_5_item_recusers, cluster_items = cluster_items)\n",
    "        print(\"Accuracy for User-Item Collaborative Filtering Recommender System based on Top-10 similar users\")\n",
    "        self.get_accuracy_score(item_recusers = top_10_item_recusers, cluster_items = cluster_items)\n",
    "        print(\"Accuracy for User-Item Collaborative Filtering Recommender System based on Top-15 similar users\")\n",
    "        self.get_accuracy_score(item_recusers = top_15_item_recusers, cluster_items = cluster_items)\n",
    "        print(\"Accuracy for User-Item Collaborative Filtering Recommender System based on Top-20 similar users\")\n",
    "        self.get_accuracy_score(item_recusers = top_20_item_recusers, cluster_items = cluster_items)\n",
    "    \n",
    "        \n",
    "    def get_accuracy_score(self, item_recusers, cluster_items):\n",
    "        count_2days = count_4days = count_10days = 0\n",
    "        for item in cluster_items:\n",
    "            counter_2days = counter_4days = counter_10days = 0\n",
    "            recommended_users = item_recusers.get(item,[])\n",
    "            for user in recommended_users:\n",
    "                new_items_2days = self.test2days_user_item.get(user,[])\n",
    "                new_items_4days = self.test4days_user_item.get(user,[])\n",
    "                new_items_10days = self.test10days_user_item.get(user,[])\n",
    "                if item in new_items_2days:\n",
    "                    counter_2days += 1\n",
    "                if item in new_items_4days:\n",
    "                    counter_4days += 1\n",
    "                if item in new_items_10days:\n",
    "                    counter_10days += 1        \n",
    "            if (counter_2days > 0):\n",
    "                count_2days += 1\n",
    "            if (counter_4days > 0):\n",
    "                count_4days += 1\n",
    "            if (counter_10days > 0):\n",
    "                count_10days += 1\n",
    "        print(\"For a 2-day testing period:\", count_2days/len(cluster_items))\n",
    "        print(\"For a 4-day testing period:\", count_4days/len(cluster_items))\n",
    "        print(\"For a 10-day testing period:\", count_10days/len(cluster_items))\n",
    "        \n",
    "    \n",
    "    def make_item_recommendations(self):\n",
    "        with open(dirpath + \"/rank_item_quantity_price_sales.txt\") as itemfile:  # pull the ranked items, and create clusters\n",
    "            for line in itemfile:\n",
    "                toks = line.strip().split(\"\\t\")\n",
    "                if len(toks) == 5:\n",
    "                    rank = int(toks[0])\n",
    "                    if rank <= 40:\n",
    "                        self.star_items.append(toks[1])\n",
    "                    elif rank > 40 and rank <= 98:\n",
    "                        self.mid_items.append(toks[1])\n",
    "                    else:\n",
    "                        self.tail_items.append(toks[1])\n",
    "        print(self.star_items)\n",
    "        print(self.mid_items)\n",
    "        print(self.tail_items)\n",
    "        print(\"\\nMaking Recommendations\\n\")\n",
    "        print(\"\\nAccuracy for Star Items\\n\")\n",
    "        self.make_user_recommendations_selected_cluster(cluster_items = self.star_items)\n",
    "        print(\"\\nAccuracy for Mid Items\\n\")\n",
    "        self.make_user_recommendations_selected_cluster(cluster_items = self.mid_items)\n",
    "        print(\"\\nAccuracy for Long Tail Items\\n\")\n",
    "        self.make_user_recommendations_selected_cluster(cluster_items = self.tail_items)       \n",
    "                                            \n",
    "dirpath = 'C:/Vidit/PhD/RA Work/KZ - RA/Gaming Project/data/Files'\n",
    "\n",
    "def main():\n",
    "    rcf = Recommend_Collaborative_Filtering()\n",
    "    rcf.read_data(dirpath)\n",
    "    rcf.make_item_recommendations()\n",
    "\n",
    "if __name__ == \"__main__\":\n",
    "    main()"
   ]
  },
  {
   "cell_type": "code",
   "execution_count": 17,
   "metadata": {},
   "outputs": [
    {
     "name": "stdout",
     "output_type": "stream",
     "text": [
      "#users 1496096\n",
      "#games 22\n",
      "#items 3825\n",
      "No of users who bought items in first 2 days of test period: 2700\n",
      "No of users who bought items in first 4 days of test period: 4999\n",
      "No of users who bought items in first 10 days of test period: 10302\n",
      "['lolvn002', 'lolvn001', 'lolvn003', 'loltw001', 'RP003', 'loltw003', 'RP002', 'loltw004', 'lolvn004', 'RP001', 'package_20', 'loltw005', 'tw_18_3', '89', 'loltw002', 'tw_18_2', 'tw_18_5', 'lolsam001', '9002', 'lolsam003', 'fo3vn003', 'RP004', 'FO3TH003', 'fo3vn004', 'tw_18_4', 'package_4', '9001', 'package_2', 'fo3vn002', 'lolsam004', 'tw_19_3', 'package_18', 'package_19', 'package_1', 'tw_19_2', '166', '145', 'fo3vn005', '9000', '33']\n",
      "['43', '31', 'RP005', '237', 'HONLUCK1', '57', '2', 'lolsam006', 'lolsam002', '239', 'FO3TH004', 'FO3TH006', 'tw_19_5', 'lolvn005', '157', 'pbth001', '159', '205', 'lolth004', '228', '280', 'tw_19_4', 'lolth001', 'lolsam005', '138', 'lolth003', 'tw_18_1', 'tw_15_5', '34', 'tw_15_4', '188', '25', '192', '200', 'FO3TH005', 'FO3TH001', '230', 'elph003', 'lolth005', 'fo3sam001', '12', 'fo3vn001', 'lolth002', 'FO3TH007', 'tw_15_3', 'tw_15_1', '26', '278', '95', '76', 'pbth003', 'pbth004', 'lolsam008', '244', '151', '14', 'elph002', 'loltw006', 'RP006', 'pbth002', 'tw_16_2', 'fo3sam005', 'elph001', 'CISLUCK1', '27', 'lolth006', 'pbth005', 'fo3sam003', '202', '52', '245', 'lolsam007', 'tw_16_5', 'fo3sam004', 'MSTAR004', '273', '136', '66', 'MSTAR006', 'fo3vn006', '276', 'tw_15_6', '223', 'elph005', '51', '175', 'tw_16_3', 'FO3TH002', 'MSTAR001', 'MSTAR007', '226', 'elph004', '96', '29', '222', '139', '77', 'tw_15_2', 'poesam004', 'HONLUCK5', '3', '28', '61', '204', '235', '236', '4', 'fo3sam007', 'poesam001', 'tw_16_4', 'tw_19_1', 'lolvn006', '35', '100003111', '100003037', '178', '193', '161', '212', '199', '247', '84', 'lolvn007', 'fo3sam002', 'package_8', 'package_9', 'MSTAR003', 'lolth007', '277', '270', '1301520000', '172', '1', '207', '90', '75', 'poesam003', 'pbth006', 'poesam006', 'tw_16_1', 'pbsam001', 'MSTAR002', 'lolid004', 'CISLUCK5', '56', '255', '240', '147', '140', '11', '111', '123', '13', '50', '67', '42', '39', 'CISLUCK11', 'package_10', 'pbsam003', 'pbth007', 'pbsam002', 'fo3vn007', 'elph007', '88', '86', '9', '74', '64', '58', '149', '158', '241', '227', '200004039', '174', '195', '180', '187', '1301519000', '148', '137', '60', '53', '65', '62', '36', '37', '72', '85', '8', '80', '87', 'fo3id002', 'fo3vn008', 'fo3sam006', 'HONLUCK11', 'lolid002', 'MSTAR005', 'pbsam004', 'pbsam008', 'poesam002', 'RP008', 'poesam005', 'RP007', 'pbsam005', 'lolid003', 'lolid005', 'lolid006', 'lolid008', 'fo3id004', 'fo3id007', 'elph006', '32', '30', '63', '69', '7', '18', '162', '200004114', '22', '265']\n",
      "\n",
      "Making Recommendations\n",
      "\n",
      "\n",
      "Accuracy for Star Items\n",
      "\n",
      "Accuracy for User-Item Collaborative Filtering Recommender System based on Top-5 similar users\n",
      "For a 2-day testing period: 0.0\n",
      "For a 4-day testing period: 0.0\n",
      "For a 10-day testing period: 0.025\n",
      "Accuracy for User-Item Collaborative Filtering Recommender System based on Top-10 similar users\n",
      "For a 2-day testing period: 0.0\n",
      "For a 4-day testing period: 0.05\n",
      "For a 10-day testing period: 0.075\n",
      "Accuracy for User-Item Collaborative Filtering Recommender System based on Top-15 similar users\n",
      "For a 2-day testing period: 0.0\n",
      "For a 4-day testing period: 0.075\n",
      "For a 10-day testing period: 0.125\n",
      "Accuracy for User-Item Collaborative Filtering Recommender System based on Top-20 similar users\n",
      "For a 2-day testing period: 0.025\n",
      "For a 4-day testing period: 0.1\n",
      "For a 10-day testing period: 0.15\n",
      "\n",
      "Accuracy for Long Tail Items\n",
      "\n",
      "Accuracy for User-Item Collaborative Filtering Recommender System based on Top-5 similar users\n",
      "For a 2-day testing period: 0.0\n",
      "For a 4-day testing period: 0.00448430493274\n",
      "For a 10-day testing period: 0.0134529147982\n",
      "Accuracy for User-Item Collaborative Filtering Recommender System based on Top-10 similar users\n",
      "For a 2-day testing period: 0.0\n",
      "For a 4-day testing period: 0.00448430493274\n",
      "For a 10-day testing period: 0.0134529147982\n",
      "Accuracy for User-Item Collaborative Filtering Recommender System based on Top-15 similar users\n",
      "For a 2-day testing period: 0.00448430493274\n",
      "For a 4-day testing period: 0.00896860986547\n",
      "For a 10-day testing period: 0.0224215246637\n",
      "Accuracy for User-Item Collaborative Filtering Recommender System based on Top-20 similar users\n",
      "For a 2-day testing period: 0.0179372197309\n",
      "For a 4-day testing period: 0.0224215246637\n",
      "For a 10-day testing period: 0.0313901345291\n"
     ]
    }
   ],
   "source": [
    "import sys\n",
    "import os\n",
    "import random\n",
    "import numpy as np\n",
    "import pandas as pd\n",
    "from collections import Counter\n",
    "from __future__ import division\n",
    "from __future__ import print_function\n",
    "\n",
    "class Recommend_Collaborative_Filtering:\n",
    "    def __init__(self):\n",
    "        self.id_user = dict()\n",
    "        self.user_id = dict()\n",
    "        self.id_game = dict()\n",
    "        self.game_id = dict()\n",
    "        self.id_item = dict()\n",
    "        self.item_id = dict()\n",
    "        self.item_user = dict()\n",
    "        self.user_item = dict()\n",
    "        self.game_user = dict()\n",
    "        self.user_game = dict()\n",
    "        self.game_item = dict()\n",
    "        self.item_game = dict()\n",
    "        self.game_userlist = dict()\n",
    "        self.user_gamelist = dict()\n",
    "        self.game_itemlist = dict()\n",
    "        self.item_gamelist = dict()\n",
    "        self.user_itemlist = dict()\n",
    "        self.item_userlist = dict()\n",
    "        self.test2days_item_user = dict()\n",
    "        self.test2days_user_item = dict()\n",
    "        self.test4days_item_user = dict()\n",
    "        self.test4days_user_item = dict()\n",
    "        self.test10days_item_user = dict()\n",
    "        self.test10days_user_item = dict()\n",
    "        self.userlist = []\n",
    "        self.star_items = []\n",
    "        self.mid_items = []\n",
    "        self.tail_items = []\n",
    "\n",
    "    def read_data(self, dirpath):\n",
    "        with open(dirpath + \"/id_user.txt\") as udictfile:\n",
    "            for line in udictfile:\n",
    "                toks = line.strip().split(\"\\t\")\n",
    "                if len(toks) == 2:\n",
    "                    self.id_user[toks[0]] = toks[1].replace(\" \", \"\")    # {uid1: User1, uid2: User2....}\n",
    "                    self.user_id[toks[1]] = toks[0].replace(\" \", \"\")    # {User1: uid1, User2: uid2....}\n",
    "\n",
    "        print(\"#users\", len(self.id_user))\n",
    "\n",
    "        with open(dirpath + \"/id_game.txt\") as gdictfile:\n",
    "            for line in gdictfile:\n",
    "                toks = line.strip().split(\"\\t\")\n",
    "                if len(toks) == 2:\n",
    "                    self.id_game[toks[0]] = toks[1].replace(\" \", \"\")    # {33302: LoLsg, 33305: LoLmy....}\n",
    "                    self.game_id[toks[1]] = toks[0].replace(\" \", \"\")    # {LoLsg: 33302, LoLmy: 33305....}\n",
    "\n",
    "        print(\"#games\", len(self.id_game))\n",
    "        \n",
    "        with open(dirpath + \"/id_item.txt\") as idictfile:\n",
    "            for line in idictfile:\n",
    "                toks = line.strip().split(\"\\t\")\n",
    "                if len(toks) == 2:\n",
    "                    self.id_item[toks[0]] = toks[1].replace(\" \", \"\")    # {itemid1: Item1, itemid2: Item2....}\n",
    "                    self.item_id[toks[1]] = toks[0].replace(\" \", \"\")    # {Item1: itemid1, Item2: itemid2....}\n",
    "\n",
    "        print(\"#items\", len(self.id_item)) # comprehensive list of items\n",
    "\n",
    "        with open(dirpath + \"/game_user.txt\") as gufile:  # data pulled from user game activity for 20 days\n",
    "            for line in gufile:\n",
    "                toks = line.strip().split(\"\\t\")\n",
    "                if len(toks) == 2:\n",
    "                    g, u = toks[0], toks[1]\n",
    "                    if g not in self.game_user:\n",
    "                        self.game_user[g] = []\n",
    "                    self.game_user[g].append(u)   # {gameid1: [uid1,uid2,...], gameid2: [uid2,uid3,....]} = dict of list of users playing games\n",
    "                    if u not in self.user_game:\n",
    "                        self.user_game[u] = []\n",
    "                    self.user_game[u].append(g)   # {uid1: [gameid1,gameid2,...], uid2: [gameid2,gameid3,....]} = dict of list of games played by each user\n",
    "        \n",
    "        \n",
    "        with open(dirpath + \"/item_user.txt\") as iufile:  # list of all items purchased by users\n",
    "            for line in iufile:\n",
    "                toks = line.strip().split(\"\\t\")\n",
    "                if len(toks) == 2:\n",
    "                    i, u = toks[0], toks[1]\n",
    "                    if i not in self.item_user:\n",
    "                        self.item_user[i] = []\n",
    "                    self.item_user[i].append(u)   # {itemid1: [uid1,uid2,...], itemid2: [uid2,uid3,....]} = dict of list of users purchasing each item \n",
    "                    if u not in self.user_item:\n",
    "                        self.user_item[u] = []\n",
    "                    self.user_item[u].append(i)   # {uid1: [itemid1,itemid2,...], uid2: [itemd2,itemd3,....]} = dict of list of items purchased by each user\n",
    "        \n",
    "        \n",
    "        with open(dirpath + \"/item_game.txt\") as igfile:  # list of all in-game items\n",
    "            for line in igfile:\n",
    "                toks = line.strip().split(\"\\t\")\n",
    "                if len(toks) == 2:\n",
    "                    i, g = toks[0], toks[1]\n",
    "                    if i not in self.item_game:\n",
    "                        self.item_game[i] = []  \n",
    "                    self.item_game[i].append(g) # {itemid1: [gameid1,gameid2,...], itemid2: [gameid2,gameid3,....]} = list of items that got recommended. Every item can be in multiple games\n",
    "                    if g not in self.game_item:\n",
    "                        self.game_item[g] = []\n",
    "                    self.game_item[g].append(i) # {gameid1: [itemid1,itemid2,...], gameid2: [itemd2,itemd3,....]} = list of items available in-game for purchase\n",
    "        \n",
    "        with open(dirpath + \"/test2days_item_user.txt\") as iufile:  # list of all items purchased by users in 2 days of testing period\n",
    "            for line in iufile:\n",
    "                toks = line.strip().split(\"\\t\")\n",
    "                if len(toks) == 2:\n",
    "                    i, u = toks[0], toks[1]\n",
    "                    if i not in self.test2days_item_user:\n",
    "                        self.test2days_item_user[i] = []\n",
    "                    self.test2days_item_user[i].append(u)   # {itemid1: [uid1,uid2,...], itemid2: [uid2,uid3,....]} = dict of list of users purchasing each item \n",
    "                    if u not in self.test2days_user_item:\n",
    "                        self.test2days_user_item[u] = []\n",
    "                    self.test2days_user_item[u].append(i)   # {uid1: [itemid1,itemid2,...], uid2: [itemd2,itemd3,....]} = dict of list of items purchased by each user\n",
    "        print(\"No of users who bought items in first 2 days of test period:\", len(self.test2days_user_item))\n",
    "        \n",
    "        with open(dirpath + \"/test4days_item_user.txt\") as iufile:  # list of all items purchased by users in 4 days of testing period\n",
    "            for line in iufile:\n",
    "                toks = line.strip().split(\"\\t\")\n",
    "                if len(toks) == 2:\n",
    "                    i, u = toks[0], toks[1]\n",
    "                    if i not in self.test4days_item_user:\n",
    "                        self.test4days_item_user[i] = []\n",
    "                    self.test4days_item_user[i].append(u)   # {itemid1: [uid1,uid2,...], itemid2: [uid2,uid3,....]} = dict of list of users purchasing each item \n",
    "                    if u not in self.test4days_user_item:\n",
    "                        self.test4days_user_item[u] = []\n",
    "                    self.test4days_user_item[u].append(i)   # {uid1: [itemid1,itemid2,...], uid2: [itemd2,itemd3,....]} = dict of list of items purchased by each user\n",
    "        print(\"No of users who bought items in first 4 days of test period:\", len(self.test4days_user_item))\n",
    "        \n",
    "        with open(dirpath + \"/test10days_item_user.txt\") as iufile:  # list of all items purchased by users in 10 days of testing period\n",
    "            for line in iufile:\n",
    "                toks = line.strip().split(\"\\t\")\n",
    "                if len(toks) == 2:\n",
    "                    i, u = toks[0], toks[1]\n",
    "                    if i not in self.test10days_item_user:\n",
    "                        self.test10days_item_user[i] = []\n",
    "                    self.test10days_item_user[i].append(u)   # {itemid1: [uid1,uid2,...], itemid2: [uid2,uid3,....]} = dict of list of users purchasing each item \n",
    "                    if u not in self.test10days_user_item:\n",
    "                        self.test10days_user_item[u] = []\n",
    "                    self.test10days_user_item[u].append(i)   # {uid1: [itemid1,itemid2,...], uid2: [itemd2,itemd3,....]} = dict of list of items purchased by each user\n",
    "        print(\"No of users who bought items in first 10 days of test period:\", len(self.test10days_user_item))\n",
    "        \n",
    "        with open(dirpath + \"/selected_user.txt\") as sufile:  # pull the randomly selected users\n",
    "            for user in sufile:\n",
    "                self.userlist.append(user.strip())\n",
    "        \n",
    "    def make_user_recommendations_selected_cluster(self, cluster_items):\n",
    "        top_5_item_recusers = dict()\n",
    "        top_10_item_recusers = dict()\n",
    "        top_15_item_recusers = dict()\n",
    "        top_20_item_recusers = dict()\n",
    "        for item in cluster_items:\n",
    "            user_simscore = {}\n",
    "            temp_user_simscore = dict()\n",
    "            users = self.item_user.get(item,[])\n",
    "            if (users != []):\n",
    "                for user1 in users:\n",
    "                    items1 = set(self.user_item.get(user1,[]))\n",
    "                    games1 = set(self.user_game.get(user1,[]))\n",
    "                    for user2 in self.userlist:\n",
    "                        items2 = set(self.user_item.get(user2,[]))\n",
    "                        games2 = set(self.user_game.get(user2,[]))\n",
    "                        if (user1 == user2): continue\n",
    "                        if item not in items2:\n",
    "                            mutual_games = len(games1 & games2)\n",
    "                            total_games = len(games1 | games2)\n",
    "                            if (total_games > 0):\n",
    "                                user_similarity_score = mutual_games/total_games\n",
    "                            else:\n",
    "                                user_similarity_score = 0\n",
    "                            if user2 not in temp_user_simscore:\n",
    "                                temp_user_simscore[user2] = []\n",
    "                            temp_user_simscore[user2].append(user_similarity_score)\n",
    "                for user in temp_user_simscore:\n",
    "                    user_sim_values = temp_user_simscore[user]\n",
    "                    user_simscore[user] = max(user_sim_values)\n",
    "            sorted_user_simscore = sorted(user_simscore.items(), key=lambda x: x[1], reverse = True)\n",
    "            top_5_item_recusers[item] = [user for user,_ in sorted_user_simscore[0:5]]\n",
    "            top_10_item_recusers[item] = [user for user,_ in sorted_user_simscore[0:10]]\n",
    "            top_15_item_recusers[item] = [user for user,_ in sorted_user_simscore[0:15]]\n",
    "            top_20_item_recusers[item] = [user for user,_ in sorted_user_simscore[0:20]]\n",
    "        print(\"Accuracy for User-Item Collaborative Filtering Recommender System based on Top-5 similar users\")\n",
    "        self.get_accuracy_score(item_recusers = top_5_item_recusers, cluster_items = cluster_items)\n",
    "        print(\"Accuracy for User-Item Collaborative Filtering Recommender System based on Top-10 similar users\")\n",
    "        self.get_accuracy_score(item_recusers = top_10_item_recusers, cluster_items = cluster_items)\n",
    "        print(\"Accuracy for User-Item Collaborative Filtering Recommender System based on Top-15 similar users\")\n",
    "        self.get_accuracy_score(item_recusers = top_15_item_recusers, cluster_items = cluster_items)\n",
    "        print(\"Accuracy for User-Item Collaborative Filtering Recommender System based on Top-20 similar users\")\n",
    "        self.get_accuracy_score(item_recusers = top_20_item_recusers, cluster_items = cluster_items)\n",
    "    \n",
    "        \n",
    "    def get_accuracy_score(self, item_recusers, cluster_items):\n",
    "        count_2days = count_4days = count_10days = 0\n",
    "        for item in cluster_items:\n",
    "            counter_2days = counter_4days = counter_10days = 0\n",
    "            recommended_users = item_recusers.get(item,[])\n",
    "            for user in recommended_users:\n",
    "                new_items_2days = self.test2days_user_item.get(user,[])\n",
    "                new_items_4days = self.test4days_user_item.get(user,[])\n",
    "                new_items_10days = self.test10days_user_item.get(user,[])\n",
    "                if item in new_items_2days:\n",
    "                    counter_2days += 1\n",
    "                if item in new_items_4days:\n",
    "                    counter_4days += 1\n",
    "                if item in new_items_10days:\n",
    "                    counter_10days += 1        \n",
    "            if (counter_2days > 0):\n",
    "                count_2days += 1\n",
    "            if (counter_4days > 0):\n",
    "                count_4days += 1\n",
    "            if (counter_10days > 0):\n",
    "                count_10days += 1\n",
    "        print(\"For a 2-day testing period:\", count_2days/len(cluster_items))\n",
    "        print(\"For a 4-day testing period:\", count_4days/len(cluster_items))\n",
    "        print(\"For a 10-day testing period:\", count_10days/len(cluster_items))\n",
    "        \n",
    "    \n",
    "    def make_item_recommendations(self):\n",
    "        with open(dirpath + \"/rank_item_quantity_price_sales.txt\") as itemfile:  # pull the ranked items, and create clusters\n",
    "            for line in itemfile:\n",
    "                toks = line.strip().split(\"\\t\")\n",
    "                if len(toks) == 5:\n",
    "                    rank = int(toks[0])\n",
    "                    if rank <= 40:\n",
    "                        self.star_items.append(toks[1])\n",
    "                    else:\n",
    "                        self.tail_items.append(toks[1])\n",
    "        print(self.star_items)\n",
    "        print(self.tail_items)\n",
    "        print(\"\\nMaking Recommendations\\n\")\n",
    "        print(\"\\nAccuracy for Star Items\\n\")\n",
    "        self.make_user_recommendations_selected_cluster(cluster_items = self.star_items)\n",
    "        print(\"\\nAccuracy for Long Tail Items\\n\")\n",
    "        self.make_user_recommendations_selected_cluster(cluster_items = self.tail_items)      \n",
    "                                            \n",
    "dirpath = 'C:/Vidit/PhD/RA Work/KZ - RA/Gaming Project/data/Files'\n",
    "\n",
    "def main():\n",
    "    rcf = Recommend_Collaborative_Filtering()\n",
    "    rcf.read_data(dirpath)\n",
    "    rcf.make_item_recommendations()\n",
    "\n",
    "if __name__ == \"__main__\":\n",
    "    main()"
   ]
  },
  {
   "cell_type": "code",
   "execution_count": null,
   "metadata": {},
   "outputs": [],
   "source": []
  }
 ],
 "metadata": {
  "kernelspec": {
   "display_name": "Python [conda env:py27]",
   "language": "python",
   "name": "conda-env-py27-py"
  },
  "language_info": {
   "codemirror_mode": {
    "name": "ipython",
    "version": 2
   },
   "file_extension": ".py",
   "mimetype": "text/x-python",
   "name": "python",
   "nbconvert_exporter": "python",
   "pygments_lexer": "ipython2",
   "version": "2.7.15"
  }
 },
 "nbformat": 4,
 "nbformat_minor": 2
}
