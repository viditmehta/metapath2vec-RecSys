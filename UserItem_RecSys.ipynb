{
 "cells": [
  {
   "cell_type": "code",
   "execution_count": 1,
   "metadata": {},
   "outputs": [
    {
     "name": "stdout",
     "output_type": "stream",
     "text": [
      "Generating training file for RS\n",
      "Success\n"
     ]
    }
   ],
   "source": [
    "from __future__ import print_function\n",
    "import pyodbc\n",
    "print(\"Generating training file for RS\")\n",
    "filepath = 'C:/Vidit/PhD/RA Work/KZ - RA/Gaming Project/data/User-Item Recommender System/data'\n",
    "user_item_file = filepath + '/user_all_item.txt'\n",
    "connection = pyodbc.connect('Driver={SQL Server Native Client 11.0};Server=localhost;Database=Gaming;Trusted_Connection=yes')\n",
    "cursor=connection.cursor()\n",
    "cmd = (\"select uid as userID, itemid as itemID from item_user order by uid\")\n",
    "cursor.execute(cmd)\n",
    "result = cursor.fetchall()\n",
    "with open(user_item_file,'w') as f:\n",
    "    f.write(\"userID\" + \"\\t\" + \"itemID\" + \"\\n\")\n",
    "    for user_id,item_id in result:\n",
    "        f.write(str(user_id) + \"\\t\" + str(item_id) + \"\\n\")\n",
    "f.close()\n",
    "print(\"Success\")\n",
    "connection.commit()\n",
    "connection.close()"
   ]
  },
  {
   "cell_type": "code",
   "execution_count": 2,
   "metadata": {},
   "outputs": [],
   "source": [
    "import graphlab as gl\n",
    "gl.product_key.set_product_key('1811-F618-7371-23C4-6644-5DB9-A97C-F5C8')"
   ]
  },
  {
   "cell_type": "code",
   "execution_count": 3,
   "metadata": {},
   "outputs": [
    {
     "name": "stderr",
     "output_type": "stream",
     "text": [
      "[INFO] graphlab.cython.cy_server: GraphLab Create v2.1 started. Logging: C:\\Users\\viditm\\AppData\\Local\\Temp\\graphlab_server_1551553620.log.0\n"
     ]
    },
    {
     "name": "stdout",
     "output_type": "stream",
     "text": [
      "This non-commercial license of GraphLab Create for academic use is assigned to viditm@umd.edu and will expire on October 21, 2019.\n"
     ]
    },
    {
     "data": {
      "text/html": [
       "<pre>Finished parsing file C:\\Vidit\\PhD\\RA Work\\KZ - RA\\GARENA Project\\data\\User-Item Recommender System\\data\\user_all_item.txt</pre>"
      ],
      "text/plain": [
       "Finished parsing file C:\\Vidit\\PhD\\RA Work\\KZ - RA\\GARENA Project\\data\\User-Item Recommender System\\data\\user_all_item.txt"
      ]
     },
     "metadata": {},
     "output_type": "display_data"
    },
    {
     "data": {
      "text/html": [
       "<pre>Parsing completed. Parsed 100 lines in 0.056848 secs.</pre>"
      ],
      "text/plain": [
       "Parsing completed. Parsed 100 lines in 0.056848 secs."
      ]
     },
     "metadata": {},
     "output_type": "display_data"
    },
    {
     "name": "stdout",
     "output_type": "stream",
     "text": [
      "------------------------------------------------------\n",
      "Inferred types from first 100 line(s) of file as \n",
      "column_type_hints=[long,str]\n",
      "If parsing fails due to incorrect types, you can correct\n",
      "the inferred type list above and pass it to read_csv in\n",
      "the column_type_hints argument\n",
      "------------------------------------------------------\n"
     ]
    },
    {
     "data": {
      "text/html": [
       "<pre>Finished parsing file C:\\Vidit\\PhD\\RA Work\\KZ - RA\\GARENA Project\\data\\User-Item Recommender System\\data\\user_all_item.txt</pre>"
      ],
      "text/plain": [
       "Finished parsing file C:\\Vidit\\PhD\\RA Work\\KZ - RA\\GARENA Project\\data\\User-Item Recommender System\\data\\user_all_item.txt"
      ]
     },
     "metadata": {},
     "output_type": "display_data"
    },
    {
     "data": {
      "text/html": [
       "<pre>Parsing completed. Parsed 37704 lines in 0.04089 secs.</pre>"
      ],
      "text/plain": [
       "Parsing completed. Parsed 37704 lines in 0.04089 secs."
      ]
     },
     "metadata": {},
     "output_type": "display_data"
    }
   ],
   "source": [
    "user_item = gl.SFrame.read_csv(user_item_file, header = True, delimiter = \"\\t\")"
   ]
  },
  {
   "cell_type": "code",
   "execution_count": 4,
   "metadata": {},
   "outputs": [
    {
     "name": "stdout",
     "output_type": "stream",
     "text": [
      "Canvas is accessible via web browser at the URL: http://localhost:59586/index.html\n",
      "Opening Canvas in default web browser.\n"
     ]
    }
   ],
   "source": [
    "user_item.show()"
   ]
  },
  {
   "cell_type": "code",
   "execution_count": 5,
   "metadata": {},
   "outputs": [
    {
     "data": {
      "text/html": [
       "<div style=\"max-height:1000px;max-width:1500px;overflow:auto;\"><table frame=\"box\" rules=\"cols\">\n",
       "    <tr>\n",
       "        <th style=\"padding-left: 1em; padding-right: 1em; text-align: center\">userID</th>\n",
       "        <th style=\"padding-left: 1em; padding-right: 1em; text-align: center\">itemID</th>\n",
       "    </tr>\n",
       "    <tr>\n",
       "        <td style=\"padding-left: 1em; padding-right: 1em; text-align: center; vertical-align: top\">43639</td>\n",
       "        <td style=\"padding-left: 1em; padding-right: 1em; text-align: center; vertical-align: top\">9001</td>\n",
       "    </tr>\n",
       "    <tr>\n",
       "        <td style=\"padding-left: 1em; padding-right: 1em; text-align: center; vertical-align: top\">43639</td>\n",
       "        <td style=\"padding-left: 1em; padding-right: 1em; text-align: center; vertical-align: top\">89</td>\n",
       "    </tr>\n",
       "    <tr>\n",
       "        <td style=\"padding-left: 1em; padding-right: 1em; text-align: center; vertical-align: top\">44765</td>\n",
       "        <td style=\"padding-left: 1em; padding-right: 1em; text-align: center; vertical-align: top\">lolvn001</td>\n",
       "    </tr>\n",
       "    <tr>\n",
       "        <td style=\"padding-left: 1em; padding-right: 1em; text-align: center; vertical-align: top\">44765</td>\n",
       "        <td style=\"padding-left: 1em; padding-right: 1em; text-align: center; vertical-align: top\">lolvn002</td>\n",
       "    </tr>\n",
       "    <tr>\n",
       "        <td style=\"padding-left: 1em; padding-right: 1em; text-align: center; vertical-align: top\">45121</td>\n",
       "        <td style=\"padding-left: 1em; padding-right: 1em; text-align: center; vertical-align: top\">MSTAR004</td>\n",
       "    </tr>\n",
       "    <tr>\n",
       "        <td style=\"padding-left: 1em; padding-right: 1em; text-align: center; vertical-align: top\">45121</td>\n",
       "        <td style=\"padding-left: 1em; padding-right: 1em; text-align: center; vertical-align: top\">MSTAR006</td>\n",
       "    </tr>\n",
       "    <tr>\n",
       "        <td style=\"padding-left: 1em; padding-right: 1em; text-align: center; vertical-align: top\">45121</td>\n",
       "        <td style=\"padding-left: 1em; padding-right: 1em; text-align: center; vertical-align: top\">MSTAR001</td>\n",
       "    </tr>\n",
       "    <tr>\n",
       "        <td style=\"padding-left: 1em; padding-right: 1em; text-align: center; vertical-align: top\">45693</td>\n",
       "        <td style=\"padding-left: 1em; padding-right: 1em; text-align: center; vertical-align: top\">tw_18_5</td>\n",
       "    </tr>\n",
       "    <tr>\n",
       "        <td style=\"padding-left: 1em; padding-right: 1em; text-align: center; vertical-align: top\">47495</td>\n",
       "        <td style=\"padding-left: 1em; padding-right: 1em; text-align: center; vertical-align: top\">loltw004</td>\n",
       "    </tr>\n",
       "    <tr>\n",
       "        <td style=\"padding-left: 1em; padding-right: 1em; text-align: center; vertical-align: top\">47503</td>\n",
       "        <td style=\"padding-left: 1em; padding-right: 1em; text-align: center; vertical-align: top\">43</td>\n",
       "    </tr>\n",
       "</table>\n",
       "[10 rows x 2 columns]<br/>\n",
       "</div>"
      ],
      "text/plain": [
       "Columns:\n",
       "\tuserID\tint\n",
       "\titemID\tstr\n",
       "\n",
       "Rows: 10\n",
       "\n",
       "Data:\n",
       "+--------+----------+\n",
       "| userID |  itemID  |\n",
       "+--------+----------+\n",
       "| 43639  |   9001   |\n",
       "| 43639  |    89    |\n",
       "| 44765  | lolvn001 |\n",
       "| 44765  | lolvn002 |\n",
       "| 45121  | MSTAR004 |\n",
       "| 45121  | MSTAR006 |\n",
       "| 45121  | MSTAR001 |\n",
       "| 45693  | tw_18_5  |\n",
       "| 47495  | loltw004 |\n",
       "| 47503  |    43    |\n",
       "+--------+----------+\n",
       "[10 rows x 2 columns]"
      ]
     },
     "execution_count": 5,
     "metadata": {},
     "output_type": "execute_result"
    }
   ],
   "source": [
    "user_item.head()"
   ]
  },
  {
   "cell_type": "code",
   "execution_count": 6,
   "metadata": {},
   "outputs": [
    {
     "data": {
      "text/html": [
       "<pre>Recsys training: model = item_similarity</pre>"
      ],
      "text/plain": [
       "Recsys training: model = item_similarity"
      ]
     },
     "metadata": {},
     "output_type": "display_data"
    },
    {
     "data": {
      "text/html": [
       "<pre>Preparing data set.</pre>"
      ],
      "text/plain": [
       "Preparing data set."
      ]
     },
     "metadata": {},
     "output_type": "display_data"
    },
    {
     "data": {
      "text/html": [
       "<pre>    Data has 37704 observations with 23314 users and 1450 items.</pre>"
      ],
      "text/plain": [
       "    Data has 37704 observations with 23314 users and 1450 items."
      ]
     },
     "metadata": {},
     "output_type": "display_data"
    },
    {
     "data": {
      "text/html": [
       "<pre>    Data prepared in: 0.043883s</pre>"
      ],
      "text/plain": [
       "    Data prepared in: 0.043883s"
      ]
     },
     "metadata": {},
     "output_type": "display_data"
    },
    {
     "data": {
      "text/html": [
       "<pre>Training model from provided data.</pre>"
      ],
      "text/plain": [
       "Training model from provided data."
      ]
     },
     "metadata": {},
     "output_type": "display_data"
    },
    {
     "data": {
      "text/html": [
       "<pre>Gathering per-item and per-user statistics.</pre>"
      ],
      "text/plain": [
       "Gathering per-item and per-user statistics."
      ]
     },
     "metadata": {},
     "output_type": "display_data"
    },
    {
     "data": {
      "text/html": [
       "<pre>+--------------------------------+------------+</pre>"
      ],
      "text/plain": [
       "+--------------------------------+------------+"
      ]
     },
     "metadata": {},
     "output_type": "display_data"
    },
    {
     "data": {
      "text/html": [
       "<pre>| Elapsed Time (Item Statistics) | % Complete |</pre>"
      ],
      "text/plain": [
       "| Elapsed Time (Item Statistics) | % Complete |"
      ]
     },
     "metadata": {},
     "output_type": "display_data"
    },
    {
     "data": {
      "text/html": [
       "<pre>+--------------------------------+------------+</pre>"
      ],
      "text/plain": [
       "+--------------------------------+------------+"
      ]
     },
     "metadata": {},
     "output_type": "display_data"
    },
    {
     "data": {
      "text/html": [
       "<pre>| 999us                          | 4.25       |</pre>"
      ],
      "text/plain": [
       "| 999us                          | 4.25       |"
      ]
     },
     "metadata": {},
     "output_type": "display_data"
    },
    {
     "data": {
      "text/html": [
       "<pre>| 3.989ms                        | 100        |</pre>"
      ],
      "text/plain": [
       "| 3.989ms                        | 100        |"
      ]
     },
     "metadata": {},
     "output_type": "display_data"
    },
    {
     "data": {
      "text/html": [
       "<pre>+--------------------------------+------------+</pre>"
      ],
      "text/plain": [
       "+--------------------------------+------------+"
      ]
     },
     "metadata": {},
     "output_type": "display_data"
    },
    {
     "data": {
      "text/html": [
       "<pre>Setting up lookup tables.</pre>"
      ],
      "text/plain": [
       "Setting up lookup tables."
      ]
     },
     "metadata": {},
     "output_type": "display_data"
    },
    {
     "data": {
      "text/html": [
       "<pre>Processing data in one pass using dense lookup tables.</pre>"
      ],
      "text/plain": [
       "Processing data in one pass using dense lookup tables."
      ]
     },
     "metadata": {},
     "output_type": "display_data"
    },
    {
     "data": {
      "text/html": [
       "<pre>+-------------------------------------+------------------+-----------------+</pre>"
      ],
      "text/plain": [
       "+-------------------------------------+------------------+-----------------+"
      ]
     },
     "metadata": {},
     "output_type": "display_data"
    },
    {
     "data": {
      "text/html": [
       "<pre>| Elapsed Time (Constructing Lookups) | Total % Complete | Items Processed |</pre>"
      ],
      "text/plain": [
       "| Elapsed Time (Constructing Lookups) | Total % Complete | Items Processed |"
      ]
     },
     "metadata": {},
     "output_type": "display_data"
    },
    {
     "data": {
      "text/html": [
       "<pre>+-------------------------------------+------------------+-----------------+</pre>"
      ],
      "text/plain": [
       "+-------------------------------------+------------------+-----------------+"
      ]
     },
     "metadata": {},
     "output_type": "display_data"
    },
    {
     "data": {
      "text/html": [
       "<pre>| 7.979ms                             | 0                | 0               |</pre>"
      ],
      "text/plain": [
       "| 7.979ms                             | 0                | 0               |"
      ]
     },
     "metadata": {},
     "output_type": "display_data"
    },
    {
     "data": {
      "text/html": [
       "<pre>| 20.944ms                            | 100              | 1450            |</pre>"
      ],
      "text/plain": [
       "| 20.944ms                            | 100              | 1450            |"
      ]
     },
     "metadata": {},
     "output_type": "display_data"
    },
    {
     "data": {
      "text/html": [
       "<pre>+-------------------------------------+------------------+-----------------+</pre>"
      ],
      "text/plain": [
       "+-------------------------------------+------------------+-----------------+"
      ]
     },
     "metadata": {},
     "output_type": "display_data"
    },
    {
     "data": {
      "text/html": [
       "<pre>Finalizing lookup tables.</pre>"
      ],
      "text/plain": [
       "Finalizing lookup tables."
      ]
     },
     "metadata": {},
     "output_type": "display_data"
    },
    {
     "data": {
      "text/html": [
       "<pre>Generating candidate set for working with new users.</pre>"
      ],
      "text/plain": [
       "Generating candidate set for working with new users."
      ]
     },
     "metadata": {},
     "output_type": "display_data"
    },
    {
     "data": {
      "text/html": [
       "<pre>Finished training in 1.02427s</pre>"
      ],
      "text/plain": [
       "Finished training in 1.02427s"
      ]
     },
     "metadata": {},
     "output_type": "display_data"
    }
   ],
   "source": [
    "model = gl.recommender.item_similarity_recommender.create(user_item, user_id = 'userID', item_id = 'itemID')"
   ]
  },
  {
   "cell_type": "code",
   "execution_count": 7,
   "metadata": {},
   "outputs": [
    {
     "data": {
      "text/plain": [
       "View object\n",
       "\n",
       "URI: \t\thttp://localhost:32213/view/8b96a72c-cc2d-4991-a540-2e85ab145dc0\n",
       "HTML: \t\t\n",
       "<gl-recommender-explore\n",
       "    uri=\"http://localhost:32213/view/b47ea0a6-c040-4473-ab2e-abf1351070f3\"\n",
       "    api_key=\"\"\n",
       "/>\n",
       "        "
      ]
     },
     "execution_count": 7,
     "metadata": {},
     "output_type": "execute_result"
    }
   ],
   "source": [
    "model.views.explore().show()"
   ]
  },
  {
   "cell_type": "code",
   "execution_count": 8,
   "metadata": {},
   "outputs": [],
   "source": [
    "userlist = []\n",
    "dirpath = 'C:/Vidit/PhD/RA Work/KZ - RA/Gaming Project/data/Files'\n",
    "with open(dirpath + \"/selected_user.txt\") as sufile:  # pull the randomly selected users\n",
    "    for user in sufile:\n",
    "        userlist.append(user.strip())"
   ]
  },
  {
   "cell_type": "code",
   "execution_count": 9,
   "metadata": {},
   "outputs": [
    {
     "data": {
      "text/html": [
       "<pre>recommendations finished on 1000/10000 queries. users per second: 100281</pre>"
      ],
      "text/plain": [
       "recommendations finished on 1000/10000 queries. users per second: 100281"
      ]
     },
     "metadata": {},
     "output_type": "display_data"
    },
    {
     "data": {
      "text/html": [
       "<pre>recommendations finished on 2000/10000 queries. users per second: 111414</pre>"
      ],
      "text/plain": [
       "recommendations finished on 2000/10000 queries. users per second: 111414"
      ]
     },
     "metadata": {},
     "output_type": "display_data"
    },
    {
     "data": {
      "text/html": [
       "<pre>recommendations finished on 3000/10000 queries. users per second: 111412</pre>"
      ],
      "text/plain": [
       "recommendations finished on 3000/10000 queries. users per second: 111412"
      ]
     },
     "metadata": {},
     "output_type": "display_data"
    },
    {
     "data": {
      "text/html": [
       "<pre>recommendations finished on 4000/10000 queries. users per second: 85333.3</pre>"
      ],
      "text/plain": [
       "recommendations finished on 4000/10000 queries. users per second: 85333.3"
      ]
     },
     "metadata": {},
     "output_type": "display_data"
    },
    {
     "data": {
      "text/html": [
       "<pre>recommendations finished on 5000/10000 queries. users per second: 77129.5</pre>"
      ],
      "text/plain": [
       "recommendations finished on 5000/10000 queries. users per second: 77129.5"
      ]
     },
     "metadata": {},
     "output_type": "display_data"
    },
    {
     "data": {
      "text/html": [
       "<pre>recommendations finished on 6000/10000 queries. users per second: 77128.8</pre>"
      ],
      "text/plain": [
       "recommendations finished on 6000/10000 queries. users per second: 77128.8"
      ]
     },
     "metadata": {},
     "output_type": "display_data"
    },
    {
     "data": {
      "text/html": [
       "<pre>recommendations finished on 7000/10000 queries. users per second: 70895.4</pre>"
      ],
      "text/plain": [
       "recommendations finished on 7000/10000 queries. users per second: 70895.4"
      ]
     },
     "metadata": {},
     "output_type": "display_data"
    },
    {
     "data": {
      "text/html": [
       "<pre>recommendations finished on 8000/10000 queries. users per second: 69751.4</pre>"
      ],
      "text/plain": [
       "recommendations finished on 8000/10000 queries. users per second: 69751.4"
      ]
     },
     "metadata": {},
     "output_type": "display_data"
    },
    {
     "data": {
      "text/html": [
       "<pre>recommendations finished on 9000/10000 queries. users per second: 69416.1</pre>"
      ],
      "text/plain": [
       "recommendations finished on 9000/10000 queries. users per second: 69416.1"
      ]
     },
     "metadata": {},
     "output_type": "display_data"
    },
    {
     "data": {
      "text/html": [
       "<pre>recommendations finished on 10000/10000 queries. users per second: 61513.9</pre>"
      ],
      "text/plain": [
       "recommendations finished on 10000/10000 queries. users per second: 61513.9"
      ]
     },
     "metadata": {},
     "output_type": "display_data"
    },
    {
     "data": {
      "text/html": [
       "<pre>recommendations finished on 1000/10000 queries. users per second: 71617.8</pre>"
      ],
      "text/plain": [
       "recommendations finished on 1000/10000 queries. users per second: 71617.8"
      ]
     },
     "metadata": {},
     "output_type": "display_data"
    },
    {
     "data": {
      "text/html": [
       "<pre>recommendations finished on 2000/10000 queries. users per second: 80211.8</pre>"
      ],
      "text/plain": [
       "recommendations finished on 2000/10000 queries. users per second: 80211.8"
      ]
     },
     "metadata": {},
     "output_type": "display_data"
    },
    {
     "data": {
      "text/html": [
       "<pre>recommendations finished on 3000/10000 queries. users per second: 65390.8</pre>"
      ],
      "text/plain": [
       "recommendations finished on 3000/10000 queries. users per second: 65390.8"
      ]
     },
     "metadata": {},
     "output_type": "display_data"
    },
    {
     "data": {
      "text/html": [
       "<pre>recommendations finished on 4000/10000 queries. users per second: 58126</pre>"
      ],
      "text/plain": [
       "recommendations finished on 4000/10000 queries. users per second: 58126"
      ]
     },
     "metadata": {},
     "output_type": "display_data"
    },
    {
     "data": {
      "text/html": [
       "<pre>recommendations finished on 5000/10000 queries. users per second: 61138.9</pre>"
      ],
      "text/plain": [
       "recommendations finished on 5000/10000 queries. users per second: 61138.9"
      ]
     },
     "metadata": {},
     "output_type": "display_data"
    },
    {
     "data": {
      "text/html": [
       "<pre>recommendations finished on 6000/10000 queries. users per second: 60768.1</pre>"
      ],
      "text/plain": [
       "recommendations finished on 6000/10000 queries. users per second: 60768.1"
      ]
     },
     "metadata": {},
     "output_type": "display_data"
    },
    {
     "data": {
      "text/html": [
       "<pre>recommendations finished on 7000/10000 queries. users per second: 56149.6</pre>"
      ],
      "text/plain": [
       "recommendations finished on 7000/10000 queries. users per second: 56149.6"
      ]
     },
     "metadata": {},
     "output_type": "display_data"
    },
    {
     "data": {
      "text/html": [
       "<pre>recommendations finished on 8000/10000 queries. users per second: 56888.9</pre>"
      ],
      "text/plain": [
       "recommendations finished on 8000/10000 queries. users per second: 56888.9"
      ]
     },
     "metadata": {},
     "output_type": "display_data"
    },
    {
     "data": {
      "text/html": [
       "<pre>recommendations finished on 9000/10000 queries. users per second: 58597.2</pre>"
      ],
      "text/plain": [
       "recommendations finished on 9000/10000 queries. users per second: 58597.2"
      ]
     },
     "metadata": {},
     "output_type": "display_data"
    },
    {
     "data": {
      "text/html": [
       "<pre>recommendations finished on 10000/10000 queries. users per second: 57295.4</pre>"
      ],
      "text/plain": [
       "recommendations finished on 10000/10000 queries. users per second: 57295.4"
      ]
     },
     "metadata": {},
     "output_type": "display_data"
    },
    {
     "data": {
      "text/html": [
       "<pre>recommendations finished on 1000/10000 queries. users per second: 91166</pre>"
      ],
      "text/plain": [
       "recommendations finished on 1000/10000 queries. users per second: 91166"
      ]
     },
     "metadata": {},
     "output_type": "display_data"
    },
    {
     "data": {
      "text/html": [
       "<pre>recommendations finished on 2000/10000 queries. users per second: 95497.3</pre>"
      ],
      "text/plain": [
       "recommendations finished on 2000/10000 queries. users per second: 95497.3"
      ]
     },
     "metadata": {},
     "output_type": "display_data"
    },
    {
     "data": {
      "text/html": [
       "<pre>recommendations finished on 3000/10000 queries. users per second: 77128.8</pre>"
      ],
      "text/plain": [
       "recommendations finished on 3000/10000 queries. users per second: 77128.8"
      ]
     },
     "metadata": {},
     "output_type": "display_data"
    },
    {
     "data": {
      "text/html": [
       "<pre>recommendations finished on 4000/10000 queries. users per second: 66844.9</pre>"
      ],
      "text/plain": [
       "recommendations finished on 4000/10000 queries. users per second: 66844.9"
      ]
     },
     "metadata": {},
     "output_type": "display_data"
    },
    {
     "data": {
      "text/html": [
       "<pre>recommendations finished on 5000/10000 queries. users per second: 66845.8</pre>"
      ],
      "text/plain": [
       "recommendations finished on 5000/10000 queries. users per second: 66845.8"
      ]
     },
     "metadata": {},
     "output_type": "display_data"
    },
    {
     "data": {
      "text/html": [
       "<pre>recommendations finished on 6000/10000 queries. users per second: 63327.2</pre>"
      ],
      "text/plain": [
       "recommendations finished on 6000/10000 queries. users per second: 63327.2"
      ]
     },
     "metadata": {},
     "output_type": "display_data"
    },
    {
     "data": {
      "text/html": [
       "<pre>recommendations finished on 7000/10000 queries. users per second: 59989.5</pre>"
      ],
      "text/plain": [
       "recommendations finished on 7000/10000 queries. users per second: 59989.5"
      ]
     },
     "metadata": {},
     "output_type": "display_data"
    },
    {
     "data": {
      "text/html": [
       "<pre>recommendations finished on 8000/10000 queries. users per second: 59861.4</pre>"
      ],
      "text/plain": [
       "recommendations finished on 8000/10000 queries. users per second: 59861.4"
      ]
     },
     "metadata": {},
     "output_type": "display_data"
    },
    {
     "data": {
      "text/html": [
       "<pre>recommendations finished on 9000/10000 queries. users per second: 57114.2</pre>"
      ],
      "text/plain": [
       "recommendations finished on 9000/10000 queries. users per second: 57114.2"
      ]
     },
     "metadata": {},
     "output_type": "display_data"
    },
    {
     "data": {
      "text/html": [
       "<pre>recommendations finished on 10000/10000 queries. users per second: 54790.9</pre>"
      ],
      "text/plain": [
       "recommendations finished on 10000/10000 queries. users per second: 54790.9"
      ]
     },
     "metadata": {},
     "output_type": "display_data"
    },
    {
     "data": {
      "text/html": [
       "<pre>recommendations finished on 1000/10000 queries. users per second: 83563.1</pre>"
      ],
      "text/plain": [
       "recommendations finished on 1000/10000 queries. users per second: 83563.1"
      ]
     },
     "metadata": {},
     "output_type": "display_data"
    },
    {
     "data": {
      "text/html": [
       "<pre>recommendations finished on 2000/10000 queries. users per second: 87191.6</pre>"
      ],
      "text/plain": [
       "recommendations finished on 2000/10000 queries. users per second: 87191.6"
      ]
     },
     "metadata": {},
     "output_type": "display_data"
    },
    {
     "data": {
      "text/html": [
       "<pre>recommendations finished on 3000/10000 queries. users per second: 77128.8</pre>"
      ],
      "text/plain": [
       "recommendations finished on 3000/10000 queries. users per second: 77128.8"
      ]
     },
     "metadata": {},
     "output_type": "display_data"
    },
    {
     "data": {
      "text/html": [
       "<pre>recommendations finished on 4000/10000 queries. users per second: 59861.4</pre>"
      ],
      "text/plain": [
       "recommendations finished on 4000/10000 queries. users per second: 59861.4"
      ]
     },
     "metadata": {},
     "output_type": "display_data"
    },
    {
     "data": {
      "text/html": [
       "<pre>recommendations finished on 5000/10000 queries. users per second: 61134.4</pre>"
      ],
      "text/plain": [
       "recommendations finished on 5000/10000 queries. users per second: 61134.4"
      ]
     },
     "metadata": {},
     "output_type": "display_data"
    },
    {
     "data": {
      "text/html": [
       "<pre>recommendations finished on 6000/10000 queries. users per second: 60768.1</pre>"
      ],
      "text/plain": [
       "recommendations finished on 6000/10000 queries. users per second: 60768.1"
      ]
     },
     "metadata": {},
     "output_type": "display_data"
    },
    {
     "data": {
      "text/html": [
       "<pre>recommendations finished on 7000/10000 queries. users per second: 59480.8</pre>"
      ],
      "text/plain": [
       "recommendations finished on 7000/10000 queries. users per second: 59480.8"
      ]
     },
     "metadata": {},
     "output_type": "display_data"
    },
    {
     "data": {
      "text/html": [
       "<pre>recommendations finished on 8000/10000 queries. users per second: 57295.5</pre>"
      ],
      "text/plain": [
       "recommendations finished on 8000/10000 queries. users per second: 57295.5"
      ]
     },
     "metadata": {},
     "output_type": "display_data"
    },
    {
     "data": {
      "text/html": [
       "<pre>recommendations finished on 9000/10000 queries. users per second: 56755.1</pre>"
      ],
      "text/plain": [
       "recommendations finished on 9000/10000 queries. users per second: 56755.1"
      ]
     },
     "metadata": {},
     "output_type": "display_data"
    },
    {
     "data": {
      "text/html": [
       "<pre>recommendations finished on 10000/10000 queries. users per second: 54790.9</pre>"
      ],
      "text/plain": [
       "recommendations finished on 10000/10000 queries. users per second: 54790.9"
      ]
     },
     "metadata": {},
     "output_type": "display_data"
    }
   ],
   "source": [
    "recs_top_5_user_model = model.recommend(users = userlist, k = 5)\n",
    "recs_top_10_user_model = model.recommend(users = userlist, k = 10)\n",
    "recs_top_15_user_model = model.recommend(users = userlist, k = 15)\n",
    "recs_top_20_user_model = model.recommend(users = userlist, k = 20)"
   ]
  },
  {
   "cell_type": "code",
   "execution_count": 10,
   "metadata": {},
   "outputs": [],
   "source": [
    "sf_top_5 = recs_top_5_user_model.select_columns(['userID', 'itemID'])\n",
    "sf_top_10 = recs_top_10_user_model.select_columns(['userID', 'itemID'])\n",
    "sf_top_15 = recs_top_15_user_model.select_columns(['userID', 'itemID'])\n",
    "sf_top_20 = recs_top_20_user_model.select_columns(['userID', 'itemID'])"
   ]
  },
  {
   "cell_type": "code",
   "execution_count": 11,
   "metadata": {},
   "outputs": [],
   "source": [
    "import pandas\n",
    "p_top_5 = sf_top_5.to_dataframe()\n",
    "p_top_10 = sf_top_10.to_dataframe()\n",
    "p_top_15 = sf_top_15.to_dataframe()\n",
    "p_top_20 = sf_top_20.to_dataframe()"
   ]
  },
  {
   "cell_type": "code",
   "execution_count": 12,
   "metadata": {},
   "outputs": [],
   "source": [
    "path = 'C:/Vidit/PhD/RA Work/KZ - RA/Gaming Project/data/User-Item Recommender System/data'\n",
    "top_5 = path + '/user_all_top_5.txt'\n",
    "top_10 = path + '/user_all_top_10.txt'\n",
    "top_15 = path + '/user_all_top_15.txt'\n",
    "top_20 = path + '/user_all_top_20.txt'\n",
    "p_top_5.to_csv(top_5, header=None, index=None, sep=' ')\n",
    "p_top_10.to_csv(top_10, header=None, index=None, sep=' ')\n",
    "p_top_15.to_csv(top_15, header=None, index=None, sep=' ')\n",
    "p_top_20.to_csv(top_20, header=None, index=None, sep=' ')"
   ]
  },
  {
   "cell_type": "code",
   "execution_count": 13,
   "metadata": {},
   "outputs": [
    {
     "name": "stdout",
     "output_type": "stream",
     "text": [
      "No of users who bought items in first 2 days of test period: 2700\n",
      "No of users who bought items in first 4 days of test period: 4999\n",
      "No of users who bought items in first 10 days of test period: 10302\n"
     ]
    }
   ],
   "source": [
    "from __future__ import division\n",
    "dirpath = 'C:/Vidit/PhD/RA Work/KZ - RA/Gaming Project/data/Files'\n",
    "path = 'C:/Vidit/PhD/RA Work/KZ - RA/Gaming Project/data/User-Item Recommender System/data'\n",
    "test2days_user_item = dict()\n",
    "test4days_user_item = dict()\n",
    "test10days_user_item = dict()\n",
    "user_top_5_recitems = dict()\n",
    "user_top_10_recitems = dict()\n",
    "user_top_15_recitems = dict()\n",
    "user_top_20_recitems = dict()\n",
    "\n",
    "with open(dirpath + \"/test2days_item_user.txt\") as iufile:  # list of all items purchased by users in 2 days of testing period\n",
    "    for line in iufile:\n",
    "        toks = line.strip().split(\"\\t\")\n",
    "        if len(toks) == 2:\n",
    "            i, u = toks[0], toks[1]\n",
    "            if u not in test2days_user_item:\n",
    "                test2days_user_item[u] = []\n",
    "            test2days_user_item[u].append(i)   # {uid1: [itemid1,itemid2,...], uid2: [itemd2,itemd3,....]} = dict of list of items purchased by each user\n",
    "print(\"No of users who bought items in first 2 days of test period:\", len(test2days_user_item))\n",
    "        \n",
    "with open(dirpath + \"/test4days_item_user.txt\") as iufile:  # list of all items purchased by users in 4 days of testing period\n",
    "    for line in iufile:\n",
    "        toks = line.strip().split(\"\\t\")\n",
    "        if len(toks) == 2:\n",
    "            i, u = toks[0], toks[1]\n",
    "            if u not in test4days_user_item:\n",
    "                test4days_user_item[u] = []\n",
    "            test4days_user_item[u].append(i)   # {uid1: [itemid1,itemid2,...], uid2: [itemd2,itemd3,....]} = dict of list of items purchased by each user\n",
    "print(\"No of users who bought items in first 4 days of test period:\", len(test4days_user_item))\n",
    "        \n",
    "with open(dirpath + \"/test10days_item_user.txt\") as iufile:  # list of all items purchased by users in 10 days of testing period\n",
    "    for line in iufile:\n",
    "        toks = line.strip().split(\"\\t\")\n",
    "        if len(toks) == 2:\n",
    "            i, u = toks[0], toks[1]            \n",
    "            if u not in test10days_user_item:\n",
    "                test10days_user_item[u] = []\n",
    "            test10days_user_item[u].append(i)   # {uid1: [itemid1,itemid2,...], uid2: [itemd2,itemd3,....]} = dict of list of items purchased by each user\n",
    "print(\"No of users who bought items in first 10 days of test period:\", len(test10days_user_item))\n",
    "\n",
    "with open(path + '/user_top_5.txt') as uifile:  # list of recommended items\n",
    "    for line in uifile:\n",
    "        toks = line.strip().split(' ')\n",
    "        if len(toks) == 2:\n",
    "            u, i = toks[0], toks[1]\n",
    "            if u not in user_top_5_recitems:\n",
    "                user_top_5_recitems[u] = []\n",
    "            user_top_5_recitems[u].append(i)\n",
    "            \n",
    "with open(path + '/user_top_10.txt') as uifile:  # list of recommended items\n",
    "    for line in uifile:\n",
    "        toks = line.strip().split(' ')\n",
    "        if len(toks) == 2:\n",
    "            u, i = toks[0], toks[1]\n",
    "            if u not in user_top_10_recitems:\n",
    "                user_top_10_recitems[u] = []\n",
    "            user_top_10_recitems[u].append(i) \n",
    "            \n",
    "with open(path + '/user_top_15.txt') as uifile:  # list of recommended items\n",
    "    for line in uifile:\n",
    "        toks = line.strip().split(' ')\n",
    "        if len(toks) == 2:\n",
    "            u, i = toks[0], toks[1]\n",
    "            if u not in user_top_15_recitems:\n",
    "                user_top_15_recitems[u] = []\n",
    "            user_top_15_recitems[u].append(i)\n",
    "            \n",
    "with open(path + '/user_top_20.txt') as uifile:  # list of recommended items\n",
    "    for line in uifile:\n",
    "        toks = line.strip().split(' ')\n",
    "        if len(toks) == 2:\n",
    "            u, i = toks[0], toks[1]\n",
    "            if u not in user_top_20_recitems:\n",
    "                user_top_20_recitems[u] = []\n",
    "            user_top_20_recitems[u].append(i)\n",
    "            \n",
    "def get_accuracy_score(user_recitems):\n",
    "    count_2days = count_4days = count_10days = 0\n",
    "    for user in user_recitems:\n",
    "        recommended_items = set(user_recitems.get(user,[]))\n",
    "        new_items_2days = set(test2days_user_item.get(user,[]))\n",
    "        new_items_4days = set(test4days_user_item.get(user,[]))\n",
    "        new_items_10days = set(test10days_user_item.get(user,[]))\n",
    "        if len(recommended_items & new_items_2days) > 0:\n",
    "            count_2days += 1\n",
    "        if len(recommended_items & new_items_4days) > 0:\n",
    "            count_4days += 1\n",
    "        if len(recommended_items & new_items_10days) > 0:\n",
    "            count_10days += 1\n",
    "    print(\"For a 2-day testing period:\", count_2days/10000)\n",
    "    print(\"For a 4-day testing period:\", count_4days/10000)\n",
    "    print(\"For a 10-day testing period:\", count_10days/10000)\n"
   ]
  },
  {
   "cell_type": "code",
   "execution_count": 14,
   "metadata": {},
   "outputs": [
    {
     "name": "stdout",
     "output_type": "stream",
     "text": [
      "\n",
      "Accuracy for All Items\n",
      "\n",
      "Accuracy for User-Item Collaborative Filtering Recommender System based on Top-5 similar users\n",
      "For a 2-day testing period: 0.0037\n",
      "For a 4-day testing period: 0.0077\n",
      "For a 10-day testing period: 0.0142\n",
      "\n",
      "Accuracy for User-Item Collaborative Filtering Recommender System based on Top-10 similar users\n",
      "For a 2-day testing period: 0.0037\n",
      "For a 4-day testing period: 0.0078\n",
      "For a 10-day testing period: 0.015\n",
      "\n",
      "Accuracy for User-Item Collaborative Filtering Recommender System based on Top-15 similar users\n",
      "For a 2-day testing period: 0.0038\n",
      "For a 4-day testing period: 0.0081\n",
      "For a 10-day testing period: 0.0154\n",
      "\n",
      "Accuracy for User-Item Collaborative Filtering Recommender System based on Top-20 similar users\n",
      "For a 2-day testing period: 0.0042\n",
      "For a 4-day testing period: 0.0088\n",
      "For a 10-day testing period: 0.0169\n"
     ]
    }
   ],
   "source": [
    "print(\"\\nAccuracy for All Items\")\n",
    "print(\"\\nAccuracy for User-Item Collaborative Filtering Recommender System based on Top-5 similar users\")\n",
    "get_accuracy_score (user_recitems = user_top_5_recitems)\n",
    "print(\"\\nAccuracy for User-Item Collaborative Filtering Recommender System based on Top-10 similar users\")\n",
    "get_accuracy_score (user_recitems = user_top_10_recitems)\n",
    "print(\"\\nAccuracy for User-Item Collaborative Filtering Recommender System based on Top-15 similar users\")\n",
    "get_accuracy_score (user_recitems = user_top_15_recitems)\n",
    "print(\"\\nAccuracy for User-Item Collaborative Filtering Recommender System based on Top-20 similar users\")\n",
    "get_accuracy_score (user_recitems = user_top_20_recitems)"
   ]
  }
 ],
 "metadata": {
  "kernelspec": {
   "display_name": "Python [conda env:py27]",
   "language": "python",
   "name": "conda-env-py27-py"
  },
  "language_info": {
   "codemirror_mode": {
    "name": "ipython",
    "version": 2
   },
   "file_extension": ".py",
   "mimetype": "text/x-python",
   "name": "python",
   "nbconvert_exporter": "python",
   "pygments_lexer": "ipython2",
   "version": "2.7.15"
  }
 },
 "nbformat": 4,
 "nbformat_minor": 2
}
