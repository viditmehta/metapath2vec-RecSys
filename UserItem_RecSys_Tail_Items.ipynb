{
 "cells": [
  {
   "cell_type": "code",
   "execution_count": 1,
   "metadata": {},
   "outputs": [
    {
     "name": "stdout",
     "output_type": "stream",
     "text": [
      "Generating training file for RS\n",
      "Success\n"
     ]
    }
   ],
   "source": [
    "from __future__ import print_function\n",
    "import pyodbc\n",
    "print(\"Generating training file for RS\")\n",
    "filepath = 'C:/Vidit/PhD/RA Work/KZ - RA/Gaming Project/data/User-Item Recommender System/data'\n",
    "user_item_file = filepath + '/user_tail_item.txt'\n",
    "connection = pyodbc.connect('Driver={SQL Server Native Client 11.0};Server=localhost;Database=Gaming;Trusted_Connection=yes')\n",
    "cursor=connection.cursor()\n",
    "cmd = (\"select iu.uid as userID, iu.itemid as itemID from item_user iu join item_quantity_price_sales iq on iu.itemid = iq.itemid where iq.item_quantity < 154 order by iu.uid\")\n",
    "cursor.execute(cmd)\n",
    "result = cursor.fetchall()\n",
    "with open(user_item_file,'w') as f:\n",
    "    f.write(\"userID\" + \"\\t\" + \"itemID\" + \"\\n\")\n",
    "    for user_id,item_id in result:\n",
    "        f.write(str(user_id) + \"\\t\" + str(item_id) + \"\\n\")\n",
    "f.close()\n",
    "print(\"Success\")\n",
    "connection.commit()\n",
    "connection.close()"
   ]
  },
  {
   "cell_type": "code",
   "execution_count": 2,
   "metadata": {},
   "outputs": [],
   "source": [
    "import graphlab as gl\n",
    "gl.product_key.set_product_key('1811-F618-7371-23C4-6644-5DB9-A97C-F5C8')"
   ]
  },
  {
   "cell_type": "code",
   "execution_count": 3,
   "metadata": {},
   "outputs": [
    {
     "name": "stderr",
     "output_type": "stream",
     "text": [
      "[INFO] graphlab.cython.cy_server: GraphLab Create v2.1 started. Logging: C:\\Users\\viditm\\AppData\\Local\\Temp\\graphlab_server_1551553905.log.0\n"
     ]
    },
    {
     "name": "stdout",
     "output_type": "stream",
     "text": [
      "This non-commercial license of GraphLab Create for academic use is assigned to viditm@umd.edu and will expire on October 21, 2019.\n"
     ]
    },
    {
     "data": {
      "text/html": [
       "<pre>Finished parsing file C:\\Vidit\\PhD\\RA Work\\KZ - RA\\GARENA Project\\data\\User-Item Recommender System\\data\\user_tail_item.txt</pre>"
      ],
      "text/plain": [
       "Finished parsing file C:\\Vidit\\PhD\\RA Work\\KZ - RA\\GARENA Project\\data\\User-Item Recommender System\\data\\user_tail_item.txt"
      ]
     },
     "metadata": {},
     "output_type": "display_data"
    },
    {
     "data": {
      "text/html": [
       "<pre>Parsing completed. Parsed 100 lines in 0.024933 secs.</pre>"
      ],
      "text/plain": [
       "Parsing completed. Parsed 100 lines in 0.024933 secs."
      ]
     },
     "metadata": {},
     "output_type": "display_data"
    },
    {
     "name": "stdout",
     "output_type": "stream",
     "text": [
      "------------------------------------------------------\n",
      "Inferred types from first 100 line(s) of file as \n",
      "column_type_hints=[long,str]\n",
      "If parsing fails due to incorrect types, you can correct\n",
      "the inferred type list above and pass it to read_csv in\n",
      "the column_type_hints argument\n",
      "------------------------------------------------------\n"
     ]
    },
    {
     "data": {
      "text/html": [
       "<pre>Finished parsing file C:\\Vidit\\PhD\\RA Work\\KZ - RA\\GARENA Project\\data\\User-Item Recommender System\\data\\user_tail_item.txt</pre>"
      ],
      "text/plain": [
       "Finished parsing file C:\\Vidit\\PhD\\RA Work\\KZ - RA\\GARENA Project\\data\\User-Item Recommender System\\data\\user_tail_item.txt"
      ]
     },
     "metadata": {},
     "output_type": "display_data"
    },
    {
     "data": {
      "text/html": [
       "<pre>Parsing completed. Parsed 5398 lines in 0.026928 secs.</pre>"
      ],
      "text/plain": [
       "Parsing completed. Parsed 5398 lines in 0.026928 secs."
      ]
     },
     "metadata": {},
     "output_type": "display_data"
    }
   ],
   "source": [
    "user_item = gl.SFrame.read_csv(user_item_file, header = True, delimiter = \"\\t\")"
   ]
  },
  {
   "cell_type": "code",
   "execution_count": 4,
   "metadata": {},
   "outputs": [
    {
     "name": "stdout",
     "output_type": "stream",
     "text": [
      "Canvas is accessible via web browser at the URL: http://localhost:59903/index.html\n",
      "Opening Canvas in default web browser.\n"
     ]
    }
   ],
   "source": [
    "user_item.show()"
   ]
  },
  {
   "cell_type": "code",
   "execution_count": 5,
   "metadata": {},
   "outputs": [
    {
     "data": {
      "text/html": [
       "<div style=\"max-height:1000px;max-width:1500px;overflow:auto;\"><table frame=\"box\" rules=\"cols\">\n",
       "    <tr>\n",
       "        <th style=\"padding-left: 1em; padding-right: 1em; text-align: center\">userID</th>\n",
       "        <th style=\"padding-left: 1em; padding-right: 1em; text-align: center\">itemID</th>\n",
       "    </tr>\n",
       "    <tr>\n",
       "        <td style=\"padding-left: 1em; padding-right: 1em; text-align: center; vertical-align: top\">45121</td>\n",
       "        <td style=\"padding-left: 1em; padding-right: 1em; text-align: center; vertical-align: top\">MSTAR004</td>\n",
       "    </tr>\n",
       "    <tr>\n",
       "        <td style=\"padding-left: 1em; padding-right: 1em; text-align: center; vertical-align: top\">45121</td>\n",
       "        <td style=\"padding-left: 1em; padding-right: 1em; text-align: center; vertical-align: top\">MSTAR006</td>\n",
       "    </tr>\n",
       "    <tr>\n",
       "        <td style=\"padding-left: 1em; padding-right: 1em; text-align: center; vertical-align: top\">45121</td>\n",
       "        <td style=\"padding-left: 1em; padding-right: 1em; text-align: center; vertical-align: top\">MSTAR001</td>\n",
       "    </tr>\n",
       "    <tr>\n",
       "        <td style=\"padding-left: 1em; padding-right: 1em; text-align: center; vertical-align: top\">47503</td>\n",
       "        <td style=\"padding-left: 1em; padding-right: 1em; text-align: center; vertical-align: top\">43</td>\n",
       "    </tr>\n",
       "    <tr>\n",
       "        <td style=\"padding-left: 1em; padding-right: 1em; text-align: center; vertical-align: top\">47503</td>\n",
       "        <td style=\"padding-left: 1em; padding-right: 1em; text-align: center; vertical-align: top\">151</td>\n",
       "    </tr>\n",
       "    <tr>\n",
       "        <td style=\"padding-left: 1em; padding-right: 1em; text-align: center; vertical-align: top\">47503</td>\n",
       "        <td style=\"padding-left: 1em; padding-right: 1em; text-align: center; vertical-align: top\">57</td>\n",
       "    </tr>\n",
       "    <tr>\n",
       "        <td style=\"padding-left: 1em; padding-right: 1em; text-align: center; vertical-align: top\">47503</td>\n",
       "        <td style=\"padding-left: 1em; padding-right: 1em; text-align: center; vertical-align: top\">2</td>\n",
       "    </tr>\n",
       "    <tr>\n",
       "        <td style=\"padding-left: 1em; padding-right: 1em; text-align: center; vertical-align: top\">47503</td>\n",
       "        <td style=\"padding-left: 1em; padding-right: 1em; text-align: center; vertical-align: top\">239</td>\n",
       "    </tr>\n",
       "    <tr>\n",
       "        <td style=\"padding-left: 1em; padding-right: 1em; text-align: center; vertical-align: top\">64165</td>\n",
       "        <td style=\"padding-left: 1em; padding-right: 1em; text-align: center; vertical-align: top\">tw_18_1</td>\n",
       "    </tr>\n",
       "    <tr>\n",
       "        <td style=\"padding-left: 1em; padding-right: 1em; text-align: center; vertical-align: top\">71141</td>\n",
       "        <td style=\"padding-left: 1em; padding-right: 1em; text-align: center; vertical-align: top\">CISLUCK1</td>\n",
       "    </tr>\n",
       "</table>\n",
       "[10 rows x 2 columns]<br/>\n",
       "</div>"
      ],
      "text/plain": [
       "Columns:\n",
       "\tuserID\tint\n",
       "\titemID\tstr\n",
       "\n",
       "Rows: 10\n",
       "\n",
       "Data:\n",
       "+--------+----------+\n",
       "| userID |  itemID  |\n",
       "+--------+----------+\n",
       "| 45121  | MSTAR004 |\n",
       "| 45121  | MSTAR006 |\n",
       "| 45121  | MSTAR001 |\n",
       "| 47503  |    43    |\n",
       "| 47503  |   151    |\n",
       "| 47503  |    57    |\n",
       "| 47503  |    2     |\n",
       "| 47503  |   239    |\n",
       "| 64165  | tw_18_1  |\n",
       "| 71141  | CISLUCK1 |\n",
       "+--------+----------+\n",
       "[10 rows x 2 columns]"
      ]
     },
     "execution_count": 5,
     "metadata": {},
     "output_type": "execute_result"
    }
   ],
   "source": [
    "user_item.head()"
   ]
  },
  {
   "cell_type": "code",
   "execution_count": 6,
   "metadata": {},
   "outputs": [
    {
     "data": {
      "text/html": [
       "<pre>Recsys training: model = item_similarity</pre>"
      ],
      "text/plain": [
       "Recsys training: model = item_similarity"
      ]
     },
     "metadata": {},
     "output_type": "display_data"
    },
    {
     "data": {
      "text/html": [
       "<pre>Preparing data set.</pre>"
      ],
      "text/plain": [
       "Preparing data set."
      ]
     },
     "metadata": {},
     "output_type": "display_data"
    },
    {
     "data": {
      "text/html": [
       "<pre>    Data has 5398 observations with 2891 users and 223 items.</pre>"
      ],
      "text/plain": [
       "    Data has 5398 observations with 2891 users and 223 items."
      ]
     },
     "metadata": {},
     "output_type": "display_data"
    },
    {
     "data": {
      "text/html": [
       "<pre>    Data prepared in: 0.014959s</pre>"
      ],
      "text/plain": [
       "    Data prepared in: 0.014959s"
      ]
     },
     "metadata": {},
     "output_type": "display_data"
    },
    {
     "data": {
      "text/html": [
       "<pre>Training model from provided data.</pre>"
      ],
      "text/plain": [
       "Training model from provided data."
      ]
     },
     "metadata": {},
     "output_type": "display_data"
    },
    {
     "data": {
      "text/html": [
       "<pre>Gathering per-item and per-user statistics.</pre>"
      ],
      "text/plain": [
       "Gathering per-item and per-user statistics."
      ]
     },
     "metadata": {},
     "output_type": "display_data"
    },
    {
     "data": {
      "text/html": [
       "<pre>+--------------------------------+------------+</pre>"
      ],
      "text/plain": [
       "+--------------------------------+------------+"
      ]
     },
     "metadata": {},
     "output_type": "display_data"
    },
    {
     "data": {
      "text/html": [
       "<pre>| Elapsed Time (Item Statistics) | % Complete |</pre>"
      ],
      "text/plain": [
       "| Elapsed Time (Item Statistics) | % Complete |"
      ]
     },
     "metadata": {},
     "output_type": "display_data"
    },
    {
     "data": {
      "text/html": [
       "<pre>+--------------------------------+------------+</pre>"
      ],
      "text/plain": [
       "+--------------------------------+------------+"
      ]
     },
     "metadata": {},
     "output_type": "display_data"
    },
    {
     "data": {
      "text/html": [
       "<pre>| 0us                            | 34.5       |</pre>"
      ],
      "text/plain": [
       "| 0us                            | 34.5       |"
      ]
     },
     "metadata": {},
     "output_type": "display_data"
    },
    {
     "data": {
      "text/html": [
       "<pre>| 0us                            | 100        |</pre>"
      ],
      "text/plain": [
       "| 0us                            | 100        |"
      ]
     },
     "metadata": {},
     "output_type": "display_data"
    },
    {
     "data": {
      "text/html": [
       "<pre>+--------------------------------+------------+</pre>"
      ],
      "text/plain": [
       "+--------------------------------+------------+"
      ]
     },
     "metadata": {},
     "output_type": "display_data"
    },
    {
     "data": {
      "text/html": [
       "<pre>Setting up lookup tables.</pre>"
      ],
      "text/plain": [
       "Setting up lookup tables."
      ]
     },
     "metadata": {},
     "output_type": "display_data"
    },
    {
     "data": {
      "text/html": [
       "<pre>Processing data in one pass using dense lookup tables.</pre>"
      ],
      "text/plain": [
       "Processing data in one pass using dense lookup tables."
      ]
     },
     "metadata": {},
     "output_type": "display_data"
    },
    {
     "data": {
      "text/html": [
       "<pre>+-------------------------------------+------------------+-----------------+</pre>"
      ],
      "text/plain": [
       "+-------------------------------------+------------------+-----------------+"
      ]
     },
     "metadata": {},
     "output_type": "display_data"
    },
    {
     "data": {
      "text/html": [
       "<pre>| Elapsed Time (Constructing Lookups) | Total % Complete | Items Processed |</pre>"
      ],
      "text/plain": [
       "| Elapsed Time (Constructing Lookups) | Total % Complete | Items Processed |"
      ]
     },
     "metadata": {},
     "output_type": "display_data"
    },
    {
     "data": {
      "text/html": [
       "<pre>+-------------------------------------+------------------+-----------------+</pre>"
      ],
      "text/plain": [
       "+-------------------------------------+------------------+-----------------+"
      ]
     },
     "metadata": {},
     "output_type": "display_data"
    },
    {
     "data": {
      "text/html": [
       "<pre>| 998us                               | 0                | 0               |</pre>"
      ],
      "text/plain": [
       "| 998us                               | 0                | 0               |"
      ]
     },
     "metadata": {},
     "output_type": "display_data"
    },
    {
     "data": {
      "text/html": [
       "<pre>| 1.995ms                             | 100              | 223             |</pre>"
      ],
      "text/plain": [
       "| 1.995ms                             | 100              | 223             |"
      ]
     },
     "metadata": {},
     "output_type": "display_data"
    },
    {
     "data": {
      "text/html": [
       "<pre>+-------------------------------------+------------------+-----------------+</pre>"
      ],
      "text/plain": [
       "+-------------------------------------+------------------+-----------------+"
      ]
     },
     "metadata": {},
     "output_type": "display_data"
    },
    {
     "data": {
      "text/html": [
       "<pre>Finalizing lookup tables.</pre>"
      ],
      "text/plain": [
       "Finalizing lookup tables."
      ]
     },
     "metadata": {},
     "output_type": "display_data"
    },
    {
     "data": {
      "text/html": [
       "<pre>Generating candidate set for working with new users.</pre>"
      ],
      "text/plain": [
       "Generating candidate set for working with new users."
      ]
     },
     "metadata": {},
     "output_type": "display_data"
    },
    {
     "data": {
      "text/html": [
       "<pre>Finished training in 1.00332s</pre>"
      ],
      "text/plain": [
       "Finished training in 1.00332s"
      ]
     },
     "metadata": {},
     "output_type": "display_data"
    }
   ],
   "source": [
    "model = gl.recommender.item_similarity_recommender.create(user_item, user_id = 'userID', item_id = 'itemID')"
   ]
  },
  {
   "cell_type": "code",
   "execution_count": 7,
   "metadata": {},
   "outputs": [
    {
     "data": {
      "text/plain": [
       "View object\n",
       "\n",
       "URI: \t\thttp://localhost:32214/view/ea84e716-67fb-426f-99fb-379a5e22c4d4\n",
       "HTML: \t\t\n",
       "<gl-recommender-explore\n",
       "    uri=\"http://localhost:32214/view/434fdee8-30d5-4b92-8478-1dfa95782b64\"\n",
       "    api_key=\"\"\n",
       "/>\n",
       "        "
      ]
     },
     "execution_count": 7,
     "metadata": {},
     "output_type": "execute_result"
    }
   ],
   "source": [
    "model.views.explore().show()"
   ]
  },
  {
   "cell_type": "code",
   "execution_count": 8,
   "metadata": {},
   "outputs": [],
   "source": [
    "userlist = []\n",
    "dirpath = 'C:/Vidit/PhD/RA Work/KZ - RA/Gaming Project/data/Files'\n",
    "with open(dirpath + \"/selected_user.txt\") as sufile:  # pull the randomly selected users\n",
    "    for user in sufile:\n",
    "        userlist.append(user.strip())"
   ]
  },
  {
   "cell_type": "code",
   "execution_count": 9,
   "metadata": {},
   "outputs": [
    {
     "data": {
      "text/html": [
       "<pre>recommendations finished on 1000/10000 queries. users per second: 167140</pre>"
      ],
      "text/plain": [
       "recommendations finished on 1000/10000 queries. users per second: 167140"
      ]
     },
     "metadata": {},
     "output_type": "display_data"
    },
    {
     "data": {
      "text/html": [
       "<pre>recommendations finished on 2000/10000 queries. users per second: 182315</pre>"
      ],
      "text/plain": [
       "recommendations finished on 2000/10000 queries. users per second: 182315"
      ]
     },
     "metadata": {},
     "output_type": "display_data"
    },
    {
     "data": {
      "text/html": [
       "<pre>recommendations finished on 3000/10000 queries. users per second: 176949</pre>"
      ],
      "text/plain": [
       "recommendations finished on 3000/10000 queries. users per second: 176949"
      ]
     },
     "metadata": {},
     "output_type": "display_data"
    },
    {
     "data": {
      "text/html": [
       "<pre>recommendations finished on 4000/10000 queries. users per second: 182307</pre>"
      ],
      "text/plain": [
       "recommendations finished on 4000/10000 queries. users per second: 182307"
      ]
     },
     "metadata": {},
     "output_type": "display_data"
    },
    {
     "data": {
      "text/html": [
       "<pre>recommendations finished on 5000/10000 queries. users per second: 179051</pre>"
      ],
      "text/plain": [
       "recommendations finished on 5000/10000 queries. users per second: 179051"
      ]
     },
     "metadata": {},
     "output_type": "display_data"
    },
    {
     "data": {
      "text/html": [
       "<pre>recommendations finished on 6000/10000 queries. users per second: 143236</pre>"
      ],
      "text/plain": [
       "recommendations finished on 6000/10000 queries. users per second: 143236"
      ]
     },
     "metadata": {},
     "output_type": "display_data"
    },
    {
     "data": {
      "text/html": [
       "<pre>recommendations finished on 7000/10000 queries. users per second: 134976</pre>"
      ],
      "text/plain": [
       "recommendations finished on 7000/10000 queries. users per second: 134976"
      ]
     },
     "metadata": {},
     "output_type": "display_data"
    },
    {
     "data": {
      "text/html": [
       "<pre>recommendations finished on 8000/10000 queries. users per second: 119723</pre>"
      ],
      "text/plain": [
       "recommendations finished on 8000/10000 queries. users per second: 119723"
      ]
     },
     "metadata": {},
     "output_type": "display_data"
    },
    {
     "data": {
      "text/html": [
       "<pre>recommendations finished on 9000/10000 queries. users per second: 117195</pre>"
      ],
      "text/plain": [
       "recommendations finished on 9000/10000 queries. users per second: 117195"
      ]
     },
     "metadata": {},
     "output_type": "display_data"
    },
    {
     "data": {
      "text/html": [
       "<pre>recommendations finished on 10000/10000 queries. users per second: 112658</pre>"
      ],
      "text/plain": [
       "recommendations finished on 10000/10000 queries. users per second: 112658"
      ]
     },
     "metadata": {},
     "output_type": "display_data"
    },
    {
     "data": {
      "text/html": [
       "<pre>recommendations finished on 1000/10000 queries. users per second: 143266</pre>"
      ],
      "text/plain": [
       "recommendations finished on 1000/10000 queries. users per second: 143266"
      ]
     },
     "metadata": {},
     "output_type": "display_data"
    },
    {
     "data": {
      "text/html": [
       "<pre>recommendations finished on 2000/10000 queries. users per second: 143256</pre>"
      ],
      "text/plain": [
       "recommendations finished on 2000/10000 queries. users per second: 143256"
      ]
     },
     "metadata": {},
     "output_type": "display_data"
    },
    {
     "data": {
      "text/html": [
       "<pre>recommendations finished on 3000/10000 queries. users per second: 143246</pre>"
      ],
      "text/plain": [
       "recommendations finished on 3000/10000 queries. users per second: 143246"
      ]
     },
     "metadata": {},
     "output_type": "display_data"
    },
    {
     "data": {
      "text/html": [
       "<pre>recommendations finished on 4000/10000 queries. users per second: 148550</pre>"
      ],
      "text/plain": [
       "recommendations finished on 4000/10000 queries. users per second: 148550"
      ]
     },
     "metadata": {},
     "output_type": "display_data"
    },
    {
     "data": {
      "text/html": [
       "<pre>recommendations finished on 5000/10000 queries. users per second: 139260</pre>"
      ],
      "text/plain": [
       "recommendations finished on 5000/10000 queries. users per second: 139260"
      ]
     },
     "metadata": {},
     "output_type": "display_data"
    },
    {
     "data": {
      "text/html": [
       "<pre>recommendations finished on 6000/10000 queries. users per second: 130784</pre>"
      ],
      "text/plain": [
       "recommendations finished on 6000/10000 queries. users per second: 130784"
      ]
     },
     "metadata": {},
     "output_type": "display_data"
    },
    {
     "data": {
      "text/html": [
       "<pre>recommendations finished on 7000/10000 queries. users per second: 111408</pre>"
      ],
      "text/plain": [
       "recommendations finished on 7000/10000 queries. users per second: 111408"
      ]
     },
     "metadata": {},
     "output_type": "display_data"
    },
    {
     "data": {
      "text/html": [
       "<pre>recommendations finished on 8000/10000 queries. users per second: 111410</pre>"
      ],
      "text/plain": [
       "recommendations finished on 8000/10000 queries. users per second: 111410"
      ]
     },
     "metadata": {},
     "output_type": "display_data"
    },
    {
     "data": {
      "text/html": [
       "<pre>recommendations finished on 9000/10000 queries. users per second: 108725</pre>"
      ],
      "text/plain": [
       "recommendations finished on 9000/10000 queries. users per second: 108725"
      ]
     },
     "metadata": {},
     "output_type": "display_data"
    },
    {
     "data": {
      "text/html": [
       "<pre>recommendations finished on 10000/10000 queries. users per second: 99274.3</pre>"
      ],
      "text/plain": [
       "recommendations finished on 10000/10000 queries. users per second: 99274.3"
      ]
     },
     "metadata": {},
     "output_type": "display_data"
    },
    {
     "data": {
      "text/html": [
       "<pre>recommendations finished on 1000/10000 queries. users per second: 167168</pre>"
      ],
      "text/plain": [
       "recommendations finished on 1000/10000 queries. users per second: 167168"
      ]
     },
     "metadata": {},
     "output_type": "display_data"
    },
    {
     "data": {
      "text/html": [
       "<pre>recommendations finished on 2000/10000 queries. users per second: 154285</pre>"
      ],
      "text/plain": [
       "recommendations finished on 2000/10000 queries. users per second: 154285"
      ]
     },
     "metadata": {},
     "output_type": "display_data"
    },
    {
     "data": {
      "text/html": [
       "<pre>recommendations finished on 3000/10000 queries. users per second: 150421</pre>"
      ],
      "text/plain": [
       "recommendations finished on 3000/10000 queries. users per second: 150421"
      ]
     },
     "metadata": {},
     "output_type": "display_data"
    },
    {
     "data": {
      "text/html": [
       "<pre>recommendations finished on 4000/10000 queries. users per second: 154267</pre>"
      ],
      "text/plain": [
       "recommendations finished on 4000/10000 queries. users per second: 154267"
      ]
     },
     "metadata": {},
     "output_type": "display_data"
    },
    {
     "data": {
      "text/html": [
       "<pre>recommendations finished on 5000/10000 queries. users per second: 131937</pre>"
      ],
      "text/plain": [
       "recommendations finished on 5000/10000 queries. users per second: 131937"
      ]
     },
     "metadata": {},
     "output_type": "display_data"
    },
    {
     "data": {
      "text/html": [
       "<pre>recommendations finished on 6000/10000 queries. users per second: 125339</pre>"
      ],
      "text/plain": [
       "recommendations finished on 6000/10000 queries. users per second: 125339"
      ]
     },
     "metadata": {},
     "output_type": "display_data"
    },
    {
     "data": {
      "text/html": [
       "<pre>recommendations finished on 7000/10000 queries. users per second: 123140</pre>"
      ],
      "text/plain": [
       "recommendations finished on 7000/10000 queries. users per second: 123140"
      ]
     },
     "metadata": {},
     "output_type": "display_data"
    },
    {
     "data": {
      "text/html": [
       "<pre>recommendations finished on 8000/10000 queries. users per second: 123409</pre>"
      ],
      "text/plain": [
       "recommendations finished on 8000/10000 queries. users per second: 123409"
      ]
     },
     "metadata": {},
     "output_type": "display_data"
    },
    {
     "data": {
      "text/html": [
       "<pre>recommendations finished on 9000/10000 queries. users per second: 115696</pre>"
      ],
      "text/plain": [
       "recommendations finished on 9000/10000 queries. users per second: 115696"
      ]
     },
     "metadata": {},
     "output_type": "display_data"
    },
    {
     "data": {
      "text/html": [
       "<pre>recommendations finished on 10000/10000 queries. users per second: 90331.8</pre>"
      ],
      "text/plain": [
       "recommendations finished on 10000/10000 queries. users per second: 90331.8"
      ]
     },
     "metadata": {},
     "output_type": "display_data"
    },
    {
     "data": {
      "text/html": [
       "<pre>recommendations finished on 1000/10000 queries. users per second: 125345</pre>"
      ],
      "text/plain": [
       "recommendations finished on 1000/10000 queries. users per second: 125345"
      ]
     },
     "metadata": {},
     "output_type": "display_data"
    },
    {
     "data": {
      "text/html": [
       "<pre>recommendations finished on 2000/10000 queries. users per second: 133699</pre>"
      ],
      "text/plain": [
       "recommendations finished on 2000/10000 queries. users per second: 133699"
      ]
     },
     "metadata": {},
     "output_type": "display_data"
    },
    {
     "data": {
      "text/html": [
       "<pre>recommendations finished on 3000/10000 queries. users per second: 136730</pre>"
      ],
      "text/plain": [
       "recommendations finished on 3000/10000 queries. users per second: 136730"
      ]
     },
     "metadata": {},
     "output_type": "display_data"
    },
    {
     "data": {
      "text/html": [
       "<pre>recommendations finished on 4000/10000 queries. users per second: 111411</pre>"
      ],
      "text/plain": [
       "recommendations finished on 4000/10000 queries. users per second: 111411"
      ]
     },
     "metadata": {},
     "output_type": "display_data"
    },
    {
     "data": {
      "text/html": [
       "<pre>recommendations finished on 5000/10000 queries. users per second: 92840.2</pre>"
      ],
      "text/plain": [
       "recommendations finished on 5000/10000 queries. users per second: 92840.2"
      ]
     },
     "metadata": {},
     "output_type": "display_data"
    },
    {
     "data": {
      "text/html": [
       "<pre>recommendations finished on 6000/10000 queries. users per second: 94001.2</pre>"
      ],
      "text/plain": [
       "recommendations finished on 6000/10000 queries. users per second: 94001.2"
      ]
     },
     "metadata": {},
     "output_type": "display_data"
    },
    {
     "data": {
      "text/html": [
       "<pre>recommendations finished on 7000/10000 queries. users per second: 89983.5</pre>"
      ],
      "text/plain": [
       "recommendations finished on 7000/10000 queries. users per second: 89983.5"
      ]
     },
     "metadata": {},
     "output_type": "display_data"
    },
    {
     "data": {
      "text/html": [
       "<pre>recommendations finished on 8000/10000 queries. users per second: 89126.6</pre>"
      ],
      "text/plain": [
       "recommendations finished on 8000/10000 queries. users per second: 89126.6"
      ]
     },
     "metadata": {},
     "output_type": "display_data"
    },
    {
     "data": {
      "text/html": [
       "<pre>recommendations finished on 9000/10000 queries. users per second: 75832.3</pre>"
      ],
      "text/plain": [
       "recommendations finished on 9000/10000 queries. users per second: 75832.3"
      ]
     },
     "metadata": {},
     "output_type": "display_data"
    },
    {
     "data": {
      "text/html": [
       "<pre>recommendations finished on 10000/10000 queries. users per second: 73187.7</pre>"
      ],
      "text/plain": [
       "recommendations finished on 10000/10000 queries. users per second: 73187.7"
      ]
     },
     "metadata": {},
     "output_type": "display_data"
    }
   ],
   "source": [
    "recs_top_5_user_model = model.recommend(users = userlist, k = 5)\n",
    "recs_top_10_user_model = model.recommend(users = userlist, k = 10)\n",
    "recs_top_15_user_model = model.recommend(users = userlist, k = 15)\n",
    "recs_top_20_user_model = model.recommend(users = userlist, k = 20)"
   ]
  },
  {
   "cell_type": "code",
   "execution_count": 10,
   "metadata": {},
   "outputs": [],
   "source": [
    "sf_top_5 = recs_top_5_user_model.select_columns(['userID', 'itemID'])\n",
    "sf_top_10 = recs_top_10_user_model.select_columns(['userID', 'itemID'])\n",
    "sf_top_15 = recs_top_15_user_model.select_columns(['userID', 'itemID'])\n",
    "sf_top_20 = recs_top_20_user_model.select_columns(['userID', 'itemID'])"
   ]
  },
  {
   "cell_type": "code",
   "execution_count": 11,
   "metadata": {},
   "outputs": [],
   "source": [
    "import pandas\n",
    "p_top_5 = sf_top_5.to_dataframe()\n",
    "p_top_10 = sf_top_10.to_dataframe()\n",
    "p_top_15 = sf_top_15.to_dataframe()\n",
    "p_top_20 = sf_top_20.to_dataframe()"
   ]
  },
  {
   "cell_type": "code",
   "execution_count": 12,
   "metadata": {},
   "outputs": [],
   "source": [
    "path = 'C:/Vidit/PhD/RA Work/KZ - RA/Gaming Project/data/User-Item Recommender System/data'\n",
    "top_5 = path + '/user_tail_top_5.txt'\n",
    "top_10 = path + '/user_tail_top_10.txt'\n",
    "top_15 = path + '/user_tail_top_15.txt'\n",
    "top_20 = path + '/user_tail_top_20.txt'\n",
    "p_top_5.to_csv(top_5, header=None, index=None, sep=' ')\n",
    "p_top_10.to_csv(top_10, header=None, index=None, sep=' ')\n",
    "p_top_15.to_csv(top_15, header=None, index=None, sep=' ')\n",
    "p_top_20.to_csv(top_20, header=None, index=None, sep=' ')"
   ]
  },
  {
   "cell_type": "code",
   "execution_count": 13,
   "metadata": {},
   "outputs": [
    {
     "name": "stdout",
     "output_type": "stream",
     "text": [
      "No of users who bought items in first 2 days of test period: 2700\n",
      "No of users who bought items in first 4 days of test period: 4999\n",
      "No of users who bought items in first 10 days of test period: 10302\n"
     ]
    }
   ],
   "source": [
    "from __future__ import division\n",
    "dirpath = 'C:/Vidit/PhD/RA Work/KZ - RA/Gaming Project/data/Files'\n",
    "path = 'C:/Vidit/PhD/RA Work/KZ - RA/Gaming Project/data/User-Item Recommender System/data'\n",
    "test2days_user_item = dict()\n",
    "test4days_user_item = dict()\n",
    "test10days_user_item = dict()\n",
    "user_top_5_recitems = dict()\n",
    "user_top_10_recitems = dict()\n",
    "user_top_15_recitems = dict()\n",
    "user_top_20_recitems = dict()\n",
    "\n",
    "with open(dirpath + \"/test2days_item_user.txt\") as iufile:  # list of all items purchased by users in 2 days of testing period\n",
    "    for line in iufile:\n",
    "        toks = line.strip().split(\"\\t\")\n",
    "        if len(toks) == 2:\n",
    "            i, u = toks[0], toks[1]\n",
    "            if u not in test2days_user_item:\n",
    "                test2days_user_item[u] = []\n",
    "            test2days_user_item[u].append(i)   # {uid1: [itemid1,itemid2,...], uid2: [itemd2,itemd3,....]} = dict of list of items purchased by each user\n",
    "print(\"No of users who bought items in first 2 days of test period:\", len(test2days_user_item))\n",
    "        \n",
    "with open(dirpath + \"/test4days_item_user.txt\") as iufile:  # list of all items purchased by users in 4 days of testing period\n",
    "    for line in iufile:\n",
    "        toks = line.strip().split(\"\\t\")\n",
    "        if len(toks) == 2:\n",
    "            i, u = toks[0], toks[1]\n",
    "            if u not in test4days_user_item:\n",
    "                test4days_user_item[u] = []\n",
    "            test4days_user_item[u].append(i)   # {uid1: [itemid1,itemid2,...], uid2: [itemd2,itemd3,....]} = dict of list of items purchased by each user\n",
    "print(\"No of users who bought items in first 4 days of test period:\", len(test4days_user_item))\n",
    "        \n",
    "with open(dirpath + \"/test10days_item_user.txt\") as iufile:  # list of all items purchased by users in 10 days of testing period\n",
    "    for line in iufile:\n",
    "        toks = line.strip().split(\"\\t\")\n",
    "        if len(toks) == 2:\n",
    "            i, u = toks[0], toks[1]            \n",
    "            if u not in test10days_user_item:\n",
    "                test10days_user_item[u] = []\n",
    "            test10days_user_item[u].append(i)   # {uid1: [itemid1,itemid2,...], uid2: [itemd2,itemd3,....]} = dict of list of items purchased by each user\n",
    "print(\"No of users who bought items in first 10 days of test period:\", len(test10days_user_item))\n",
    "\n",
    "with open(path + '/user_tail_top_5.txt') as uifile:  # list of recommended items\n",
    "    for line in uifile:\n",
    "        toks = line.strip().split(' ')\n",
    "        if len(toks) == 2:\n",
    "            u, i = toks[0], toks[1]\n",
    "            if u not in user_top_5_recitems:\n",
    "                user_top_5_recitems[u] = []\n",
    "            user_top_5_recitems[u].append(i)\n",
    "            \n",
    "with open(path + '/user_tail_top_10.txt') as uifile:  # list of recommended items\n",
    "    for line in uifile:\n",
    "        toks = line.strip().split(' ')\n",
    "        if len(toks) == 2:\n",
    "            u, i = toks[0], toks[1]\n",
    "            if u not in user_top_10_recitems:\n",
    "                user_top_10_recitems[u] = []\n",
    "            user_top_10_recitems[u].append(i) \n",
    "            \n",
    "with open(path + '/user_tail_top_15.txt') as uifile:  # list of recommended items\n",
    "    for line in uifile:\n",
    "        toks = line.strip().split(' ')\n",
    "        if len(toks) == 2:\n",
    "            u, i = toks[0], toks[1]\n",
    "            if u not in user_top_15_recitems:\n",
    "                user_top_15_recitems[u] = []\n",
    "            user_top_15_recitems[u].append(i)\n",
    "            \n",
    "with open(path + '/user_tail_top_20.txt') as uifile:  # list of recommended items\n",
    "    for line in uifile:\n",
    "        toks = line.strip().split(' ')\n",
    "        if len(toks) == 2:\n",
    "            u, i = toks[0], toks[1]\n",
    "            if u not in user_top_20_recitems:\n",
    "                user_top_20_recitems[u] = []\n",
    "            user_top_20_recitems[u].append(i)\n",
    "            \n",
    "def get_accuracy_score(user_recitems):\n",
    "    count_2days = count_4days = count_10days = 0\n",
    "    for user in user_recitems:\n",
    "        recommended_items = set(user_recitems.get(user,[]))\n",
    "        new_items_2days = set(test2days_user_item.get(user,[]))\n",
    "        new_items_4days = set(test4days_user_item.get(user,[]))\n",
    "        new_items_10days = set(test10days_user_item.get(user,[]))\n",
    "        if len(recommended_items & new_items_2days) > 0:\n",
    "            count_2days += 1\n",
    "        if len(recommended_items & new_items_4days) > 0:\n",
    "            count_4days += 1\n",
    "        if len(recommended_items & new_items_10days) > 0:\n",
    "            count_10days += 1\n",
    "    print(\"For a 2-day testing period:\", count_2days/10000)\n",
    "    print(\"For a 4-day testing period:\", count_4days/10000)\n",
    "    print(\"For a 10-day testing period:\", count_10days/10000)\n"
   ]
  },
  {
   "cell_type": "code",
   "execution_count": 14,
   "metadata": {},
   "outputs": [
    {
     "name": "stdout",
     "output_type": "stream",
     "text": [
      "\n",
      "Accuracy for Tail Items\n",
      "\n",
      "Accuracy for User-Item Collaborative Filtering Recommender System based on Top-5 similar users\n",
      "For a 2-day testing period: 0.0005\n",
      "For a 4-day testing period: 0.0009\n",
      "For a 10-day testing period: 0.0021\n",
      "\n",
      "Accuracy for User-Item Collaborative Filtering Recommender System based on Top-10 similar users\n",
      "For a 2-day testing period: 0.0006\n",
      "For a 4-day testing period: 0.001\n",
      "For a 10-day testing period: 0.0023\n",
      "\n",
      "Accuracy for User-Item Collaborative Filtering Recommender System based on Top-15 similar users\n",
      "For a 2-day testing period: 0.0006\n",
      "For a 4-day testing period: 0.0011\n",
      "For a 10-day testing period: 0.0024\n",
      "\n",
      "Accuracy for User-Item Collaborative Filtering Recommender System based on Top-20 similar users\n",
      "For a 2-day testing period: 0.0007\n",
      "For a 4-day testing period: 0.0012\n",
      "For a 10-day testing period: 0.0025\n"
     ]
    }
   ],
   "source": [
    "print(\"\\nAccuracy for Tail Items\")\n",
    "print(\"\\nAccuracy for User-Item Collaborative Filtering Recommender System based on Top-5 similar users\")\n",
    "get_accuracy_score (user_recitems = user_top_5_recitems)\n",
    "print(\"\\nAccuracy for User-Item Collaborative Filtering Recommender System based on Top-10 similar users\")\n",
    "get_accuracy_score (user_recitems = user_top_10_recitems)\n",
    "print(\"\\nAccuracy for User-Item Collaborative Filtering Recommender System based on Top-15 similar users\")\n",
    "get_accuracy_score (user_recitems = user_top_15_recitems)\n",
    "print(\"\\nAccuracy for User-Item Collaborative Filtering Recommender System based on Top-20 similar users\")\n",
    "get_accuracy_score (user_recitems = user_top_20_recitems)"
   ]
  },
  {
   "cell_type": "code",
   "execution_count": null,
   "metadata": {},
   "outputs": [],
   "source": [
    "import sys\n",
    "import os\n",
    "import random\n",
    "import numpy as np\n",
    "import graphlab as gl\n",
    "import pandas as pd\n",
    "from collections import Counter\n",
    "from __future__ import division\n",
    "from __future__ import print_function\n",
    "\n",
    "class Recommend_Collaborative_Filtering:\n",
    "    def __init__(self):\n",
    "        self.id_user = dict()\n",
    "        self.user_id = dict()\n",
    "        self.id_game = dict()\n",
    "        self.game_id = dict()\n",
    "        self.id_item = dict()\n",
    "        self.item_id = dict()\n",
    "        self.item_user = dict()\n",
    "        self.user_item = dict()\n",
    "        self.game_user = dict()\n",
    "        self.user_game = dict()\n",
    "        self.game_item = dict()\n",
    "        self.item_game = dict()\n",
    "        self.game_userlist = dict()\n",
    "        self.user_gamelist = dict()\n",
    "        self.game_itemlist = dict()\n",
    "        self.item_gamelist = dict()\n",
    "        self.user_itemlist = dict()\n",
    "        self.item_userlist = dict()\n",
    "        self.test2days_item_user = dict()\n",
    "        self.test2days_user_item = dict()\n",
    "        self.test4days_item_user = dict()\n",
    "        self.test4days_user_item = dict()\n",
    "        self.test10days_item_user = dict()\n",
    "        self.test10days_user_item = dict()\n",
    "        self.userlist = []\n",
    "        self.star_items = []\n",
    "        self.mid_items = []\n",
    "        self.tail_items = []\n",
    "\n",
    "    def read_data(self, dirpath):\n",
    "        with open(dirpath + \"/id_user.txt\") as udictfile:\n",
    "            for line in udictfile:\n",
    "                toks = line.strip().split(\"\\t\")\n",
    "                if len(toks) == 2:\n",
    "                    self.id_user[toks[0]] = toks[1].replace(\" \", \"\")    # {uid1: User1, uid2: User2....}\n",
    "                    self.user_id[toks[1]] = toks[0].replace(\" \", \"\")    # {User1: uid1, User2: uid2....}\n",
    "\n",
    "        print(\"#users\", len(self.id_user))\n",
    "\n",
    "        with open(dirpath + \"/id_game.txt\") as gdictfile:\n",
    "            for line in gdictfile:\n",
    "                toks = line.strip().split(\"\\t\")\n",
    "                if len(toks) == 2:\n",
    "                    self.id_game[toks[0]] = toks[1].replace(\" \", \"\")    # {33302: LoLsg, 33305: LoLmy....}\n",
    "                    self.game_id[toks[1]] = toks[0].replace(\" \", \"\")    # {LoLsg: 33302, LoLmy: 33305....}\n",
    "\n",
    "        print(\"#games\", len(self.id_game))\n",
    "        \n",
    "        with open(dirpath + \"/id_item.txt\") as idictfile:\n",
    "            for line in idictfile:\n",
    "                toks = line.strip().split(\"\\t\")\n",
    "                if len(toks) == 2:\n",
    "                    self.id_item[toks[0]] = toks[1].replace(\" \", \"\")    # {itemid1: Item1, itemid2: Item2....}\n",
    "                    self.item_id[toks[1]] = toks[0].replace(\" \", \"\")    # {Item1: itemid1, Item2: itemid2....}\n",
    "\n",
    "        print(\"#items\", len(self.id_item)) # comprehensive list of items\n",
    "\n",
    "        with open(dirpath + \"/game_user.txt\") as gufile:  # data pulled from user game activity for 20 days\n",
    "            for line in gufile:\n",
    "                toks = line.strip().split(\"\\t\")\n",
    "                if len(toks) == 2:\n",
    "                    g, u = toks[0], toks[1]\n",
    "                    if g not in self.game_user:\n",
    "                        self.game_user[g] = []\n",
    "                    self.game_user[g].append(u)   # {gameid1: [uid1,uid2,...], gameid2: [uid2,uid3,....]} = dict of list of users playing games\n",
    "                    if u not in self.user_game:\n",
    "                        self.user_game[u] = []\n",
    "                    self.user_game[u].append(g)   # {uid1: [gameid1,gameid2,...], uid2: [gameid2,gameid3,....]} = dict of list of games played by each user\n",
    "        \n",
    "        \n",
    "        with open(dirpath + \"/item_user.txt\") as iufile:  # list of all items purchased by users\n",
    "            for line in iufile:\n",
    "                toks = line.strip().split(\"\\t\")\n",
    "                if len(toks) == 2:\n",
    "                    i, u = toks[0], toks[1]\n",
    "                    if i not in self.item_user:\n",
    "                        self.item_user[i] = []\n",
    "                    self.item_user[i].append(u)   # {itemid1: [uid1,uid2,...], itemid2: [uid2,uid3,....]} = dict of list of users purchasing each item \n",
    "                    if u not in self.user_item:\n",
    "                        self.user_item[u] = []\n",
    "                    self.user_item[u].append(i)   # {uid1: [itemid1,itemid2,...], uid2: [itemd2,itemd3,....]} = dict of list of items purchased by each user\n",
    "        \n",
    "        \n",
    "        with open(dirpath + \"/item_game.txt\") as igfile:  # list of all in-game items\n",
    "            for line in igfile:\n",
    "                toks = line.strip().split(\"\\t\")\n",
    "                if len(toks) == 2:\n",
    "                    i, g = toks[0], toks[1]\n",
    "                    if i not in self.item_game:\n",
    "                        self.item_game[i] = []  \n",
    "                    self.item_game[i].append(g) # {itemid1: [gameid1,gameid2,...], itemid2: [gameid2,gameid3,....]} = list of items that got recommended. Every item can be in multiple games\n",
    "                    if g not in self.game_item:\n",
    "                        self.game_item[g] = []\n",
    "                    self.game_item[g].append(i) # {gameid1: [itemid1,itemid2,...], gameid2: [itemd2,itemd3,....]} = list of items available in-game for purchase\n",
    "        \n",
    "        with open(dirpath + \"/test2days_item_user.txt\") as iufile:  # list of all items purchased by users in 2 days of testing period\n",
    "            for line in iufile:\n",
    "                toks = line.strip().split(\"\\t\")\n",
    "                if len(toks) == 2:\n",
    "                    i, u = toks[0], toks[1]\n",
    "                    if i not in self.test2days_item_user:\n",
    "                        self.test2days_item_user[i] = []\n",
    "                    self.test2days_item_user[i].append(u)   # {itemid1: [uid1,uid2,...], itemid2: [uid2,uid3,....]} = dict of list of users purchasing each item \n",
    "                    if u not in self.test2days_user_item:\n",
    "                        self.test2days_user_item[u] = []\n",
    "                    self.test2days_user_item[u].append(i)   # {uid1: [itemid1,itemid2,...], uid2: [itemd2,itemd3,....]} = dict of list of items purchased by each user\n",
    "        print(\"No of users who bought items in first 2 days of test period:\", len(self.test2days_user_item))\n",
    "        \n",
    "        with open(dirpath + \"/test4days_item_user.txt\") as iufile:  # list of all items purchased by users in 4 days of testing period\n",
    "            for line in iufile:\n",
    "                toks = line.strip().split(\"\\t\")\n",
    "                if len(toks) == 2:\n",
    "                    i, u = toks[0], toks[1]\n",
    "                    if i not in self.test4days_item_user:\n",
    "                        self.test4days_item_user[i] = []\n",
    "                    self.test4days_item_user[i].append(u)   # {itemid1: [uid1,uid2,...], itemid2: [uid2,uid3,....]} = dict of list of users purchasing each item \n",
    "                    if u not in self.test4days_user_item:\n",
    "                        self.test4days_user_item[u] = []\n",
    "                    self.test4days_user_item[u].append(i)   # {uid1: [itemid1,itemid2,...], uid2: [itemd2,itemd3,....]} = dict of list of items purchased by each user\n",
    "        print(\"No of users who bought items in first 4 days of test period:\", len(self.test4days_user_item))\n",
    "        \n",
    "        with open(dirpath + \"/test10days_item_user.txt\") as iufile:  # list of all items purchased by users in 10 days of testing period\n",
    "            for line in iufile:\n",
    "                toks = line.strip().split(\"\\t\")\n",
    "                if len(toks) == 2:\n",
    "                    i, u = toks[0], toks[1]\n",
    "                    if i not in self.test10days_item_user:\n",
    "                        self.test10days_item_user[i] = []\n",
    "                    self.test10days_item_user[i].append(u)   # {itemid1: [uid1,uid2,...], itemid2: [uid2,uid3,....]} = dict of list of users purchasing each item \n",
    "                    if u not in self.test10days_user_item:\n",
    "                        self.test10days_user_item[u] = []\n",
    "                    self.test10days_user_item[u].append(i)   # {uid1: [itemid1,itemid2,...], uid2: [itemd2,itemd3,....]} = dict of list of items purchased by each user\n",
    "        print(\"No of users who bought items in first 10 days of test period:\", len(self.test10days_user_item))\n",
    "        \n",
    "        with open(dirpath + \"/selected_user.txt\") as sufile:  # pull the randomly selected users\n",
    "            for user in sufile:\n",
    "                self.userlist.append(user.strip())\n",
    "                            \n",
    "    def create_cluster_files(self, cluster_items, flag):\n",
    "        gl.product_key.set_product_key('1811-F618-7371-23C4-6644-5DB9-A97C-F5C8')\n",
    "        dirpath = 'C:/Vidit/PhD/RA Work/KZ - RA/Gaming Project/data/User-Item Recommender System/data'\n",
    "        if (flag == 'S'):\n",
    "            user_item_file = dirpath + '/star_user_item.txt'\n",
    "        if (flag == 'M'):\n",
    "            user_item_file = dirpath + '/mid_user_item.txt'\n",
    "        if (flag == 'T'):\n",
    "            user_item_file = dirpath + '/tail_user_item.txt'\n",
    "        with open(user_item_file,'w') as f:\n",
    "            f.write(\"userID\" + \"\\t\" + \"itemID\" + \"\\n\")\n",
    "            for item in cluster_items:\n",
    "                users = self.item_user.get(item,[])\n",
    "                for user in users:\n",
    "                    f.write(str(user) + \"\\t\" + str(item) + \"\\n\")\n",
    "        f.close()\n",
    "        user_item = gl.SFrame.read_csv(user_item_file, header = True, delimiter = \"\\t\", column_type_hints=[long,str])\n",
    "        return (user_item)\n",
    "        \n",
    "        \n",
    "    def make_user_recommendations_selected_cluster(self, cluster_items, cluster_frame, flag):\n",
    "        top_5_item_recusers = dict()\n",
    "        top_10_item_recusers = dict()\n",
    "        top_15_item_recusers = dict()\n",
    "        top_20_item_recusers = dict()\n",
    "        model = gl.recommender.item_similarity_recommender.create(cluster_frame, user_id = 'userID', item_id = 'itemID')\n",
    "        recs_top_5_user_model = model.recommend(users = self.userlist, k = 5)\n",
    "        recs_top_10_user_model = model.recommend(users = self.userlist, k = 10)\n",
    "        recs_top_15_user_model = model.recommend(users = self.userlist, k = 15)\n",
    "        recs_top_20_user_model = model.recommend(users = self.userlist, k = 20)\n",
    "        sf_top_5 = recs_top_5_user_model.select_columns(['userID', 'itemID'])\n",
    "        sf_top_10 = recs_top_10_user_model.select_columns(['userID', 'itemID'])\n",
    "        sf_top_15 = recs_top_15_user_model.select_columns(['userID', 'itemID'])\n",
    "        sf_top_20 = recs_top_20_user_model.select_columns(['userID', 'itemID'])\n",
    "        p_top_5 = sf_top_5.to_dataframe()\n",
    "        p_top_10 = sf_top_10.to_dataframe()\n",
    "        p_top_15 = sf_top_15.to_dataframe()\n",
    "        p_top_20 = sf_top_20.to_dataframe()\n",
    "        path = 'C:/Vidit/PhD/RA Work/KZ - RA/Gaming Project/data/User-Item Recommender System/data'\n",
    "        if (flag == 'S'):\n",
    "            top_5 = path + '/star_user_top_5.txt'\n",
    "            top_10 = path + '/star_user_top_10.txt'\n",
    "            top_15 = path + '/star_user_top_15.txt'\n",
    "            top_20 = path + '/star_user_top_20.txt'\n",
    "        if (flag == 'M'):\n",
    "            top_5 = path + '/mid_user_top_5.txt'\n",
    "            top_10 = path + '/mid_user_top_10.txt'\n",
    "            top_15 = path + '/mid_user_top_15.txt'\n",
    "            top_20 = path + '/mid_user_top_20.txt'\n",
    "        if (flag == 'T'):\n",
    "            top_5 = path + '/tail_user_top_5.txt'\n",
    "            top_10 = path + '/tail_user_top_10.txt'\n",
    "            top_15 = path + '/tail_user_top_15.txt'\n",
    "            top_20 = path + '/tail_user_top_20.txt'\n",
    "        p_top_5.to_csv(top_5, header=None, index=None, sep=' ')\n",
    "        p_top_10.to_csv(top_10, header=None, index=None, sep=' ')\n",
    "        p_top_15.to_csv(top_15, header=None, index=None, sep=' ')\n",
    "        p_top_20.to_csv(top_20, header=None, index=None, sep=' ')\n",
    "        top_5_item_recusers = self.get_top_users(top_users = top_5)\n",
    "        top_10_item_recusers = self.get_top_users(top_users = top_10)\n",
    "        top_15_item_recusers = self.get_top_users(top_users = top_15)\n",
    "        top_20_item_recusers = self.get_top_users(top_users = top_20)\n",
    "        print(\"Accuracy for User-Item Collaborative Filtering Recommender System based on Top-5 similar users\")\n",
    "        self.get_accuracy_score(item_recusers = top_5_item_recusers, cluster_items = cluster_items)\n",
    "        print(\"Accuracy for User-Item Collaborative Filtering Recommender System based on Top-10 similar users\")\n",
    "        self.get_accuracy_score(item_recusers = top_10_item_recusers, cluster_items = cluster_items)\n",
    "        print(\"Accuracy for User-Item Collaborative Filtering Recommender System based on Top-15 similar users\")\n",
    "        self.get_accuracy_score(item_recusers = top_15_item_recusers, cluster_items = cluster_items)\n",
    "        print(\"Accuracy for User-Item Collaborative Filtering Recommender System based on Top-20 similar users\")\n",
    "        self.get_accuracy_score(item_recusers = top_20_item_recusers, cluster_items = cluster_items)\n",
    "        \n",
    "    def get_top_users(self,top_users):\n",
    "        top_item_recusers = dict()\n",
    "        with open(top_users) as uifile:  # list of recommended items\n",
    "            for line in uifile:\n",
    "                toks = line.strip().split(' ')\n",
    "                if len(toks) == 2:\n",
    "                    u, i = toks[0], toks[1]\n",
    "                    if i not in top_item_recusers:\n",
    "                        top_item_recusers[i] = []\n",
    "                    top_item_recusers[i].append(u)\n",
    "        return top_item_recusers\n",
    "    \n",
    "        \n",
    "    def get_accuracy_score(self, item_recusers, cluster_items):\n",
    "        count_2days = count_4days = count_10days = 0\n",
    "        for item in cluster_items:\n",
    "            counter_2days = counter_4days = counter_10days = 0\n",
    "            recommended_users = item_recusers.get(item,[])\n",
    "            for user in recommended_users:\n",
    "                new_items_2days = self.test2days_user_item.get(user,[])\n",
    "                new_items_4days = self.test4days_user_item.get(user,[])\n",
    "                new_items_10days = self.test10days_user_item.get(user,[])\n",
    "                if item in new_items_2days:\n",
    "                    counter_2days += 1\n",
    "                if item in new_items_4days:\n",
    "                    counter_4days += 1\n",
    "                if item in new_items_10days:\n",
    "                    counter_10days += 1        \n",
    "            if (counter_2days > 0):\n",
    "                count_2days += 1\n",
    "            if (counter_4days > 0):\n",
    "                count_4days += 1\n",
    "            if (counter_10days > 0):\n",
    "                count_10days += 1\n",
    "        print(\"For a 2-day testing period:\", count_2days/len(cluster_items))\n",
    "        print(\"For a 4-day testing period:\", count_4days/len(cluster_items))\n",
    "        print(\"For a 10-day testing period:\", count_10days/len(cluster_items))\n",
    "        \n",
    "    \n",
    "    def make_item_recommendations(self):\n",
    "        with open(dirpath + \"/rank_item_quantity_price_sales.txt\") as itemfile:  # pull the ranked items, and create clusters\n",
    "            for line in itemfile:\n",
    "                toks = line.strip().split(\"\\t\")\n",
    "                if len(toks) == 5:\n",
    "                    rank = int(toks[0])\n",
    "                    if rank <= 40:\n",
    "                        self.star_items.append(toks[1])\n",
    "                    elif rank > 40 and rank <= 98:\n",
    "                        self.mid_items.append(toks[1])\n",
    "                    else:\n",
    "                        self.tail_items.append(toks[1])\n",
    "        print(self.star_items)\n",
    "        print(self.mid_items)\n",
    "        print(self.tail_items)\n",
    "        self.star_user_item = self.create_cluster_files(cluster_items = self.star_items, flag = 'S')\n",
    "        self.mid_user_item = self.create_cluster_files(cluster_items = self.mid_items, flag = 'M')\n",
    "        self.tail_user_item = self.create_cluster_files(cluster_items = self.tail_items, flag = 'T')\n",
    "        print(\"\\nMaking Recommendations\\n\")\n",
    "        print(\"\\nAccuracy for Star Items\\n\")\n",
    "        self.make_user_recommendations_selected_cluster(cluster_items = self.star_items, cluster_frame = self.star_user_item, flag = 'S')\n",
    "        print(\"\\nAccuracy for Mid Items\\n\")\n",
    "        self.make_user_recommendations_selected_cluster(cluster_items = self.mid_items, cluster_frame = self.mid_user_item, flag = 'M')\n",
    "        print(\"\\nAccuracy for Long Tail Items\\n\")\n",
    "        self.make_user_recommendations_selected_cluster(cluster_items = self.tail_items, cluster_frame = self.tail_user_item, flag = 'T')       \n",
    "                                            \n",
    "filepath = 'C:/Vidit/PhD/RA Work/KZ - RA/Gaming Project/data/Files'\n",
    "\n",
    "def main():\n",
    "    rcf = Recommend_Collaborative_Filtering()\n",
    "    rcf.read_data(filepath)\n",
    "    rcf.make_item_recommendations()\n",
    "\n",
    "if __name__ == \"__main__\":\n",
    "    main()"
   ]
  },
  {
   "cell_type": "code",
   "execution_count": null,
   "metadata": {},
   "outputs": [],
   "source": [
    "import sys\n",
    "import os\n",
    "import random\n",
    "import numpy as np\n",
    "import pandas as pd\n",
    "from collections import Counter\n",
    "from __future__ import division\n",
    "from __future__ import print_function\n",
    "\n",
    "class Recommend_Collaborative_Filtering:\n",
    "    def __init__(self):\n",
    "        self.id_user = dict()\n",
    "        self.user_id = dict()\n",
    "        self.id_game = dict()\n",
    "        self.game_id = dict()\n",
    "        self.id_item = dict()\n",
    "        self.item_id = dict()\n",
    "        self.item_user = dict()\n",
    "        self.user_item = dict()\n",
    "        self.game_user = dict()\n",
    "        self.user_game = dict()\n",
    "        self.game_item = dict()\n",
    "        self.item_game = dict()\n",
    "        self.game_userlist = dict()\n",
    "        self.user_gamelist = dict()\n",
    "        self.game_itemlist = dict()\n",
    "        self.item_gamelist = dict()\n",
    "        self.user_itemlist = dict()\n",
    "        self.item_userlist = dict()\n",
    "        self.test2days_item_user = dict()\n",
    "        self.test2days_user_item = dict()\n",
    "        self.test4days_item_user = dict()\n",
    "        self.test4days_user_item = dict()\n",
    "        self.test10days_item_user = dict()\n",
    "        self.test10days_user_item = dict()\n",
    "        self.userlist = []\n",
    "        self.star_items = []\n",
    "        self.mid_items = []\n",
    "        self.tail_items = []\n",
    "\n",
    "    def read_data(self, dirpath):\n",
    "        with open(dirpath + \"/id_user.txt\") as udictfile:\n",
    "            for line in udictfile:\n",
    "                toks = line.strip().split(\"\\t\")\n",
    "                if len(toks) == 2:\n",
    "                    self.id_user[toks[0]] = toks[1].replace(\" \", \"\")    # {uid1: User1, uid2: User2....}\n",
    "                    self.user_id[toks[1]] = toks[0].replace(\" \", \"\")    # {User1: uid1, User2: uid2....}\n",
    "\n",
    "        print(\"#users\", len(self.id_user))\n",
    "\n",
    "        with open(dirpath + \"/id_game.txt\") as gdictfile:\n",
    "            for line in gdictfile:\n",
    "                toks = line.strip().split(\"\\t\")\n",
    "                if len(toks) == 2:\n",
    "                    self.id_game[toks[0]] = toks[1].replace(\" \", \"\")    # {33302: LoLsg, 33305: LoLmy....}\n",
    "                    self.game_id[toks[1]] = toks[0].replace(\" \", \"\")    # {LoLsg: 33302, LoLmy: 33305....}\n",
    "\n",
    "        print(\"#games\", len(self.id_game))\n",
    "        \n",
    "        with open(dirpath + \"/id_item.txt\") as idictfile:\n",
    "            for line in idictfile:\n",
    "                toks = line.strip().split(\"\\t\")\n",
    "                if len(toks) == 2:\n",
    "                    self.id_item[toks[0]] = toks[1].replace(\" \", \"\")    # {itemid1: Item1, itemid2: Item2....}\n",
    "                    self.item_id[toks[1]] = toks[0].replace(\" \", \"\")    # {Item1: itemid1, Item2: itemid2....}\n",
    "\n",
    "        print(\"#items\", len(self.id_item)) # comprehensive list of items\n",
    "\n",
    "        with open(dirpath + \"/game_user.txt\") as gufile:  # data pulled from user game activity for 20 days\n",
    "            for line in gufile:\n",
    "                toks = line.strip().split(\"\\t\")\n",
    "                if len(toks) == 2:\n",
    "                    g, u = toks[0], toks[1]\n",
    "                    if g not in self.game_user:\n",
    "                        self.game_user[g] = []\n",
    "                    self.game_user[g].append(u)   # {gameid1: [uid1,uid2,...], gameid2: [uid2,uid3,....]} = dict of list of users playing games\n",
    "                    if u not in self.user_game:\n",
    "                        self.user_game[u] = []\n",
    "                    self.user_game[u].append(g)   # {uid1: [gameid1,gameid2,...], uid2: [gameid2,gameid3,....]} = dict of list of games played by each user\n",
    "        \n",
    "        \n",
    "        with open(dirpath + \"/item_user.txt\") as iufile:  # list of all items purchased by users\n",
    "            for line in iufile:\n",
    "                toks = line.strip().split(\"\\t\")\n",
    "                if len(toks) == 2:\n",
    "                    i, u = toks[0], toks[1]\n",
    "                    if i not in self.item_user:\n",
    "                        self.item_user[i] = []\n",
    "                    self.item_user[i].append(u)   # {itemid1: [uid1,uid2,...], itemid2: [uid2,uid3,....]} = dict of list of users purchasing each item \n",
    "                    if u not in self.user_item:\n",
    "                        self.user_item[u] = []\n",
    "                    self.user_item[u].append(i)   # {uid1: [itemid1,itemid2,...], uid2: [itemd2,itemd3,....]} = dict of list of items purchased by each user\n",
    "        \n",
    "        \n",
    "        with open(dirpath + \"/item_game.txt\") as igfile:  # list of all in-game items\n",
    "            for line in igfile:\n",
    "                toks = line.strip().split(\"\\t\")\n",
    "                if len(toks) == 2:\n",
    "                    i, g = toks[0], toks[1]\n",
    "                    if i not in self.item_game:\n",
    "                        self.item_game[i] = []  \n",
    "                    self.item_game[i].append(g) # {itemid1: [gameid1,gameid2,...], itemid2: [gameid2,gameid3,....]} = list of items that got recommended. Every item can be in multiple games\n",
    "                    if g not in self.game_item:\n",
    "                        self.game_item[g] = []\n",
    "                    self.game_item[g].append(i) # {gameid1: [itemid1,itemid2,...], gameid2: [itemd2,itemd3,....]} = list of items available in-game for purchase\n",
    "        \n",
    "        with open(dirpath + \"/test2days_item_user.txt\") as iufile:  # list of all items purchased by users in 2 days of testing period\n",
    "            for line in iufile:\n",
    "                toks = line.strip().split(\"\\t\")\n",
    "                if len(toks) == 2:\n",
    "                    i, u = toks[0], toks[1]\n",
    "                    if i not in self.test2days_item_user:\n",
    "                        self.test2days_item_user[i] = []\n",
    "                    self.test2days_item_user[i].append(u)   # {itemid1: [uid1,uid2,...], itemid2: [uid2,uid3,....]} = dict of list of users purchasing each item \n",
    "                    if u not in self.test2days_user_item:\n",
    "                        self.test2days_user_item[u] = []\n",
    "                    self.test2days_user_item[u].append(i)   # {uid1: [itemid1,itemid2,...], uid2: [itemd2,itemd3,....]} = dict of list of items purchased by each user\n",
    "        print(\"No of users who bought items in first 2 days of test period:\", len(self.test2days_user_item))\n",
    "        \n",
    "        with open(dirpath + \"/test4days_item_user.txt\") as iufile:  # list of all items purchased by users in 4 days of testing period\n",
    "            for line in iufile:\n",
    "                toks = line.strip().split(\"\\t\")\n",
    "                if len(toks) == 2:\n",
    "                    i, u = toks[0], toks[1]\n",
    "                    if i not in self.test4days_item_user:\n",
    "                        self.test4days_item_user[i] = []\n",
    "                    self.test4days_item_user[i].append(u)   # {itemid1: [uid1,uid2,...], itemid2: [uid2,uid3,....]} = dict of list of users purchasing each item \n",
    "                    if u not in self.test4days_user_item:\n",
    "                        self.test4days_user_item[u] = []\n",
    "                    self.test4days_user_item[u].append(i)   # {uid1: [itemid1,itemid2,...], uid2: [itemd2,itemd3,....]} = dict of list of items purchased by each user\n",
    "        print(\"No of users who bought items in first 4 days of test period:\", len(self.test4days_user_item))\n",
    "        \n",
    "        with open(dirpath + \"/test10days_item_user.txt\") as iufile:  # list of all items purchased by users in 10 days of testing period\n",
    "            for line in iufile:\n",
    "                toks = line.strip().split(\"\\t\")\n",
    "                if len(toks) == 2:\n",
    "                    i, u = toks[0], toks[1]\n",
    "                    if i not in self.test10days_item_user:\n",
    "                        self.test10days_item_user[i] = []\n",
    "                    self.test10days_item_user[i].append(u)   # {itemid1: [uid1,uid2,...], itemid2: [uid2,uid3,....]} = dict of list of users purchasing each item \n",
    "                    if u not in self.test10days_user_item:\n",
    "                        self.test10days_user_item[u] = []\n",
    "                    self.test10days_user_item[u].append(i)   # {uid1: [itemid1,itemid2,...], uid2: [itemd2,itemd3,....]} = dict of list of items purchased by each user\n",
    "        print(\"No of users who bought items in first 10 days of test period:\", len(self.test10days_user_item))\n",
    "        \n",
    "        with open(dirpath + \"/selected_user.txt\") as sufile:  # pull the randomly selected users\n",
    "            for user in sufile:\n",
    "                self.userlist.append(user.strip())\n",
    "        \n",
    "    def make_user_recommendations_selected_cluster(self, cluster_items):\n",
    "        top_5_item_recusers = dict()\n",
    "        top_10_item_recusers = dict()\n",
    "        top_15_item_recusers = dict()\n",
    "        top_20_item_recusers = dict()\n",
    "        for item in cluster_items:\n",
    "            user_simscore = {}\n",
    "            temp_user_simscore = dict()\n",
    "            users = self.item_user.get(item,[])\n",
    "            if (users != []):\n",
    "                for user1 in users:\n",
    "                    items1 = set(self.user_item.get(user1,[]))\n",
    "                    games1 = set(self.user_game.get(user1,[]))\n",
    "                    for user2 in self.userlist:\n",
    "                        items2 = set(self.user_item.get(user2,[]))\n",
    "                        games2 = set(self.user_game.get(user2,[]))\n",
    "                        if (user1 == user2): continue\n",
    "                        if item not in items2:\n",
    "                            mutual_games = len(games1 & games2)\n",
    "                            total_games = len(games1 | games2)\n",
    "                            if (total_games > 0):\n",
    "                                user_similarity_score = mutual_games/total_games\n",
    "                            else:\n",
    "                                user_similarity_score = 0\n",
    "                            if user2 not in temp_user_simscore:\n",
    "                                temp_user_simscore[user2] = []\n",
    "                            temp_user_simscore[user2].append(user_similarity_score)\n",
    "                for user in temp_user_simscore:\n",
    "                    user_sim_values = temp_user_simscore[user]\n",
    "                    user_simscore[user] = max(user_sim_values)\n",
    "            sorted_user_simscore = sorted(user_simscore.items(), key=lambda x: x[1], reverse = True)\n",
    "            top_5_item_recusers[item] = [user for user,_ in sorted_user_simscore[0:5]]\n",
    "            top_10_item_recusers[item] = [user for user,_ in sorted_user_simscore[0:10]]\n",
    "            top_15_item_recusers[item] = [user for user,_ in sorted_user_simscore[0:15]]\n",
    "            top_20_item_recusers[item] = [user for user,_ in sorted_user_simscore[0:20]]\n",
    "        print(\"Accuracy for User-Item Collaborative Filtering Recommender System based on Top-5 similar users\")\n",
    "        self.get_accuracy_score(item_recusers = top_5_item_recusers, cluster_items = cluster_items)\n",
    "        print(\"Accuracy for User-Item Collaborative Filtering Recommender System based on Top-10 similar users\")\n",
    "        self.get_accuracy_score(item_recusers = top_10_item_recusers, cluster_items = cluster_items)\n",
    "        print(\"Accuracy for User-Item Collaborative Filtering Recommender System based on Top-15 similar users\")\n",
    "        self.get_accuracy_score(item_recusers = top_15_item_recusers, cluster_items = cluster_items)\n",
    "        print(\"Accuracy for User-Item Collaborative Filtering Recommender System based on Top-20 similar users\")\n",
    "        self.get_accuracy_score(item_recusers = top_20_item_recusers, cluster_items = cluster_items)\n",
    "    \n",
    "        \n",
    "    def get_accuracy_score(self, item_recusers, cluster_items):\n",
    "        count_2days = count_4days = count_10days = 0\n",
    "        for item in cluster_items:\n",
    "            counter_2days = counter_4days = counter_10days = 0\n",
    "            recommended_users = item_recusers.get(item,[])\n",
    "            for user in recommended_users:\n",
    "                new_items_2days = self.test2days_user_item.get(user,[])\n",
    "                new_items_4days = self.test4days_user_item.get(user,[])\n",
    "                new_items_10days = self.test10days_user_item.get(user,[])\n",
    "                if item in new_items_2days:\n",
    "                    counter_2days += 1\n",
    "                if item in new_items_4days:\n",
    "                    counter_4days += 1\n",
    "                if item in new_items_10days:\n",
    "                    counter_10days += 1        \n",
    "            if (counter_2days > 0):\n",
    "                count_2days += 1\n",
    "            if (counter_4days > 0):\n",
    "                count_4days += 1\n",
    "            if (counter_10days > 0):\n",
    "                count_10days += 1\n",
    "        print(\"For a 2-day testing period:\", count_2days/len(cluster_items))\n",
    "        print(\"For a 4-day testing period:\", count_4days/len(cluster_items))\n",
    "        print(\"For a 10-day testing period:\", count_10days/len(cluster_items))\n",
    "        \n",
    "    \n",
    "    def make_item_recommendations(self):\n",
    "        with open(dirpath + \"/rank_item_quantity_price_sales.txt\") as itemfile:  # pull the ranked items, and create clusters\n",
    "            for line in itemfile:\n",
    "                toks = line.strip().split(\"\\t\")\n",
    "                if len(toks) == 5:\n",
    "                    rank = int(toks[0])\n",
    "                    if rank <= 40:\n",
    "                        self.star_items.append(toks[1])\n",
    "                    elif rank > 40 and rank <= 98:\n",
    "                        self.mid_items.append(toks[1])\n",
    "                    else:\n",
    "                        self.tail_items.append(toks[1])\n",
    "        print(self.star_items)\n",
    "        print(self.mid_items)\n",
    "        print(self.tail_items)\n",
    "        print(\"\\nMaking Recommendations\\n\")\n",
    "        print(\"\\nAccuracy for Star Items\\n\")\n",
    "        self.make_user_recommendations_selected_cluster(cluster_items = self.star_items)\n",
    "        print(\"\\nAccuracy for Mid Items\\n\")\n",
    "        self.make_user_recommendations_selected_cluster(cluster_items = self.mid_items)\n",
    "        print(\"\\nAccuracy for Long Tail Items\\n\")\n",
    "        self.make_user_recommendations_selected_cluster(cluster_items = self.tail_items)       \n",
    "                                            \n",
    "dirpath = 'C:/Vidit/PhD/RA Work/KZ - RA/Gaming Project/data/Files'\n",
    "\n",
    "def main():\n",
    "    rcf = Recommend_Collaborative_Filtering()\n",
    "    rcf.read_data(dirpath)\n",
    "    rcf.make_item_recommendations()\n",
    "\n",
    "if __name__ == \"__main__\":\n",
    "    main()"
   ]
  },
  {
   "cell_type": "code",
   "execution_count": null,
   "metadata": {},
   "outputs": [],
   "source": [
    "import sys\n",
    "import os\n",
    "import random\n",
    "import numpy as np\n",
    "import pandas as pd\n",
    "from collections import Counter\n",
    "from __future__ import division\n",
    "from __future__ import print_function\n",
    "\n",
    "class Recommend_Collaborative_Filtering:\n",
    "    def __init__(self):\n",
    "        self.id_user = dict()\n",
    "        self.user_id = dict()\n",
    "        self.id_game = dict()\n",
    "        self.game_id = dict()\n",
    "        self.id_item = dict()\n",
    "        self.item_id = dict()\n",
    "        self.item_user = dict()\n",
    "        self.user_item = dict()\n",
    "        self.game_user = dict()\n",
    "        self.user_game = dict()\n",
    "        self.game_item = dict()\n",
    "        self.item_game = dict()\n",
    "        self.game_userlist = dict()\n",
    "        self.user_gamelist = dict()\n",
    "        self.game_itemlist = dict()\n",
    "        self.item_gamelist = dict()\n",
    "        self.user_itemlist = dict()\n",
    "        self.item_userlist = dict()\n",
    "        self.test2days_item_user = dict()\n",
    "        self.test2days_user_item = dict()\n",
    "        self.test4days_item_user = dict()\n",
    "        self.test4days_user_item = dict()\n",
    "        self.test10days_item_user = dict()\n",
    "        self.test10days_user_item = dict()\n",
    "        self.userlist = []\n",
    "        self.star_items = []\n",
    "        self.mid_items = []\n",
    "        self.tail_items = []\n",
    "\n",
    "    def read_data(self, dirpath):\n",
    "        with open(dirpath + \"/id_user.txt\") as udictfile:\n",
    "            for line in udictfile:\n",
    "                toks = line.strip().split(\"\\t\")\n",
    "                if len(toks) == 2:\n",
    "                    self.id_user[toks[0]] = toks[1].replace(\" \", \"\")    # {uid1: User1, uid2: User2....}\n",
    "                    self.user_id[toks[1]] = toks[0].replace(\" \", \"\")    # {User1: uid1, User2: uid2....}\n",
    "\n",
    "        print(\"#users\", len(self.id_user))\n",
    "\n",
    "        with open(dirpath + \"/id_game.txt\") as gdictfile:\n",
    "            for line in gdictfile:\n",
    "                toks = line.strip().split(\"\\t\")\n",
    "                if len(toks) == 2:\n",
    "                    self.id_game[toks[0]] = toks[1].replace(\" \", \"\")    # {33302: LoLsg, 33305: LoLmy....}\n",
    "                    self.game_id[toks[1]] = toks[0].replace(\" \", \"\")    # {LoLsg: 33302, LoLmy: 33305....}\n",
    "\n",
    "        print(\"#games\", len(self.id_game))\n",
    "        \n",
    "        with open(dirpath + \"/id_item.txt\") as idictfile:\n",
    "            for line in idictfile:\n",
    "                toks = line.strip().split(\"\\t\")\n",
    "                if len(toks) == 2:\n",
    "                    self.id_item[toks[0]] = toks[1].replace(\" \", \"\")    # {itemid1: Item1, itemid2: Item2....}\n",
    "                    self.item_id[toks[1]] = toks[0].replace(\" \", \"\")    # {Item1: itemid1, Item2: itemid2....}\n",
    "\n",
    "        print(\"#items\", len(self.id_item)) # comprehensive list of items\n",
    "\n",
    "        with open(dirpath + \"/game_user.txt\") as gufile:  # data pulled from user game activity for 20 days\n",
    "            for line in gufile:\n",
    "                toks = line.strip().split(\"\\t\")\n",
    "                if len(toks) == 2:\n",
    "                    g, u = toks[0], toks[1]\n",
    "                    if g not in self.game_user:\n",
    "                        self.game_user[g] = []\n",
    "                    self.game_user[g].append(u)   # {gameid1: [uid1,uid2,...], gameid2: [uid2,uid3,....]} = dict of list of users playing games\n",
    "                    if u not in self.user_game:\n",
    "                        self.user_game[u] = []\n",
    "                    self.user_game[u].append(g)   # {uid1: [gameid1,gameid2,...], uid2: [gameid2,gameid3,....]} = dict of list of games played by each user\n",
    "        \n",
    "        \n",
    "        with open(dirpath + \"/item_user.txt\") as iufile:  # list of all items purchased by users\n",
    "            for line in iufile:\n",
    "                toks = line.strip().split(\"\\t\")\n",
    "                if len(toks) == 2:\n",
    "                    i, u = toks[0], toks[1]\n",
    "                    if i not in self.item_user:\n",
    "                        self.item_user[i] = []\n",
    "                    self.item_user[i].append(u)   # {itemid1: [uid1,uid2,...], itemid2: [uid2,uid3,....]} = dict of list of users purchasing each item \n",
    "                    if u not in self.user_item:\n",
    "                        self.user_item[u] = []\n",
    "                    self.user_item[u].append(i)   # {uid1: [itemid1,itemid2,...], uid2: [itemd2,itemd3,....]} = dict of list of items purchased by each user\n",
    "        \n",
    "        \n",
    "        with open(dirpath + \"/item_game.txt\") as igfile:  # list of all in-game items\n",
    "            for line in igfile:\n",
    "                toks = line.strip().split(\"\\t\")\n",
    "                if len(toks) == 2:\n",
    "                    i, g = toks[0], toks[1]\n",
    "                    if i not in self.item_game:\n",
    "                        self.item_game[i] = []  \n",
    "                    self.item_game[i].append(g) # {itemid1: [gameid1,gameid2,...], itemid2: [gameid2,gameid3,....]} = list of items that got recommended. Every item can be in multiple games\n",
    "                    if g not in self.game_item:\n",
    "                        self.game_item[g] = []\n",
    "                    self.game_item[g].append(i) # {gameid1: [itemid1,itemid2,...], gameid2: [itemd2,itemd3,....]} = list of items available in-game for purchase\n",
    "        \n",
    "        with open(dirpath + \"/test2days_item_user.txt\") as iufile:  # list of all items purchased by users in 2 days of testing period\n",
    "            for line in iufile:\n",
    "                toks = line.strip().split(\"\\t\")\n",
    "                if len(toks) == 2:\n",
    "                    i, u = toks[0], toks[1]\n",
    "                    if i not in self.test2days_item_user:\n",
    "                        self.test2days_item_user[i] = []\n",
    "                    self.test2days_item_user[i].append(u)   # {itemid1: [uid1,uid2,...], itemid2: [uid2,uid3,....]} = dict of list of users purchasing each item \n",
    "                    if u not in self.test2days_user_item:\n",
    "                        self.test2days_user_item[u] = []\n",
    "                    self.test2days_user_item[u].append(i)   # {uid1: [itemid1,itemid2,...], uid2: [itemd2,itemd3,....]} = dict of list of items purchased by each user\n",
    "        print(\"No of users who bought items in first 2 days of test period:\", len(self.test2days_user_item))\n",
    "        \n",
    "        with open(dirpath + \"/test4days_item_user.txt\") as iufile:  # list of all items purchased by users in 4 days of testing period\n",
    "            for line in iufile:\n",
    "                toks = line.strip().split(\"\\t\")\n",
    "                if len(toks) == 2:\n",
    "                    i, u = toks[0], toks[1]\n",
    "                    if i not in self.test4days_item_user:\n",
    "                        self.test4days_item_user[i] = []\n",
    "                    self.test4days_item_user[i].append(u)   # {itemid1: [uid1,uid2,...], itemid2: [uid2,uid3,....]} = dict of list of users purchasing each item \n",
    "                    if u not in self.test4days_user_item:\n",
    "                        self.test4days_user_item[u] = []\n",
    "                    self.test4days_user_item[u].append(i)   # {uid1: [itemid1,itemid2,...], uid2: [itemd2,itemd3,....]} = dict of list of items purchased by each user\n",
    "        print(\"No of users who bought items in first 4 days of test period:\", len(self.test4days_user_item))\n",
    "        \n",
    "        with open(dirpath + \"/test10days_item_user.txt\") as iufile:  # list of all items purchased by users in 10 days of testing period\n",
    "            for line in iufile:\n",
    "                toks = line.strip().split(\"\\t\")\n",
    "                if len(toks) == 2:\n",
    "                    i, u = toks[0], toks[1]\n",
    "                    if i not in self.test10days_item_user:\n",
    "                        self.test10days_item_user[i] = []\n",
    "                    self.test10days_item_user[i].append(u)   # {itemid1: [uid1,uid2,...], itemid2: [uid2,uid3,....]} = dict of list of users purchasing each item \n",
    "                    if u not in self.test10days_user_item:\n",
    "                        self.test10days_user_item[u] = []\n",
    "                    self.test10days_user_item[u].append(i)   # {uid1: [itemid1,itemid2,...], uid2: [itemd2,itemd3,....]} = dict of list of items purchased by each user\n",
    "        print(\"No of users who bought items in first 10 days of test period:\", len(self.test10days_user_item))\n",
    "        \n",
    "        with open(dirpath + \"/selected_user.txt\") as sufile:  # pull the randomly selected users\n",
    "            for user in sufile:\n",
    "                self.userlist.append(user.strip())\n",
    "        \n",
    "    def make_user_recommendations_selected_cluster(self, cluster_items):\n",
    "        top_5_item_recusers = dict()\n",
    "        top_10_item_recusers = dict()\n",
    "        top_15_item_recusers = dict()\n",
    "        top_20_item_recusers = dict()\n",
    "        for item in cluster_items:\n",
    "            user_simscore = {}\n",
    "            temp_user_simscore = dict()\n",
    "            users = self.item_user.get(item,[])\n",
    "            if (users != []):\n",
    "                for user1 in users:\n",
    "                    items1 = set(self.user_item.get(user1,[]))\n",
    "                    games1 = set(self.user_game.get(user1,[]))\n",
    "                    for user2 in self.userlist:\n",
    "                        items2 = set(self.user_item.get(user2,[]))\n",
    "                        games2 = set(self.user_game.get(user2,[]))\n",
    "                        if (user1 == user2): continue\n",
    "                        if item not in items2:\n",
    "                            mutual_games = len(games1 & games2)\n",
    "                            total_games = len(games1 | games2)\n",
    "                            if (total_games > 0):\n",
    "                                user_similarity_score = mutual_games/total_games\n",
    "                            else:\n",
    "                                user_similarity_score = 0\n",
    "                            if user2 not in temp_user_simscore:\n",
    "                                temp_user_simscore[user2] = []\n",
    "                            temp_user_simscore[user2].append(user_similarity_score)\n",
    "                for user in temp_user_simscore:\n",
    "                    user_sim_values = temp_user_simscore[user]\n",
    "                    user_simscore[user] = max(user_sim_values)\n",
    "            sorted_user_simscore = sorted(user_simscore.items(), key=lambda x: x[1], reverse = True)\n",
    "            top_5_item_recusers[item] = [user for user,_ in sorted_user_simscore[0:5]]\n",
    "            top_10_item_recusers[item] = [user for user,_ in sorted_user_simscore[0:10]]\n",
    "            top_15_item_recusers[item] = [user for user,_ in sorted_user_simscore[0:15]]\n",
    "            top_20_item_recusers[item] = [user for user,_ in sorted_user_simscore[0:20]]\n",
    "        print(\"Accuracy for User-Item Collaborative Filtering Recommender System based on Top-5 similar users\")\n",
    "        self.get_accuracy_score(item_recusers = top_5_item_recusers, cluster_items = cluster_items)\n",
    "        print(\"Accuracy for User-Item Collaborative Filtering Recommender System based on Top-10 similar users\")\n",
    "        self.get_accuracy_score(item_recusers = top_10_item_recusers, cluster_items = cluster_items)\n",
    "        print(\"Accuracy for User-Item Collaborative Filtering Recommender System based on Top-15 similar users\")\n",
    "        self.get_accuracy_score(item_recusers = top_15_item_recusers, cluster_items = cluster_items)\n",
    "        print(\"Accuracy for User-Item Collaborative Filtering Recommender System based on Top-20 similar users\")\n",
    "        self.get_accuracy_score(item_recusers = top_20_item_recusers, cluster_items = cluster_items)\n",
    "    \n",
    "        \n",
    "    def get_accuracy_score(self, item_recusers, cluster_items):\n",
    "        count_2days = count_4days = count_10days = 0\n",
    "        for item in cluster_items:\n",
    "            counter_2days = counter_4days = counter_10days = 0\n",
    "            recommended_users = item_recusers.get(item,[])\n",
    "            for user in recommended_users:\n",
    "                new_items_2days = self.test2days_user_item.get(user,[])\n",
    "                new_items_4days = self.test4days_user_item.get(user,[])\n",
    "                new_items_10days = self.test10days_user_item.get(user,[])\n",
    "                if item in new_items_2days:\n",
    "                    counter_2days += 1\n",
    "                if item in new_items_4days:\n",
    "                    counter_4days += 1\n",
    "                if item in new_items_10days:\n",
    "                    counter_10days += 1        \n",
    "            if (counter_2days > 0):\n",
    "                count_2days += 1\n",
    "            if (counter_4days > 0):\n",
    "                count_4days += 1\n",
    "            if (counter_10days > 0):\n",
    "                count_10days += 1\n",
    "        print(\"For a 2-day testing period:\", count_2days/len(cluster_items))\n",
    "        print(\"For a 4-day testing period:\", count_4days/len(cluster_items))\n",
    "        print(\"For a 10-day testing period:\", count_10days/len(cluster_items))\n",
    "        \n",
    "    \n",
    "    def make_item_recommendations(self):\n",
    "        with open(dirpath + \"/rank_item_quantity_price_sales.txt\") as itemfile:  # pull the ranked items, and create clusters\n",
    "            for line in itemfile:\n",
    "                toks = line.strip().split(\"\\t\")\n",
    "                if len(toks) == 5:\n",
    "                    rank = int(toks[0])\n",
    "                    if rank <= 40:\n",
    "                        self.star_items.append(toks[1])\n",
    "                    else:\n",
    "                        self.tail_items.append(toks[1])\n",
    "        print(self.star_items)\n",
    "        print(self.tail_items)\n",
    "        print(\"\\nMaking Recommendations\\n\")\n",
    "        print(\"\\nAccuracy for Star Items\\n\")\n",
    "        self.make_user_recommendations_selected_cluster(cluster_items = self.star_items)\n",
    "        print(\"\\nAccuracy for Long Tail Items\\n\")\n",
    "        self.make_user_recommendations_selected_cluster(cluster_items = self.tail_items)      \n",
    "                                            \n",
    "dirpath = 'C:/Vidit/PhD/RA Work/KZ - RA/Gaming Project/data/Files'\n",
    "\n",
    "def main():\n",
    "    rcf = Recommend_Collaborative_Filtering()\n",
    "    rcf.read_data(dirpath)\n",
    "    rcf.make_item_recommendations()\n",
    "\n",
    "if __name__ == \"__main__\":\n",
    "    main()"
   ]
  },
  {
   "cell_type": "code",
   "execution_count": null,
   "metadata": {},
   "outputs": [],
   "source": []
  }
 ],
 "metadata": {
  "kernelspec": {
   "display_name": "Python [conda env:py27]",
   "language": "python",
   "name": "conda-env-py27-py"
  },
  "language_info": {
   "codemirror_mode": {
    "name": "ipython",
    "version": 2
   },
   "file_extension": ".py",
   "mimetype": "text/x-python",
   "name": "python",
   "nbconvert_exporter": "python",
   "pygments_lexer": "ipython2",
   "version": "2.7.15"
  }
 },
 "nbformat": 4,
 "nbformat_minor": 2
}
